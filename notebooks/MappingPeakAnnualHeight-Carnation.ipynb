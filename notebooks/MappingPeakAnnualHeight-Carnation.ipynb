{
 "cells": [
  {
   "cell_type": "markdown",
   "metadata": {
    "slideshow": {
     "slide_type": "-"
    }
   },
   "source": [
    "# Mapping Peak Annual Gage Height/Flow - Carnation\n",
    "## Load from USGS\n",
    "Source:\n",
    "https://nwis.waterdata.usgs.gov/wa/nwis/peak?site_no=12149000&agency_cd=USGS&format=rdb"
   ]
  },
  {
   "cell_type": "code",
   "execution_count": 1,
   "metadata": {
    "collapsed": false,
    "jupyter": {
     "outputs_hidden": false
    }
   },
   "outputs": [
    {
     "data": {
      "text/html": [
       "<div>\n",
       "<style scoped>\n",
       "    .dataframe tbody tr th:only-of-type {\n",
       "        vertical-align: middle;\n",
       "    }\n",
       "\n",
       "    .dataframe tbody tr th {\n",
       "        vertical-align: top;\n",
       "    }\n",
       "\n",
       "    .dataframe thead th {\n",
       "        text-align: right;\n",
       "    }\n",
       "</style>\n",
       "<table border=\"1\" class=\"dataframe\">\n",
       "  <thead>\n",
       "    <tr style=\"text-align: right;\">\n",
       "      <th></th>\n",
       "      <th>agency_cd</th>\n",
       "      <th>site_no</th>\n",
       "      <th>peak_dt</th>\n",
       "      <th>peak_tm</th>\n",
       "      <th>peak_va</th>\n",
       "      <th>peak_cd</th>\n",
       "      <th>gage_ht</th>\n",
       "      <th>gage_ht_cd</th>\n",
       "      <th>year_last_pk</th>\n",
       "      <th>ag_dt</th>\n",
       "      <th>ag_tm</th>\n",
       "      <th>ag_gage_ht</th>\n",
       "      <th>ag_gage_ht_cd</th>\n",
       "    </tr>\n",
       "  </thead>\n",
       "  <tbody>\n",
       "    <tr>\n",
       "      <th>1</th>\n",
       "      <td>USGS</td>\n",
       "      <td>12149000</td>\n",
       "      <td>1929-12-14</td>\n",
       "      <td>NaN</td>\n",
       "      <td>14800</td>\n",
       "      <td>NaN</td>\n",
       "      <td>7.62</td>\n",
       "      <td>3</td>\n",
       "      <td>NaN</td>\n",
       "      <td>NaN</td>\n",
       "      <td>NaN</td>\n",
       "      <td>NaN</td>\n",
       "      <td>NaN</td>\n",
       "    </tr>\n",
       "    <tr>\n",
       "      <th>2</th>\n",
       "      <td>USGS</td>\n",
       "      <td>12149000</td>\n",
       "      <td>1931-01-28</td>\n",
       "      <td>NaN</td>\n",
       "      <td>27400</td>\n",
       "      <td>NaN</td>\n",
       "      <td>10.51</td>\n",
       "      <td>3</td>\n",
       "      <td>NaN</td>\n",
       "      <td>NaN</td>\n",
       "      <td>NaN</td>\n",
       "      <td>NaN</td>\n",
       "      <td>NaN</td>\n",
       "    </tr>\n",
       "    <tr>\n",
       "      <th>3</th>\n",
       "      <td>USGS</td>\n",
       "      <td>12149000</td>\n",
       "      <td>1932-02-27</td>\n",
       "      <td>NaN</td>\n",
       "      <td>59500</td>\n",
       "      <td>NaN</td>\n",
       "      <td>NaN</td>\n",
       "      <td>NaN</td>\n",
       "      <td>NaN</td>\n",
       "      <td>NaN</td>\n",
       "      <td>NaN</td>\n",
       "      <td>NaN</td>\n",
       "      <td>NaN</td>\n",
       "    </tr>\n",
       "    <tr>\n",
       "      <th>4</th>\n",
       "      <td>USGS</td>\n",
       "      <td>12149000</td>\n",
       "      <td>1932-11-13</td>\n",
       "      <td>NaN</td>\n",
       "      <td>59000</td>\n",
       "      <td>NaN</td>\n",
       "      <td>NaN</td>\n",
       "      <td>NaN</td>\n",
       "      <td>NaN</td>\n",
       "      <td>NaN</td>\n",
       "      <td>NaN</td>\n",
       "      <td>NaN</td>\n",
       "      <td>NaN</td>\n",
       "    </tr>\n",
       "    <tr>\n",
       "      <th>5</th>\n",
       "      <td>USGS</td>\n",
       "      <td>12149000</td>\n",
       "      <td>1933-11-03</td>\n",
       "      <td>NaN</td>\n",
       "      <td>48700</td>\n",
       "      <td>NaN</td>\n",
       "      <td>15.83</td>\n",
       "      <td>3</td>\n",
       "      <td>NaN</td>\n",
       "      <td>NaN</td>\n",
       "      <td>NaN</td>\n",
       "      <td>NaN</td>\n",
       "      <td>NaN</td>\n",
       "    </tr>\n",
       "  </tbody>\n",
       "</table>\n",
       "</div>"
      ],
      "text/plain": [
       "  agency_cd   site_no     peak_dt peak_tm peak_va peak_cd gage_ht gage_ht_cd  \\\n",
       "1      USGS  12149000  1929-12-14     NaN   14800     NaN    7.62          3   \n",
       "2      USGS  12149000  1931-01-28     NaN   27400     NaN   10.51          3   \n",
       "3      USGS  12149000  1932-02-27     NaN   59500     NaN     NaN        NaN   \n",
       "4      USGS  12149000  1932-11-13     NaN   59000     NaN     NaN        NaN   \n",
       "5      USGS  12149000  1933-11-03     NaN   48700     NaN   15.83          3   \n",
       "\n",
       "  year_last_pk ag_dt ag_tm ag_gage_ht ag_gage_ht_cd  \n",
       "1          NaN   NaN   NaN        NaN           NaN  \n",
       "2          NaN   NaN   NaN        NaN           NaN  \n",
       "3          NaN   NaN   NaN        NaN           NaN  \n",
       "4          NaN   NaN   NaN        NaN           NaN  \n",
       "5          NaN   NaN   NaN        NaN           NaN  "
      ]
     },
     "execution_count": 1,
     "metadata": {},
     "output_type": "execute_result"
    }
   ],
   "source": [
    "import pandas as pd\n",
    "import numpy as np\n",
    "from datetime import timedelta\n",
    "\n",
    "url = 'https://nwis.waterdata.usgs.gov/wa/nwis/peak?site_no=12149000&agency_cd=USGS&format=rdb'\n",
    "df0 = pd.read_csv(url,comment='#',delimiter='\\t')\n",
    "df0 = df0.drop(0) # drop data type row\n",
    "df0.head(5)"
   ]
  },
  {
   "cell_type": "markdown",
   "metadata": {},
   "source": [
    "## Fix Up Data"
   ]
  },
  {
   "cell_type": "code",
   "execution_count": 2,
   "metadata": {
    "collapsed": false,
    "jupyter": {
     "outputs_hidden": false
    }
   },
   "outputs": [
    {
     "data": {
      "text/html": [
       "<div>\n",
       "<style scoped>\n",
       "    .dataframe tbody tr th:only-of-type {\n",
       "        vertical-align: middle;\n",
       "    }\n",
       "\n",
       "    .dataframe tbody tr th {\n",
       "        vertical-align: top;\n",
       "    }\n",
       "\n",
       "    .dataframe thead th {\n",
       "        text-align: right;\n",
       "    }\n",
       "</style>\n",
       "<table border=\"1\" class=\"dataframe\">\n",
       "  <thead>\n",
       "    <tr style=\"text-align: right;\">\n",
       "      <th></th>\n",
       "      <th>water_year</th>\n",
       "      <th>peak_va</th>\n",
       "      <th>gage_ht</th>\n",
       "    </tr>\n",
       "  </thead>\n",
       "  <tbody>\n",
       "    <tr>\n",
       "      <th>1</th>\n",
       "      <td>1930</td>\n",
       "      <td>14800</td>\n",
       "      <td>7.62</td>\n",
       "    </tr>\n",
       "    <tr>\n",
       "      <th>2</th>\n",
       "      <td>1931</td>\n",
       "      <td>27400</td>\n",
       "      <td>10.51</td>\n",
       "    </tr>\n",
       "    <tr>\n",
       "      <th>3</th>\n",
       "      <td>1932</td>\n",
       "      <td>59500</td>\n",
       "      <td>NaN</td>\n",
       "    </tr>\n",
       "    <tr>\n",
       "      <th>4</th>\n",
       "      <td>1933</td>\n",
       "      <td>59000</td>\n",
       "      <td>NaN</td>\n",
       "    </tr>\n",
       "    <tr>\n",
       "      <th>5</th>\n",
       "      <td>1934</td>\n",
       "      <td>48700</td>\n",
       "      <td>15.83</td>\n",
       "    </tr>\n",
       "  </tbody>\n",
       "</table>\n",
       "</div>"
      ],
      "text/plain": [
       "   water_year  peak_va  gage_ht\n",
       "1        1930    14800     7.62\n",
       "2        1931    27400    10.51\n",
       "3        1932    59500      NaN\n",
       "4        1933    59000      NaN\n",
       "5        1934    48700    15.83"
      ]
     },
     "execution_count": 2,
     "metadata": {},
     "output_type": "execute_result"
    }
   ],
   "source": [
    "# Calculate water year\n",
    "df0['peak_dt'] = pd.to_datetime(df0['peak_dt'])\n",
    "df0['water_year']=(df0['peak_dt'] + timedelta(days=92)).apply(lambda x: int(x.year))\n",
    "\n",
    "# fix up datatypes\n",
    "df0['gage_ht'] = df0['gage_ht'].apply(pd.to_numeric)\n",
    "df0['peak_va'] = df0['peak_va'].apply(pd.to_numeric)\n",
    "\n",
    "# Remove first 10 rows for Carnation. Gage hight changes to modern scale in 1940.\n",
    "df = df0.loc[:,['water_year','peak_va','gage_ht']]\n",
    "df.head(5)"
   ]
  },
  {
   "cell_type": "markdown",
   "metadata": {},
   "source": [
    "## Add in 2022 "
   ]
  },
  {
   "cell_type": "code",
   "execution_count": 3,
   "metadata": {
    "collapsed": false,
    "jupyter": {
     "outputs_hidden": false
    }
   },
   "outputs": [
    {
     "name": "stderr",
     "output_type": "stream",
     "text": [
      "/var/folders/7d/mngrr_516hd2614y74lctr_80000gn/T/ipykernel_12145/1627136759.py:4: FutureWarning: The frame.append method is deprecated and will be removed from pandas in a future version. Use pandas.concat instead.\n",
      "  df = df.append(df_2022, ignore_index=True)\n"
     ]
    },
    {
     "data": {
      "text/html": [
       "<div>\n",
       "<style scoped>\n",
       "    .dataframe tbody tr th:only-of-type {\n",
       "        vertical-align: middle;\n",
       "    }\n",
       "\n",
       "    .dataframe tbody tr th {\n",
       "        vertical-align: top;\n",
       "    }\n",
       "\n",
       "    .dataframe thead th {\n",
       "        text-align: right;\n",
       "    }\n",
       "</style>\n",
       "<table border=\"1\" class=\"dataframe\">\n",
       "  <thead>\n",
       "    <tr style=\"text-align: right;\">\n",
       "      <th></th>\n",
       "      <th>water_year</th>\n",
       "      <th>peak_va</th>\n",
       "      <th>gage_ht</th>\n",
       "    </tr>\n",
       "  </thead>\n",
       "  <tbody>\n",
       "    <tr>\n",
       "      <th>88</th>\n",
       "      <td>2018</td>\n",
       "      <td>27800.0</td>\n",
       "      <td>56.08</td>\n",
       "    </tr>\n",
       "    <tr>\n",
       "      <th>89</th>\n",
       "      <td>2019</td>\n",
       "      <td>20100.0</td>\n",
       "      <td>53.91</td>\n",
       "    </tr>\n",
       "    <tr>\n",
       "      <th>90</th>\n",
       "      <td>2020</td>\n",
       "      <td>49200.0</td>\n",
       "      <td>58.72</td>\n",
       "    </tr>\n",
       "    <tr>\n",
       "      <th>91</th>\n",
       "      <td>2021</td>\n",
       "      <td>25200.0</td>\n",
       "      <td>55.26</td>\n",
       "    </tr>\n",
       "    <tr>\n",
       "      <th>92</th>\n",
       "      <td>2022</td>\n",
       "      <td>46900.0</td>\n",
       "      <td>58.73</td>\n",
       "    </tr>\n",
       "  </tbody>\n",
       "</table>\n",
       "</div>"
      ],
      "text/plain": [
       "    water_year  peak_va  gage_ht\n",
       "88        2018  27800.0    56.08\n",
       "89        2019  20100.0    53.91\n",
       "90        2020  49200.0    58.72\n",
       "91        2021  25200.0    55.26\n",
       "92        2022  46900.0    58.73"
      ]
     },
     "execution_count": 3,
     "metadata": {},
     "output_type": "execute_result"
    }
   ],
   "source": [
    "from datetime import date\n",
    "df_2022 = pd.DataFrame([[2022,46900.0,58.73]], \n",
    "                       columns=['water_year','peak_va','gage_ht'])\n",
    "df = df.append(df_2022, ignore_index=True)\n",
    "df.tail(5)"
   ]
  },
  {
   "cell_type": "markdown",
   "metadata": {},
   "source": [
    "## Mann_Kendall\n",
    "From source: https://mail.scipy.org/pipermail/scipy-dev/2016-July/021413.html\n",
    "\n",
    ">This function is derived from code originally posted by Sat Kumar Tomer (satkumartomer at gmail.com)\n",
    "See also: http://vsp.pnnl.gov/help/Vsample/Design_Trend_Mann_Kendall.htm\n",
    "\n",
    ">The purpose of the Mann-Kendall (MK) test (Mann 1945, Kendall 1975, Gilbert 1987) is to statistically \n",
    "assess if there is a monotonic upward or downward trend of the variable of interest over time. A \n",
    "monotonic upward (downward) trend means that the variable consistently increases (decreases) through \n",
    "time, but the trend may or may not be linear. The MK test can be used in place of a parametric linear \n",
    "regression analysis, which can be used to test if the slope of the estimated linear regression line \n",
    "is different from zero. The regression analysis requires that the residuals from the fitted regression \n",
    "line be normally distributed; an assumption not required by the MK test, that is, the MK test is a \n",
    "non-parametric (distribution-free) test.\n",
    "\n",
    ">Hirsch, Slack and Smith (1982, page 107) indicate that the MK test is best viewed as an exploratory \n",
    "analysis and is most appropriately used to identify stations where changes are significant or of large \n",
    "magnitude and to quantify these findings.\n"
   ]
  },
  {
   "cell_type": "code",
   "execution_count": 4,
   "metadata": {},
   "outputs": [],
   "source": [
    "from scipy import stats\n",
    "from scipy.stats import norm\n",
    "\n",
    "def mk_test(x, alpha = 0.05):\n",
    "    \"\"\"\n",
    "    Input:\n",
    "        x:   a vector of data\n",
    "        alpha: significance level (0.05 default)\n",
    "\n",
    "    Output:\n",
    "        trend: tells the trend (increasing, decreasing or no trend)\n",
    "        h: True (if trend is present) or False (if trend is absence)\n",
    "        p: p value of the significance test\n",
    "        z: normalized test statistics\n",
    "\n",
    "    Examples\n",
    "    --------\n",
    "      >>> x = np.random.rand(100)\n",
    "      >>> trend,h,p,z = mk_test(x,0.05)\n",
    "    \"\"\"\n",
    "    n = len(x)\n",
    "\n",
    "    # calculate S\n",
    "    s = 0\n",
    "    for k in range(n-1):\n",
    "        for j in range(k+1,n):\n",
    "            s += np.sign(x[j] - x[k])\n",
    "\n",
    "    # calculate the unique data\n",
    "    unique_x = np.unique(x)\n",
    "    g = len(unique_x)\n",
    "\n",
    "    # calculate the var(s)\n",
    "    if n == g: # there is no tie\n",
    "        var_s = (n*(n-1)*(2*n+5))/18\n",
    "    else: # there are some ties in data\n",
    "        tp = np.zeros(unique_x.shape)\n",
    "        for i in range(len(unique_x)):\n",
    "            tp[i] = sum(unique_x[i] == x)\n",
    "        var_s = (n*(n-1)*(2*n+5) + np.sum(tp*(tp-1)*(2*tp+5)))/18\n",
    "\n",
    "    if s>0:\n",
    "        z = (s - 1)/np.sqrt(var_s)\n",
    "    elif s == 0:\n",
    "            z = 0\n",
    "    elif s<0:\n",
    "        z = (s + 1)/np.sqrt(var_s)\n",
    "\n",
    "    # calculate the p_value\n",
    "    p = 2*(1-norm.cdf(abs(z))) # two tail test\n",
    "    h = abs(z) > norm.ppf(1-alpha/2)\n",
    "\n",
    "    if (z<0) and h:\n",
    "        trend = 'decreasing'\n",
    "    elif (z>0) and h:\n",
    "        trend = 'increasing'\n",
    "    else:\n",
    "        trend = 'no trend'\n",
    "\n",
    "    return trend, h, p, z"
   ]
  },
  {
   "cell_type": "markdown",
   "metadata": {},
   "source": [
    "## Plot function"
   ]
  },
  {
   "cell_type": "code",
   "execution_count": 5,
   "metadata": {
    "collapsed": false,
    "jupyter": {
     "outputs_hidden": false
    }
   },
   "outputs": [],
   "source": [
    "%matplotlib inline\n",
    "import matplotlib.pyplot as plt\n",
    "from scipy import stats\n",
    "\n",
    "from pylab import rcParams\n",
    "rcParams['figure.figsize'] = 10,5\n",
    "\n",
    "def plot_data(x_data, y_data, x_label, y_label, point_label):\n",
    "    plt.scatter(x_data,y_data,\n",
    "                color='blue', marker='o', label=point_label)\n",
    "\n",
    "    plt.xlabel(x_label)\n",
    "    plt.ylabel(y_label)\n",
    "\n",
    "    slope, intercept, r_value, p_value, std_err = stats.linregress(x_data,y_data)\n",
    "\n",
    "    def func(x, a, b):\n",
    "        return a*x + b\n",
    "\n",
    "    plt.plot(x_data, func(x_data, slope, intercept), 'r-', label='fit',color='green')\n",
    "\n",
    "    plt.legend(loc='upper left')\n",
    "\n",
    "    plt.show()\n",
    "\n",
    "    over_10_years = round(slope*10,2);\n",
    "    print('slope  ',slope, ' (', over_10_years, ' every 10 years)', sep=\"\")\n",
    "    print('p_value ', p_value)\n",
    "    print('r_value ', r_value)\n",
    "    print('std_err ', std_err)\n",
    "\n",
    "\n",
    "    critical_value = 1.664 #http://stattrek.com/regression/slope-confidence-interval.aspx?Tutorial=AP\n",
    "    conf_interval = critical_value * std_err\n",
    "    conf_over_10_years = round(conf_interval*10,2)\n",
    "    print('conv_interval ', conf_interval, ' (+/-',conf_over_10_years,' over 10 years - 90% conf, ',\n",
    "          over_10_years - conf_over_10_years, ' - ', \n",
    "          over_10_years + conf_over_10_years, ')', sep=\"\")\n",
    "    #    Mann-Kendall Output:\n",
    "    #        trend: tells the trend (increasing, decreasing or no trend)\n",
    "    #        h: True (if trend is present) or False (if trend is absence)\n",
    "    #        p: p value of the significance test\n",
    "    #        z: normalized test statistics\n",
    "    def display_mk_test(data, alpha):\n",
    "        mk = mk_test(data,alpha)\n",
    "        print('Mann-Kendall test: ', int(100*(1-alpha)),'%', sep='')\n",
    "        print('  slope:', mk[0])\n",
    "        print('      h:', 'Monotonic trend is present' if mk[1] else 'No monottonic trend')\n",
    "        print('      p:', mk[2])\n",
    "        print('      z:', mk[3])\n",
    "        return mk\n",
    "    s,h,p,z = display_mk_test(y_data.values,0.1)\n",
    "    if h: s,h,p,z = display_mk_test(y_data.values,0.05)\n",
    "    if h: s,h,p,z = display_mk_test(y_data.values,0.01)"
   ]
  },
  {
   "cell_type": "markdown",
   "metadata": {},
   "source": [
    "## Plots\n",
    "Scatter plot of water_year and gage measures with least-squares linear regression fit line. \n",
    "### Max Gage Height \n",
    "From 1940, the first year the gage height was set to the current datum (1929 NGVD), through 2016."
   ]
  },
  {
   "cell_type": "code",
   "execution_count": 6,
   "metadata": {
    "collapsed": false,
    "jupyter": {
     "outputs_hidden": false
    }
   },
   "outputs": [
    {
     "name": "stderr",
     "output_type": "stream",
     "text": [
      "/var/folders/7d/mngrr_516hd2614y74lctr_80000gn/T/ipykernel_12145/305832758.py:20: UserWarning: color is redundantly defined by the 'color' keyword argument and the fmt string \"r-\" (-> color='r'). The keyword argument will take precedence.\n",
      "  plt.plot(x_data, func(x_data, slope, intercept), 'r-', label='fit',color='green')\n"
     ]
    },
    {
     "data": {
      "image/png": "[encoded data removed]",
      "text/plain": [
       "<Figure size 720x360 with 1 Axes>"
      ]
     },
     "metadata": {
      "needs_background": "light"
     },
     "output_type": "display_data"
    },
    {
     "name": "stdout",
     "output_type": "stream",
     "text": [
      "slope  0.033347676419965555 (0.33 every 10 years)\n",
      "p_value  0.007005084001470711\n",
      "r_value  0.2938810084374688\n",
      "std_err  0.012051404490121525\n",
      "conv_interval 0.020053537071562218 (+/-0.2 over 10 years - 90% conf, 0.13 - 0.53)\n",
      "Mann-Kendall test: 90%\n",
      "  slope: increasing\n",
      "      h: Monotonic trend is present\n",
      "      p: 0.0065788792178811395\n",
      "      z: 2.7174414605573074\n",
      "Mann-Kendall test: 95%\n",
      "  slope: increasing\n",
      "      h: Monotonic trend is present\n",
      "      p: 0.0065788792178811395\n",
      "      z: 2.7174414605573074\n",
      "Mann-Kendall test: 99%\n",
      "  slope: increasing\n",
      "      h: Monotonic trend is present\n",
      "      p: 0.0065788792178811395\n",
      "      z: 2.7174414605573074\n"
     ]
    }
   ],
   "source": [
    "x_data = df[df['water_year']>=1940]['water_year']\n",
    "y_data = df[df['water_year']>=1940]['gage_ht']\n",
    "plot_data(x_data, y_data, 'water year', 'gage hight (ft)', 'Snoq @ Carn')"
   ]
  },
  {
   "cell_type": "markdown",
   "metadata": {},
   "source": [
    "### Gage Flow (all data)\n",
    "From 1930 through 2016."
   ]
  },
  {
   "cell_type": "code",
   "execution_count": 7,
   "metadata": {
    "collapsed": false,
    "jupyter": {
     "outputs_hidden": false
    }
   },
   "outputs": [
    {
     "name": "stderr",
     "output_type": "stream",
     "text": [
      "/var/folders/7d/mngrr_516hd2614y74lctr_80000gn/T/ipykernel_12145/305832758.py:20: UserWarning: color is redundantly defined by the 'color' keyword argument and the fmt string \"r-\" (-> color='r'). The keyword argument will take precedence.\n",
      "  plt.plot(x_data, func(x_data, slope, intercept), 'r-', label='fit',color='green')\n"
     ]
    },
    {
     "data": {
      "image/png": "[encoded data removed]",
      "text/plain": [
       "<Figure size 720x360 with 1 Axes>"
      ]
     },
     "metadata": {
      "needs_background": "light"
     },
     "output_type": "display_data"
    },
    {
     "name": "stdout",
     "output_type": "stream",
     "text": [
      "slope  86.1567843394706 (861.57 every 10 years)\n",
      "p_value  0.13973888975507928\n",
      "r_value  0.1543014709144523\n",
      "std_err  57.831722944322465\n",
      "conv_interval 96.23198697935258 (+/-962.32 over 10 years - 90% conf, -100.75 - 1823.89)\n",
      "Mann-Kendall test: 90%\n",
      "  slope: no trend\n",
      "      h: No monottonic trend\n",
      "      p: 0.18000063360677432\n",
      "      z: 1.340753082820409\n"
     ]
    }
   ],
   "source": [
    "x_data = df['water_year']\n",
    "y_data = df['peak_va']\n",
    "\n",
    "plot_data(x_data, y_data, 'water year', 'flow (cfs)', 'Snoq @ Carn')"
   ]
  },
  {
   "cell_type": "markdown",
   "metadata": {},
   "source": [
    "### Gage Flow (1934 on)\n",
    "From 1934 through 2016."
   ]
  },
  {
   "cell_type": "code",
   "execution_count": 8,
   "metadata": {
    "collapsed": false,
    "jupyter": {
     "outputs_hidden": false
    }
   },
   "outputs": [
    {
     "name": "stderr",
     "output_type": "stream",
     "text": [
      "/var/folders/7d/mngrr_516hd2614y74lctr_80000gn/T/ipykernel_12145/305832758.py:20: UserWarning: color is redundantly defined by the 'color' keyword argument and the fmt string \"r-\" (-> color='r'). The keyword argument will take precedence.\n",
      "  plt.plot(x_data, func(x_data, slope, intercept), 'r-', label='fit',color='green')\n"
     ]
    },
    {
     "data": {
      "image/png": "[encoded data removed]",
      "text/plain": [
       "<Figure size 720x360 with 1 Axes>"
      ]
     },
     "metadata": {
      "needs_background": "light"
     },
     "output_type": "display_data"
    },
    {
     "name": "stdout",
     "output_type": "stream",
     "text": [
      "slope  117.03779366700714 (1170.38 every 10 years)\n",
      "p_value  0.054254315885387816\n",
      "r_value  0.20475572628436994\n",
      "std_err  59.98328114793195\n",
      "conv_interval 99.81217983015875 (+/-998.12 over 10 years - 90% conf, 172.2600000000001 - 2168.5)\n",
      "Mann-Kendall test: 90%\n",
      "  slope: no trend\n",
      "      h: No monottonic trend\n",
      "      p: 0.10159221561294296\n",
      "      z: 1.637183107359133\n"
     ]
    }
   ],
   "source": [
    "x_data = df[df['water_year']>=1934]['water_year']\n",
    "y_data = df[df['water_year']>=1934]['peak_va']\n",
    "\n",
    "plot_data(x_data, y_data, 'water year', 'flow (cfs)', 'Snoq @ Carn')"
   ]
  },
  {
   "cell_type": "markdown",
   "metadata": {},
   "source": [
    "### Max Gage Flow (2 year buckets)"
   ]
  },
  {
   "cell_type": "code",
   "execution_count": 9,
   "metadata": {
    "collapsed": false,
    "jupyter": {
     "outputs_hidden": false
    }
   },
   "outputs": [
    {
     "name": "stderr",
     "output_type": "stream",
     "text": [
      "/var/folders/7d/mngrr_516hd2614y74lctr_80000gn/T/ipykernel_12145/305832758.py:20: UserWarning: color is redundantly defined by the 'color' keyword argument and the fmt string \"r-\" (-> color='r'). The keyword argument will take precedence.\n",
      "  plt.plot(x_data, func(x_data, slope, intercept), 'r-', label='fit',color='green')\n"
     ]
    },
    {
     "data": {
      "image/png": "[encoded data removed]",
      "text/plain": [
       "<Figure size 720x360 with 1 Axes>"
      ]
     },
     "metadata": {
      "needs_background": "light"
     },
     "output_type": "display_data"
    },
    {
     "name": "stdout",
     "output_type": "stream",
     "text": [
      "slope  179.61396099771449 (1796.14 every 10 years)\n",
      "p_value  0.014827654347718823\n",
      "r_value  0.3533744932417983\n",
      "std_err  70.88168683297029\n",
      "conv_interval 117.94712689006255 (+/-1179.47 over 10 years - 90% conf, 616.6700000000001 - 2975.61)\n",
      "Mann-Kendall test: 90%\n",
      "  slope: increasing\n",
      "      h: Monotonic trend is present\n",
      "      p: 0.023535644376987408\n",
      "      z: 2.264625929048882\n",
      "Mann-Kendall test: 95%\n",
      "  slope: increasing\n",
      "      h: Monotonic trend is present\n",
      "      p: 0.023535644376987408\n",
      "      z: 2.264625929048882\n",
      "Mann-Kendall test: 99%\n",
      "  slope: no trend\n",
      "      h: No monottonic trend\n",
      "      p: 0.023535644376987408\n",
      "      z: 2.264625929048882\n"
     ]
    }
   ],
   "source": [
    "df['two_year'] = (df['water_year']/2).apply(int)*2\n",
    "max = df.groupby('two_year').max()\n",
    "x_data = max['water_year']\n",
    "y_data = max['peak_va']\n",
    "\n",
    "plot_data(x_data, y_data, 'water year', 'flow (cfs)', 'Snoq @ Carn')"
   ]
  },
  {
   "cell_type": "markdown",
   "metadata": {},
   "source": [
    "## Data Table"
   ]
  },
  {
   "cell_type": "code",
   "execution_count": 10,
   "metadata": {
    "collapsed": false,
    "jupyter": {
     "outputs_hidden": false
    }
   },
   "outputs": [
    {
     "data": {
      "text/html": [
       "<div>\n",
       "<style scoped>\n",
       "    .dataframe tbody tr th:only-of-type {\n",
       "        vertical-align: middle;\n",
       "    }\n",
       "\n",
       "    .dataframe tbody tr th {\n",
       "        vertical-align: top;\n",
       "    }\n",
       "\n",
       "    .dataframe thead th {\n",
       "        text-align: right;\n",
       "    }\n",
       "</style>\n",
       "<table border=\"1\" class=\"dataframe\">\n",
       "  <thead>\n",
       "    <tr style=\"text-align: right;\">\n",
       "      <th></th>\n",
       "      <th>water_year</th>\n",
       "      <th>peak_va</th>\n",
       "      <th>gage_ht</th>\n",
       "      <th>two_year</th>\n",
       "    </tr>\n",
       "  </thead>\n",
       "  <tbody>\n",
       "    <tr>\n",
       "      <th>0</th>\n",
       "      <td>1930</td>\n",
       "      <td>14800.0</td>\n",
       "      <td>7.62</td>\n",
       "      <td>1930</td>\n",
       "    </tr>\n",
       "    <tr>\n",
       "      <th>1</th>\n",
       "      <td>1931</td>\n",
       "      <td>27400.0</td>\n",
       "      <td>10.51</td>\n",
       "      <td>1930</td>\n",
       "    </tr>\n",
       "    <tr>\n",
       "      <th>2</th>\n",
       "      <td>1932</td>\n",
       "      <td>59500.0</td>\n",
       "      <td>NaN</td>\n",
       "      <td>1932</td>\n",
       "    </tr>\n",
       "    <tr>\n",
       "      <th>3</th>\n",
       "      <td>1933</td>\n",
       "      <td>59000.0</td>\n",
       "      <td>NaN</td>\n",
       "      <td>1932</td>\n",
       "    </tr>\n",
       "    <tr>\n",
       "      <th>4</th>\n",
       "      <td>1934</td>\n",
       "      <td>48700.0</td>\n",
       "      <td>15.83</td>\n",
       "      <td>1934</td>\n",
       "    </tr>\n",
       "    <tr>\n",
       "      <th>...</th>\n",
       "      <td>...</td>\n",
       "      <td>...</td>\n",
       "      <td>...</td>\n",
       "      <td>...</td>\n",
       "    </tr>\n",
       "    <tr>\n",
       "      <th>88</th>\n",
       "      <td>2018</td>\n",
       "      <td>27800.0</td>\n",
       "      <td>56.08</td>\n",
       "      <td>2018</td>\n",
       "    </tr>\n",
       "    <tr>\n",
       "      <th>89</th>\n",
       "      <td>2019</td>\n",
       "      <td>20100.0</td>\n",
       "      <td>53.91</td>\n",
       "      <td>2018</td>\n",
       "    </tr>\n",
       "    <tr>\n",
       "      <th>90</th>\n",
       "      <td>2020</td>\n",
       "      <td>49200.0</td>\n",
       "      <td>58.72</td>\n",
       "      <td>2020</td>\n",
       "    </tr>\n",
       "    <tr>\n",
       "      <th>91</th>\n",
       "      <td>2021</td>\n",
       "      <td>25200.0</td>\n",
       "      <td>55.26</td>\n",
       "      <td>2020</td>\n",
       "    </tr>\n",
       "    <tr>\n",
       "      <th>92</th>\n",
       "      <td>2022</td>\n",
       "      <td>46900.0</td>\n",
       "      <td>58.73</td>\n",
       "      <td>2022</td>\n",
       "    </tr>\n",
       "  </tbody>\n",
       "</table>\n",
       "<p>93 rows × 4 columns</p>\n",
       "</div>"
      ],
      "text/plain": [
       "    water_year  peak_va  gage_ht  two_year\n",
       "0         1930  14800.0     7.62      1930\n",
       "1         1931  27400.0    10.51      1930\n",
       "2         1932  59500.0      NaN      1932\n",
       "3         1933  59000.0      NaN      1932\n",
       "4         1934  48700.0    15.83      1934\n",
       "..         ...      ...      ...       ...\n",
       "88        2018  27800.0    56.08      2018\n",
       "89        2019  20100.0    53.91      2018\n",
       "90        2020  49200.0    58.72      2020\n",
       "91        2021  25200.0    55.26      2020\n",
       "92        2022  46900.0    58.73      2022\n",
       "\n",
       "[93 rows x 4 columns]"
      ]
     },
     "execution_count": 10,
     "metadata": {},
     "output_type": "execute_result"
    }
   ],
   "source": [
    "df"
   ]
  }
 ],
 "metadata": {
  "kernelspec": {
   "display_name": "Python 3 (ipykernel)",
   "language": "python",
   "name": "python3"
  },
  "language_info": {
   "codemirror_mode": {
    "name": "ipython",
    "version": 3
   },
   "file_extension": ".py",
   "mimetype": "text/x-python",
   "name": "python",
   "nbconvert_exporter": "python",
   "pygments_lexer": "ipython3",
   "version": "3.8.9"
  },
  "vscode": {
   "interpreter": {
    "hash": "20bf69066c0dd38d51965b69d5e1b6e387082e3198ba56e97997ac55f4e50ad0"
   }
  },
  "widgets": {
   "application/vnd.jupyter.widget-state+json": {
    "state": {},
    "version_major": 1,
    "version_minor": 0
   }
  }
 },
 "nbformat": 4,
 "nbformat_minor": 4
}
