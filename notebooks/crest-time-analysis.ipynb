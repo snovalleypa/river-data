{
 "cells": [
  {
   "cell_type": "code",
   "execution_count": 1,
   "metadata": {},
   "outputs": [
    {
     "data": {
      "text/html": [
       "<div>\n",
       "<style scoped>\n",
       "    .dataframe tbody tr th:only-of-type {\n",
       "        vertical-align: middle;\n",
       "    }\n",
       "\n",
       "    .dataframe tbody tr th {\n",
       "        vertical-align: top;\n",
       "    }\n",
       "\n",
       "    .dataframe thead th {\n",
       "        text-align: right;\n",
       "    }\n",
       "</style>\n",
       "<table border=\"1\" class=\"dataframe\">\n",
       "  <thead>\n",
       "    <tr style=\"text-align: right;\">\n",
       "      <th></th>\n",
       "      <th>id</th>\n",
       "      <th>eventName</th>\n",
       "      <th>fromDate</th>\n",
       "      <th>toDate</th>\n",
       "    </tr>\n",
       "  </thead>\n",
       "  <tbody>\n",
       "    <tr>\n",
       "      <th>0</th>\n",
       "      <td>30</td>\n",
       "      <td>2022 - March</td>\n",
       "      <td>2022-02-28T00:00:00</td>\n",
       "      <td>2022-03-06T00:00:00</td>\n",
       "    </tr>\n",
       "    <tr>\n",
       "      <th>1</th>\n",
       "      <td>29</td>\n",
       "      <td>2022 - January 21st</td>\n",
       "      <td>2022-01-20T00:00:00</td>\n",
       "      <td>2022-01-22T00:00:00</td>\n",
       "    </tr>\n",
       "    <tr>\n",
       "      <th>2</th>\n",
       "      <td>28</td>\n",
       "      <td>2022 - January 13th</td>\n",
       "      <td>2022-01-11T00:00:00</td>\n",
       "      <td>2022-01-15T00:00:00</td>\n",
       "    </tr>\n",
       "    <tr>\n",
       "      <th>3</th>\n",
       "      <td>26</td>\n",
       "      <td>2022 - January 7th</td>\n",
       "      <td>2022-01-06T00:00:00</td>\n",
       "      <td>2022-01-09T00:00:00</td>\n",
       "    </tr>\n",
       "    <tr>\n",
       "      <th>4</th>\n",
       "      <td>25</td>\n",
       "      <td>2021 - November</td>\n",
       "      <td>2021-11-11T00:00:00</td>\n",
       "      <td>2021-11-18T00:00:00</td>\n",
       "    </tr>\n",
       "    <tr>\n",
       "      <th>5</th>\n",
       "      <td>24</td>\n",
       "      <td>2021 - October</td>\n",
       "      <td>2021-10-28T00:00:00</td>\n",
       "      <td>2021-10-31T00:00:00</td>\n",
       "    </tr>\n",
       "    <tr>\n",
       "      <th>6</th>\n",
       "      <td>34</td>\n",
       "      <td>2021 - February</td>\n",
       "      <td>2021-02-21T00:00:00</td>\n",
       "      <td>2021-02-25T00:00:00</td>\n",
       "    </tr>\n",
       "    <tr>\n",
       "      <th>7</th>\n",
       "      <td>23</td>\n",
       "      <td>2021 - January</td>\n",
       "      <td>2021-01-12T00:00:00</td>\n",
       "      <td>2021-01-15T00:00:00</td>\n",
       "    </tr>\n",
       "    <tr>\n",
       "      <th>8</th>\n",
       "      <td>22</td>\n",
       "      <td>2020 - February 7th</td>\n",
       "      <td>2020-02-04T00:00:00</td>\n",
       "      <td>2020-02-13T00:00:00</td>\n",
       "    </tr>\n",
       "    <tr>\n",
       "      <th>9</th>\n",
       "      <td>20</td>\n",
       "      <td>2020 - February 1st</td>\n",
       "      <td>2020-01-31T00:00:00</td>\n",
       "      <td>2020-02-05T00:00:00</td>\n",
       "    </tr>\n",
       "    <tr>\n",
       "      <th>10</th>\n",
       "      <td>19</td>\n",
       "      <td>2020 - January</td>\n",
       "      <td>2020-01-06T00:00:00</td>\n",
       "      <td>2020-01-11T00:00:00</td>\n",
       "    </tr>\n",
       "    <tr>\n",
       "      <th>11</th>\n",
       "      <td>18</td>\n",
       "      <td>2019 - December</td>\n",
       "      <td>2019-12-20T00:00:00</td>\n",
       "      <td>2019-12-24T00:00:00</td>\n",
       "    </tr>\n",
       "    <tr>\n",
       "      <th>12</th>\n",
       "      <td>13</td>\n",
       "      <td>2019 - October</td>\n",
       "      <td>2019-10-21T00:00:00</td>\n",
       "      <td>2019-10-25T00:00:00</td>\n",
       "    </tr>\n",
       "  </tbody>\n",
       "</table>\n",
       "</div>"
      ],
      "text/plain": [
       "    id            eventName             fromDate               toDate\n",
       "0   30         2022 - March  2022-02-28T00:00:00  2022-03-06T00:00:00\n",
       "1   29  2022 - January 21st  2022-01-20T00:00:00  2022-01-22T00:00:00\n",
       "2   28  2022 - January 13th  2022-01-11T00:00:00  2022-01-15T00:00:00\n",
       "3   26   2022 - January 7th  2022-01-06T00:00:00  2022-01-09T00:00:00\n",
       "4   25      2021 - November  2021-11-11T00:00:00  2021-11-18T00:00:00\n",
       "5   24       2021 - October  2021-10-28T00:00:00  2021-10-31T00:00:00\n",
       "6   34      2021 - February  2021-02-21T00:00:00  2021-02-25T00:00:00\n",
       "7   23       2021 - January  2021-01-12T00:00:00  2021-01-15T00:00:00\n",
       "8   22  2020 - February 7th  2020-02-04T00:00:00  2020-02-13T00:00:00\n",
       "9   20  2020 - February 1st  2020-01-31T00:00:00  2020-02-05T00:00:00\n",
       "10  19       2020 - January  2020-01-06T00:00:00  2020-01-11T00:00:00\n",
       "11  18      2019 - December  2019-12-20T00:00:00  2019-12-24T00:00:00\n",
       "12  13       2019 - October  2019-10-21T00:00:00  2019-10-25T00:00:00"
      ]
     },
     "execution_count": 1,
     "metadata": {},
     "output_type": "execute_result"
    }
   ],
   "source": [
    "import pandas as pd\n",
    "import numpy as np\n",
    "import glob\n",
    "import os\n",
    "from pathlib import Path\n",
    "import requests\n",
    "import json\n",
    "\n",
    "response = requests.get(\"https://floodzilla.com/api/client/APIGetLocationInfo?regionId=1\")\n",
    "gauges = response.json()\n",
    "gauges_df = pd.DataFrame(gauges)\n",
    "gauges_df['riverMile'] = gauges_df['id'].str.extract(r'([0-9]+)', expand=True).astype(int)\n",
    "\n",
    "carn = next(g for g in gauges if g['id'] == \"USGS-22\")\n",
    "floods_df = pd.DataFrame(carn['floodEvents'])\n",
    "floods_df"
   ]
  },
  {
   "cell_type": "code",
   "execution_count": 23,
   "metadata": {},
   "outputs": [
    {
     "name": "stdout",
     "output_type": "stream",
     "text": [
      "skipped SVPA-34 2022 - January 21st\n",
      "skipped SVPA-37 2022 - January 7th\n",
      "skipped SVPA-37 2021 - January\n",
      "skipped SVPA-34 2021 - January\n",
      "skipped SVPA-26 2021 - January\n",
      "skipped SVPA-26 2020 - February 7th\n",
      "skipped SVPA-17 2020 - February 7th\n",
      "skipped SVPA-26 2020 - February 1st\n",
      "skipped SVPA-17 2020 - February 1st\n",
      "skipped SVPA-34 2019 - December\n",
      "skipped SVPA-26 2019 - October\n"
     ]
    },
    {
     "data": {
      "text/html": [
       "<div>\n",
       "<style scoped>\n",
       "    .dataframe tbody tr th:only-of-type {\n",
       "        vertical-align: middle;\n",
       "    }\n",
       "\n",
       "    .dataframe tbody tr th {\n",
       "        vertical-align: top;\n",
       "    }\n",
       "\n",
       "    .dataframe thead th {\n",
       "        text-align: right;\n",
       "    }\n",
       "</style>\n",
       "<table border=\"1\" class=\"dataframe\">\n",
       "  <thead>\n",
       "    <tr style=\"text-align: right;\">\n",
       "      <th></th>\n",
       "      <th>id</th>\n",
       "      <th>timestamp</th>\n",
       "      <th>waterHeight</th>\n",
       "      <th>waterDischarge</th>\n",
       "      <th>flood</th>\n",
       "      <th>gaugeId</th>\n",
       "      <th>gaugeName</th>\n",
       "      <th>riverMile</th>\n",
       "      <th>prePeakWaterHeight</th>\n",
       "      <th>prePeakTimestamp</th>\n",
       "    </tr>\n",
       "  </thead>\n",
       "  <tbody>\n",
       "    <tr>\n",
       "      <th>442</th>\n",
       "      <td>1392798</td>\n",
       "      <td>2022-03-01 01:15:00</td>\n",
       "      <td>15.76</td>\n",
       "      <td>4550.0</td>\n",
       "      <td>2022 - March</td>\n",
       "      <td>USGS-SF17</td>\n",
       "      <td>South Fork</td>\n",
       "      <td>17</td>\n",
       "      <td>15.64</td>\n",
       "      <td>2022-03-01 00:30:00</td>\n",
       "    </tr>\n",
       "    <tr>\n",
       "      <th>442</th>\n",
       "      <td>1392793</td>\n",
       "      <td>2022-03-01 01:15:00</td>\n",
       "      <td>12.03</td>\n",
       "      <td>18500.0</td>\n",
       "      <td>2022 - March</td>\n",
       "      <td>USGS-MF11</td>\n",
       "      <td>Middle Fork</td>\n",
       "      <td>11</td>\n",
       "      <td>11.93</td>\n",
       "      <td>2022-03-01 00:15:00</td>\n",
       "    </tr>\n",
       "    <tr>\n",
       "      <th>446</th>\n",
       "      <td>1392686</td>\n",
       "      <td>2022-02-28 23:30:00</td>\n",
       "      <td>10.70</td>\n",
       "      <td>10500.0</td>\n",
       "      <td>2022 - March</td>\n",
       "      <td>USGS-NF10</td>\n",
       "      <td>North Fork</td>\n",
       "      <td>10</td>\n",
       "      <td>10.58</td>\n",
       "      <td>2022-02-28 23:15:00</td>\n",
       "    </tr>\n",
       "    <tr>\n",
       "      <th>413</th>\n",
       "      <td>1393252</td>\n",
       "      <td>2022-03-01 08:00:00</td>\n",
       "      <td>16.91</td>\n",
       "      <td>38500.0</td>\n",
       "      <td>2022 - March</td>\n",
       "      <td>USGS-38</td>\n",
       "      <td>Below the Falls</td>\n",
       "      <td>38</td>\n",
       "      <td>16.80</td>\n",
       "      <td>2022-03-01 07:45:00</td>\n",
       "    </tr>\n",
       "    <tr>\n",
       "      <th>388</th>\n",
       "      <td>1393330</td>\n",
       "      <td>2022-03-01 09:15:06</td>\n",
       "      <td>94.47</td>\n",
       "      <td>NaN</td>\n",
       "      <td>2022 - March</td>\n",
       "      <td>SVPA-37</td>\n",
       "      <td>Sno Falls Golf</td>\n",
       "      <td>37</td>\n",
       "      <td>94.37</td>\n",
       "      <td>2022-03-01 07:15:06</td>\n",
       "    </tr>\n",
       "  </tbody>\n",
       "</table>\n",
       "</div>"
      ],
      "text/plain": [
       "          id           timestamp  waterHeight  waterDischarge         flood  \\\n",
       "442  1392798 2022-03-01 01:15:00        15.76          4550.0  2022 - March   \n",
       "442  1392793 2022-03-01 01:15:00        12.03         18500.0  2022 - March   \n",
       "446  1392686 2022-02-28 23:30:00        10.70         10500.0  2022 - March   \n",
       "413  1393252 2022-03-01 08:00:00        16.91         38500.0  2022 - March   \n",
       "388  1393330 2022-03-01 09:15:06        94.47             NaN  2022 - March   \n",
       "\n",
       "       gaugeId        gaugeName  riverMile  prePeakWaterHeight  \\\n",
       "442  USGS-SF17       South Fork         17               15.64   \n",
       "442  USGS-MF11      Middle Fork         11               11.93   \n",
       "446  USGS-NF10       North Fork         10               10.58   \n",
       "413    USGS-38  Below the Falls         38               16.80   \n",
       "388    SVPA-37   Sno Falls Golf         37               94.37   \n",
       "\n",
       "       prePeakTimestamp  \n",
       "442 2022-03-01 00:30:00  \n",
       "442 2022-03-01 00:15:00  \n",
       "446 2022-02-28 23:15:00  \n",
       "413 2022-03-01 07:45:00  \n",
       "388 2022-03-01 07:15:06  "
      ]
     },
     "execution_count": 23,
     "metadata": {},
     "output_type": "execute_result"
    }
   ],
   "source": [
    "with open('../data_files//historic-crest-overrides.json') as f:\n",
    "   overrides = json.load(f)\n",
    "\n",
    "crests=[]\n",
    "for fi,flood in floods_df.iterrows():\n",
    "    for index,gauge in gauges_df.iterrows():\n",
    "        if gauge['id'] in overrides and flood['eventName'] in overrides[gauge['id']]['overrides']:\n",
    "            print(\"skipped\", gauge['id'], flood['eventName'])\n",
    "            continue\n",
    "        url = 'https://prodplanreadingsvc.azurewebsites.net/api/GetGageReadingsUTC?regionId=1&id={}&fromDateTime={}&toDateTime={}&getMinimalReadings=true&includeStatus=true&includePredictions=true'.format(gauge['id'],flood['fromDate'],flood['toDate'])\n",
    "        resp = requests.get(url).json()\n",
    "        readings_df = pd.DataFrame(resp['readings'])\n",
    "        if len(readings_df) == 0:\n",
    "            continue\n",
    "        readings_df['timestamp'] = pd.to_datetime(readings_df['timestamp'])\n",
    "        readings_df.sort_values(by=\"timestamp\", inplace=True)\n",
    "        crest_height = np.max(readings_df['waterHeight'])\n",
    "\n",
    "        peaks = readings_df[readings_df['waterHeight'] == crest_height ]\n",
    "        peak_rec = peaks.iloc[0]\n",
    "        peak_df = pd.DataFrame([peak_rec])\n",
    "        peak_df['flood'] = flood['eventName']\n",
    "        peak_df['gaugeId'] = gauge['id']\n",
    "        peak_df['gaugeName'] = gauge['shortName']\n",
    "        peak_df['riverMile'] = gauge['riverMile']\n",
    "\n",
    "        # 0.1 ft before crest\n",
    "        pre_peaks_level = np.max(readings_df[(readings_df['timestamp']<peak_rec['timestamp']) & (readings_df['waterHeight']<=(peak_rec['waterHeight'] - 0.1))]['waterHeight'])\n",
    "        pre_peaks = readings_df[readings_df['waterHeight'] == pre_peaks_level]\n",
    "        if len(pre_peaks):\n",
    "            pre_peak_red = pre_peaks.iloc[0]\n",
    "            if peak_rec['timestamp'] - pre_peak_red['timestamp'] <= np.timedelta64(4,'h') and peak_rec['waterHeight'] - pre_peak_red['waterHeight'] <= 0.5:\n",
    "                peak_df['prePeakWaterHeight'] = pre_peak_red['waterHeight']\n",
    "                peak_df['prePeakTimestamp'] = pre_peak_red['timestamp']\n",
    "\n",
    "        peak_df.drop(columns=['isDeleted', 'isMissing'], inplace=True)\n",
    "        \n",
    "        crests.append(peak_df)\n",
    "        \n",
    "\n",
    "crests_df = pd.concat(crests)\n",
    "crests_df.head()"
   ]
  },
  {
   "cell_type": "code",
   "execution_count": 50,
   "metadata": {},
   "outputs": [],
   "source": [
    "# overrides\n",
    "with open('../data_files//historic-crest-overrides.json') as f:\n",
    "   overrides = json.load(f)\n",
    "for gauge_id in overrides:\n",
    "   for flood in overrides[gauge_id]['overrides']:\n",
    "      crests_df.drop(crests_df[(crests_df['gaugeId'] == gauge_id) & (crests_df['flood'] == flood)].index, inplace=True)\n",
    "\n",
    "      "
   ]
  },
  {
   "cell_type": "code",
   "execution_count": 24,
   "metadata": {},
   "outputs": [
    {
     "data": {
      "text/html": [
       "<div>\n",
       "<style scoped>\n",
       "    .dataframe tbody tr th:only-of-type {\n",
       "        vertical-align: middle;\n",
       "    }\n",
       "\n",
       "    .dataframe tbody tr th {\n",
       "        vertical-align: top;\n",
       "    }\n",
       "\n",
       "    .dataframe thead th {\n",
       "        text-align: right;\n",
       "    }\n",
       "</style>\n",
       "<table border=\"1\" class=\"dataframe\">\n",
       "  <thead>\n",
       "    <tr style=\"text-align: right;\">\n",
       "      <th></th>\n",
       "      <th>id</th>\n",
       "      <th>timestamp</th>\n",
       "      <th>waterHeight</th>\n",
       "      <th>waterDischarge</th>\n",
       "      <th>flood</th>\n",
       "      <th>gaugeId</th>\n",
       "      <th>gaugeName</th>\n",
       "      <th>riverMile</th>\n",
       "      <th>prePeakWaterHeight</th>\n",
       "      <th>prePeakTimestamp</th>\n",
       "      <th>prePeakGap</th>\n",
       "    </tr>\n",
       "  </thead>\n",
       "  <tbody>\n",
       "    <tr>\n",
       "      <th>379</th>\n",
       "      <td>1393860</td>\n",
       "      <td>2022-03-01 17:00:00</td>\n",
       "      <td>58.73</td>\n",
       "      <td>46800.00</td>\n",
       "      <td>2022 - March</td>\n",
       "      <td>USGS-22</td>\n",
       "      <td>Carnation</td>\n",
       "      <td>22</td>\n",
       "      <td>58.62</td>\n",
       "      <td>2022-03-01 15:15:00</td>\n",
       "      <td>105.0</td>\n",
       "    </tr>\n",
       "    <tr>\n",
       "      <th>44</th>\n",
       "      <td>1332391</td>\n",
       "      <td>2022-01-21 04:45:00</td>\n",
       "      <td>53.37</td>\n",
       "      <td>19800.00</td>\n",
       "      <td>2022 - January 21st</td>\n",
       "      <td>USGS-22</td>\n",
       "      <td>Carnation</td>\n",
       "      <td>22</td>\n",
       "      <td>53.26</td>\n",
       "      <td>2022-01-21 02:15:00</td>\n",
       "      <td>150.0</td>\n",
       "    </tr>\n",
       "    <tr>\n",
       "      <th>151</th>\n",
       "      <td>1319648</td>\n",
       "      <td>2022-01-13 02:00:00</td>\n",
       "      <td>56.93</td>\n",
       "      <td>28400.00</td>\n",
       "      <td>2022 - January 13th</td>\n",
       "      <td>USGS-22</td>\n",
       "      <td>Carnation</td>\n",
       "      <td>22</td>\n",
       "      <td>56.83</td>\n",
       "      <td>2022-01-13 00:00:00</td>\n",
       "      <td>120.0</td>\n",
       "    </tr>\n",
       "    <tr>\n",
       "      <th>67</th>\n",
       "      <td>1311662</td>\n",
       "      <td>2022-01-07 23:00:00</td>\n",
       "      <td>54.00</td>\n",
       "      <td>21200.00</td>\n",
       "      <td>2022 - January 7th</td>\n",
       "      <td>USGS-22</td>\n",
       "      <td>Carnation</td>\n",
       "      <td>22</td>\n",
       "      <td>53.89</td>\n",
       "      <td>2022-01-07 20:30:00</td>\n",
       "      <td>150.0</td>\n",
       "    </tr>\n",
       "    <tr>\n",
       "      <th>422</th>\n",
       "      <td>1224847</td>\n",
       "      <td>2021-11-13 05:30:00</td>\n",
       "      <td>57.12</td>\n",
       "      <td>28900.00</td>\n",
       "      <td>2021 - November</td>\n",
       "      <td>USGS-22</td>\n",
       "      <td>Carnation</td>\n",
       "      <td>22</td>\n",
       "      <td>56.99</td>\n",
       "      <td>2021-11-13 03:45:00</td>\n",
       "      <td>105.0</td>\n",
       "    </tr>\n",
       "    <tr>\n",
       "      <th>101</th>\n",
       "      <td>1198498</td>\n",
       "      <td>2021-10-29 15:30:00</td>\n",
       "      <td>55.26</td>\n",
       "      <td>24300.00</td>\n",
       "      <td>2021 - October</td>\n",
       "      <td>USGS-22</td>\n",
       "      <td>Carnation</td>\n",
       "      <td>22</td>\n",
       "      <td>55.16</td>\n",
       "      <td>2021-10-29 13:45:00</td>\n",
       "      <td>105.0</td>\n",
       "    </tr>\n",
       "    <tr>\n",
       "      <th>148</th>\n",
       "      <td>828202</td>\n",
       "      <td>2021-02-23 02:45:00</td>\n",
       "      <td>53.03</td>\n",
       "      <td>18800.00</td>\n",
       "      <td>2021 - February</td>\n",
       "      <td>USGS-22</td>\n",
       "      <td>Carnation</td>\n",
       "      <td>22</td>\n",
       "      <td>52.93</td>\n",
       "      <td>2021-02-23 00:30:00</td>\n",
       "      <td>135.0</td>\n",
       "    </tr>\n",
       "    <tr>\n",
       "      <th>86</th>\n",
       "      <td>764823</td>\n",
       "      <td>2021-01-13 18:15:00</td>\n",
       "      <td>55.33</td>\n",
       "      <td>24600.00</td>\n",
       "      <td>2021 - January</td>\n",
       "      <td>USGS-22</td>\n",
       "      <td>Carnation</td>\n",
       "      <td>22</td>\n",
       "      <td>55.22</td>\n",
       "      <td>2021-01-13 16:30:00</td>\n",
       "      <td>105.0</td>\n",
       "    </tr>\n",
       "    <tr>\n",
       "      <th>467</th>\n",
       "      <td>220605</td>\n",
       "      <td>2020-02-07 19:00:00</td>\n",
       "      <td>58.50</td>\n",
       "      <td>42300.00</td>\n",
       "      <td>2020 - February 7th</td>\n",
       "      <td>USGS-22</td>\n",
       "      <td>Carnation</td>\n",
       "      <td>22</td>\n",
       "      <td>58.40</td>\n",
       "      <td>2020-02-07 15:00:00</td>\n",
       "      <td>240.0</td>\n",
       "    </tr>\n",
       "    <tr>\n",
       "      <th>255</th>\n",
       "      <td>212054</td>\n",
       "      <td>2020-02-02 00:00:00</td>\n",
       "      <td>58.42</td>\n",
       "      <td>40600.00</td>\n",
       "      <td>2020 - February 1st</td>\n",
       "      <td>USGS-22</td>\n",
       "      <td>Carnation</td>\n",
       "      <td>22</td>\n",
       "      <td>58.32</td>\n",
       "      <td>2020-02-01 21:45:00</td>\n",
       "      <td>135.0</td>\n",
       "    </tr>\n",
       "    <tr>\n",
       "      <th>270</th>\n",
       "      <td>174252</td>\n",
       "      <td>2020-01-07 20:15:00</td>\n",
       "      <td>56.26</td>\n",
       "      <td>26400.00</td>\n",
       "      <td>2020 - January</td>\n",
       "      <td>USGS-22</td>\n",
       "      <td>Carnation</td>\n",
       "      <td>22</td>\n",
       "      <td>56.16</td>\n",
       "      <td>2020-01-07 18:15:00</td>\n",
       "      <td>120.0</td>\n",
       "    </tr>\n",
       "    <tr>\n",
       "      <th>210</th>\n",
       "      <td>149651</td>\n",
       "      <td>2019-12-21 11:15:00</td>\n",
       "      <td>56.74</td>\n",
       "      <td>31161.72</td>\n",
       "      <td>2019 - December</td>\n",
       "      <td>USGS-22</td>\n",
       "      <td>Carnation</td>\n",
       "      <td>22</td>\n",
       "      <td>56.64</td>\n",
       "      <td>2019-12-21 07:30:00</td>\n",
       "      <td>225.0</td>\n",
       "    </tr>\n",
       "    <tr>\n",
       "      <th>176</th>\n",
       "      <td>49556</td>\n",
       "      <td>2019-10-22 20:45:00</td>\n",
       "      <td>57.97</td>\n",
       "      <td>39439.36</td>\n",
       "      <td>2019 - October</td>\n",
       "      <td>USGS-22</td>\n",
       "      <td>Carnation</td>\n",
       "      <td>22</td>\n",
       "      <td>57.86</td>\n",
       "      <td>2019-10-22 18:45:00</td>\n",
       "      <td>120.0</td>\n",
       "    </tr>\n",
       "  </tbody>\n",
       "</table>\n",
       "</div>"
      ],
      "text/plain": [
       "          id           timestamp  waterHeight  waterDischarge  \\\n",
       "379  1393860 2022-03-01 17:00:00        58.73        46800.00   \n",
       "44   1332391 2022-01-21 04:45:00        53.37        19800.00   \n",
       "151  1319648 2022-01-13 02:00:00        56.93        28400.00   \n",
       "67   1311662 2022-01-07 23:00:00        54.00        21200.00   \n",
       "422  1224847 2021-11-13 05:30:00        57.12        28900.00   \n",
       "101  1198498 2021-10-29 15:30:00        55.26        24300.00   \n",
       "148   828202 2021-02-23 02:45:00        53.03        18800.00   \n",
       "86    764823 2021-01-13 18:15:00        55.33        24600.00   \n",
       "467   220605 2020-02-07 19:00:00        58.50        42300.00   \n",
       "255   212054 2020-02-02 00:00:00        58.42        40600.00   \n",
       "270   174252 2020-01-07 20:15:00        56.26        26400.00   \n",
       "210   149651 2019-12-21 11:15:00        56.74        31161.72   \n",
       "176    49556 2019-10-22 20:45:00        57.97        39439.36   \n",
       "\n",
       "                   flood  gaugeId  gaugeName  riverMile  prePeakWaterHeight  \\\n",
       "379         2022 - March  USGS-22  Carnation         22               58.62   \n",
       "44   2022 - January 21st  USGS-22  Carnation         22               53.26   \n",
       "151  2022 - January 13th  USGS-22  Carnation         22               56.83   \n",
       "67    2022 - January 7th  USGS-22  Carnation         22               53.89   \n",
       "422      2021 - November  USGS-22  Carnation         22               56.99   \n",
       "101       2021 - October  USGS-22  Carnation         22               55.16   \n",
       "148      2021 - February  USGS-22  Carnation         22               52.93   \n",
       "86        2021 - January  USGS-22  Carnation         22               55.22   \n",
       "467  2020 - February 7th  USGS-22  Carnation         22               58.40   \n",
       "255  2020 - February 1st  USGS-22  Carnation         22               58.32   \n",
       "270       2020 - January  USGS-22  Carnation         22               56.16   \n",
       "210      2019 - December  USGS-22  Carnation         22               56.64   \n",
       "176       2019 - October  USGS-22  Carnation         22               57.86   \n",
       "\n",
       "       prePeakTimestamp  prePeakGap  \n",
       "379 2022-03-01 15:15:00       105.0  \n",
       "44  2022-01-21 02:15:00       150.0  \n",
       "151 2022-01-13 00:00:00       120.0  \n",
       "67  2022-01-07 20:30:00       150.0  \n",
       "422 2021-11-13 03:45:00       105.0  \n",
       "101 2021-10-29 13:45:00       105.0  \n",
       "148 2021-02-23 00:30:00       135.0  \n",
       "86  2021-01-13 16:30:00       105.0  \n",
       "467 2020-02-07 15:00:00       240.0  \n",
       "255 2020-02-01 21:45:00       135.0  \n",
       "270 2020-01-07 18:15:00       120.0  \n",
       "210 2019-12-21 07:30:00       225.0  \n",
       "176 2019-10-22 18:45:00       120.0  "
      ]
     },
     "execution_count": 24,
     "metadata": {},
     "output_type": "execute_result"
    }
   ],
   "source": [
    "\n",
    "crests_df['prePeakGap'] = (crests_df['timestamp'] - crests_df['prePeakTimestamp'] )/ np.timedelta64(1, 'm')\n",
    "crests_df[crests_df['gaugeId']=='USGS-22']"
   ]
  },
  {
   "cell_type": "code",
   "execution_count": 25,
   "metadata": {},
   "outputs": [
    {
     "data": {
      "application/vnd.plotly.v1+json": {
       "config": {
        "plotlyServerURL": "https://plot.ly"
       },
       "data": [
        {
         "alignmentgroup": "True",
         "bingroup": "x",
         "hovertemplate": "prePeakGap=%{x}<br>count=%{y}<extra></extra>",
         "legendgroup": "",
         "marker": {
          "color": "#636efa",
          "pattern": {
           "shape": ""
          }
         },
         "name": "",
         "offsetgroup": "",
         "orientation": "v",
         "showlegend": false,
         "type": "histogram",
         "x": [
          45,
          60,
          15,
          15,
          120,
          165,
          150,
          240,
          105,
          120,
          105,
          180,
          120.28333333333333,
          134.98333333333332,
          135,
          210,
          180,
          null,
          45,
          30,
          45,
          89.98333333333333,
          75,
          120,
          150.01666666666668,
          225,
          150,
          195,
          105,
          210,
          75,
          135,
          135,
          15,
          90,
          75,
          15,
          120,
          149.98333333333332,
          135,
          14.983333333333333,
          119.98333333333333,
          90,
          120,
          135.01666666666668,
          210,
          240,
          null,
          null,
          105,
          null,
          60,
          30,
          90,
          75,
          240,
          15,
          150,
          122.95,
          150,
          225,
          120,
          195.01666666666668,
          165,
          120,
          120,
          45,
          75,
          120,
          75,
          90.01666666666667,
          119.98333333333333,
          90,
          75,
          75,
          105.01666666666667,
          105,
          75,
          135,
          null,
          null,
          90,
          210,
          45,
          30,
          45,
          105,
          59.983333333333334,
          105,
          75.01666666666667,
          105,
          105,
          105,
          105,
          210,
          120,
          165,
          150,
          210,
          90,
          90,
          45,
          45,
          60,
          60.016666666666666,
          null,
          30,
          135,
          105,
          135,
          90,
          null,
          135.01666666666668,
          90.01666666666667,
          135,
          120,
          135,
          30,
          60,
          30,
          60,
          75,
          105,
          null,
          240,
          null,
          195,
          180,
          60,
          45,
          30,
          45,
          55,
          75,
          150.01666666666668,
          239.31666666666666,
          240,
          null,
          null,
          195,
          225,
          90,
          30,
          15,
          60,
          60.016666666666666,
          75,
          105,
          135,
          120.01666666666667,
          195.03333333333333,
          15,
          135,
          90,
          45,
          75,
          90,
          135,
          75,
          105,
          120,
          195.01666666666668,
          195.61666666666667,
          210.01666666666668,
          225,
          120,
          null,
          75,
          null,
          30,
          75,
          14.983333333333333,
          120.56666666666666,
          225,
          150,
          120,
          165.01666666666668,
          225,
          210,
          30,
          60,
          90,
          5,
          75.7,
          80.01666666666667,
          null,
          120,
          90,
          105,
          120,
          210,
          75
         ],
         "xaxis": "x",
         "yaxis": "y"
        }
       ],
       "layout": {
        "barmode": "relative",
        "legend": {
         "tracegroupgap": 0
        },
        "margin": {
         "t": 60
        },
        "template": {
         "data": {
          "bar": [
           {
            "error_x": {
             "color": "#2a3f5f"
            },
            "error_y": {
             "color": "#2a3f5f"
            },
            "marker": {
             "line": {
              "color": "#E5ECF6",
              "width": 0.5
             },
             "pattern": {
              "fillmode": "overlay",
              "size": 10,
              "solidity": 0.2
             }
            },
            "type": "bar"
           }
          ],
          "barpolar": [
           {
            "marker": {
             "line": {
              "color": "#E5ECF6",
              "width": 0.5
             },
             "pattern": {
              "fillmode": "overlay",
              "size": 10,
              "solidity": 0.2
             }
            },
            "type": "barpolar"
           }
          ],
          "carpet": [
           {
            "aaxis": {
             "endlinecolor": "#2a3f5f",
             "gridcolor": "white",
             "linecolor": "white",
             "minorgridcolor": "white",
             "startlinecolor": "#2a3f5f"
            },
            "baxis": {
             "endlinecolor": "#2a3f5f",
             "gridcolor": "white",
             "linecolor": "white",
             "minorgridcolor": "white",
             "startlinecolor": "#2a3f5f"
            },
            "type": "carpet"
           }
          ],
          "choropleth": [
           {
            "colorbar": {
             "outlinewidth": 0,
             "ticks": ""
            },
            "type": "choropleth"
           }
          ],
          "contour": [
           {
            "colorbar": {
             "outlinewidth": 0,
             "ticks": ""
            },
            "colorscale": [
             [
              0,
              "#0d0887"
             ],
             [
              0.1111111111111111,
              "#46039f"
             ],
             [
              0.2222222222222222,
              "#7201a8"
             ],
             [
              0.3333333333333333,
              "#9c179e"
             ],
             [
              0.4444444444444444,
              "#bd3786"
             ],
             [
              0.5555555555555556,
              "#d8576b"
             ],
             [
              0.6666666666666666,
              "#ed7953"
             ],
             [
              0.7777777777777778,
              "#fb9f3a"
             ],
             [
              0.8888888888888888,
              "#fdca26"
             ],
             [
              1,
              "#f0f921"
             ]
            ],
            "type": "contour"
           }
          ],
          "contourcarpet": [
           {
            "colorbar": {
             "outlinewidth": 0,
             "ticks": ""
            },
            "type": "contourcarpet"
           }
          ],
          "heatmap": [
           {
            "colorbar": {
             "outlinewidth": 0,
             "ticks": ""
            },
            "colorscale": [
             [
              0,
              "#0d0887"
             ],
             [
              0.1111111111111111,
              "#46039f"
             ],
             [
              0.2222222222222222,
              "#7201a8"
             ],
             [
              0.3333333333333333,
              "#9c179e"
             ],
             [
              0.4444444444444444,
              "#bd3786"
             ],
             [
              0.5555555555555556,
              "#d8576b"
             ],
             [
              0.6666666666666666,
              "#ed7953"
             ],
             [
              0.7777777777777778,
              "#fb9f3a"
             ],
             [
              0.8888888888888888,
              "#fdca26"
             ],
             [
              1,
              "#f0f921"
             ]
            ],
            "type": "heatmap"
           }
          ],
          "heatmapgl": [
           {
            "colorbar": {
             "outlinewidth": 0,
             "ticks": ""
            },
            "colorscale": [
             [
              0,
              "#0d0887"
             ],
             [
              0.1111111111111111,
              "#46039f"
             ],
             [
              0.2222222222222222,
              "#7201a8"
             ],
             [
              0.3333333333333333,
              "#9c179e"
             ],
             [
              0.4444444444444444,
              "#bd3786"
             ],
             [
              0.5555555555555556,
              "#d8576b"
             ],
             [
              0.6666666666666666,
              "#ed7953"
             ],
             [
              0.7777777777777778,
              "#fb9f3a"
             ],
             [
              0.8888888888888888,
              "#fdca26"
             ],
             [
              1,
              "#f0f921"
             ]
            ],
            "type": "heatmapgl"
           }
          ],
          "histogram": [
           {
            "marker": {
             "pattern": {
              "fillmode": "overlay",
              "size": 10,
              "solidity": 0.2
             }
            },
            "type": "histogram"
           }
          ],
          "histogram2d": [
           {
            "colorbar": {
             "outlinewidth": 0,
             "ticks": ""
            },
            "colorscale": [
             [
              0,
              "#0d0887"
             ],
             [
              0.1111111111111111,
              "#46039f"
             ],
             [
              0.2222222222222222,
              "#7201a8"
             ],
             [
              0.3333333333333333,
              "#9c179e"
             ],
             [
              0.4444444444444444,
              "#bd3786"
             ],
             [
              0.5555555555555556,
              "#d8576b"
             ],
             [
              0.6666666666666666,
              "#ed7953"
             ],
             [
              0.7777777777777778,
              "#fb9f3a"
             ],
             [
              0.8888888888888888,
              "#fdca26"
             ],
             [
              1,
              "#f0f921"
             ]
            ],
            "type": "histogram2d"
           }
          ],
          "histogram2dcontour": [
           {
            "colorbar": {
             "outlinewidth": 0,
             "ticks": ""
            },
            "colorscale": [
             [
              0,
              "#0d0887"
             ],
             [
              0.1111111111111111,
              "#46039f"
             ],
             [
              0.2222222222222222,
              "#7201a8"
             ],
             [
              0.3333333333333333,
              "#9c179e"
             ],
             [
              0.4444444444444444,
              "#bd3786"
             ],
             [
              0.5555555555555556,
              "#d8576b"
             ],
             [
              0.6666666666666666,
              "#ed7953"
             ],
             [
              0.7777777777777778,
              "#fb9f3a"
             ],
             [
              0.8888888888888888,
              "#fdca26"
             ],
             [
              1,
              "#f0f921"
             ]
            ],
            "type": "histogram2dcontour"
           }
          ],
          "mesh3d": [
           {
            "colorbar": {
             "outlinewidth": 0,
             "ticks": ""
            },
            "type": "mesh3d"
           }
          ],
          "parcoords": [
           {
            "line": {
             "colorbar": {
              "outlinewidth": 0,
              "ticks": ""
             }
            },
            "type": "parcoords"
           }
          ],
          "pie": [
           {
            "automargin": true,
            "type": "pie"
           }
          ],
          "scatter": [
           {
            "fillpattern": {
             "fillmode": "overlay",
             "size": 10,
             "solidity": 0.2
            },
            "type": "scatter"
           }
          ],
          "scatter3d": [
           {
            "line": {
             "colorbar": {
              "outlinewidth": 0,
              "ticks": ""
             }
            },
            "marker": {
             "colorbar": {
              "outlinewidth": 0,
              "ticks": ""
             }
            },
            "type": "scatter3d"
           }
          ],
          "scattercarpet": [
           {
            "marker": {
             "colorbar": {
              "outlinewidth": 0,
              "ticks": ""
             }
            },
            "type": "scattercarpet"
           }
          ],
          "scattergeo": [
           {
            "marker": {
             "colorbar": {
              "outlinewidth": 0,
              "ticks": ""
             }
            },
            "type": "scattergeo"
           }
          ],
          "scattergl": [
           {
            "marker": {
             "colorbar": {
              "outlinewidth": 0,
              "ticks": ""
             }
            },
            "type": "scattergl"
           }
          ],
          "scattermapbox": [
           {
            "marker": {
             "colorbar": {
              "outlinewidth": 0,
              "ticks": ""
             }
            },
            "type": "scattermapbox"
           }
          ],
          "scatterpolar": [
           {
            "marker": {
             "colorbar": {
              "outlinewidth": 0,
              "ticks": ""
             }
            },
            "type": "scatterpolar"
           }
          ],
          "scatterpolargl": [
           {
            "marker": {
             "colorbar": {
              "outlinewidth": 0,
              "ticks": ""
             }
            },
            "type": "scatterpolargl"
           }
          ],
          "scatterternary": [
           {
            "marker": {
             "colorbar": {
              "outlinewidth": 0,
              "ticks": ""
             }
            },
            "type": "scatterternary"
           }
          ],
          "surface": [
           {
            "colorbar": {
             "outlinewidth": 0,
             "ticks": ""
            },
            "colorscale": [
             [
              0,
              "#0d0887"
             ],
             [
              0.1111111111111111,
              "#46039f"
             ],
             [
              0.2222222222222222,
              "#7201a8"
             ],
             [
              0.3333333333333333,
              "#9c179e"
             ],
             [
              0.4444444444444444,
              "#bd3786"
             ],
             [
              0.5555555555555556,
              "#d8576b"
             ],
             [
              0.6666666666666666,
              "#ed7953"
             ],
             [
              0.7777777777777778,
              "#fb9f3a"
             ],
             [
              0.8888888888888888,
              "#fdca26"
             ],
             [
              1,
              "#f0f921"
             ]
            ],
            "type": "surface"
           }
          ],
          "table": [
           {
            "cells": {
             "fill": {
              "color": "#EBF0F8"
             },
             "line": {
              "color": "white"
             }
            },
            "header": {
             "fill": {
              "color": "#C8D4E3"
             },
             "line": {
              "color": "white"
             }
            },
            "type": "table"
           }
          ]
         },
         "layout": {
          "annotationdefaults": {
           "arrowcolor": "#2a3f5f",
           "arrowhead": 0,
           "arrowwidth": 1
          },
          "autotypenumbers": "strict",
          "coloraxis": {
           "colorbar": {
            "outlinewidth": 0,
            "ticks": ""
           }
          },
          "colorscale": {
           "diverging": [
            [
             0,
             "#8e0152"
            ],
            [
             0.1,
             "#c51b7d"
            ],
            [
             0.2,
             "#de77ae"
            ],
            [
             0.3,
             "#f1b6da"
            ],
            [
             0.4,
             "#fde0ef"
            ],
            [
             0.5,
             "#f7f7f7"
            ],
            [
             0.6,
             "#e6f5d0"
            ],
            [
             0.7,
             "#b8e186"
            ],
            [
             0.8,
             "#7fbc41"
            ],
            [
             0.9,
             "#4d9221"
            ],
            [
             1,
             "#276419"
            ]
           ],
           "sequential": [
            [
             0,
             "#0d0887"
            ],
            [
             0.1111111111111111,
             "#46039f"
            ],
            [
             0.2222222222222222,
             "#7201a8"
            ],
            [
             0.3333333333333333,
             "#9c179e"
            ],
            [
             0.4444444444444444,
             "#bd3786"
            ],
            [
             0.5555555555555556,
             "#d8576b"
            ],
            [
             0.6666666666666666,
             "#ed7953"
            ],
            [
             0.7777777777777778,
             "#fb9f3a"
            ],
            [
             0.8888888888888888,
             "#fdca26"
            ],
            [
             1,
             "#f0f921"
            ]
           ],
           "sequentialminus": [
            [
             0,
             "#0d0887"
            ],
            [
             0.1111111111111111,
             "#46039f"
            ],
            [
             0.2222222222222222,
             "#7201a8"
            ],
            [
             0.3333333333333333,
             "#9c179e"
            ],
            [
             0.4444444444444444,
             "#bd3786"
            ],
            [
             0.5555555555555556,
             "#d8576b"
            ],
            [
             0.6666666666666666,
             "#ed7953"
            ],
            [
             0.7777777777777778,
             "#fb9f3a"
            ],
            [
             0.8888888888888888,
             "#fdca26"
            ],
            [
             1,
             "#f0f921"
            ]
           ]
          },
          "colorway": [
           "#636efa",
           "#EF553B",
           "#00cc96",
           "#ab63fa",
           "#FFA15A",
           "#19d3f3",
           "#FF6692",
           "#B6E880",
           "#FF97FF",
           "#FECB52"
          ],
          "font": {
           "color": "#2a3f5f"
          },
          "geo": {
           "bgcolor": "white",
           "lakecolor": "white",
           "landcolor": "#E5ECF6",
           "showlakes": true,
           "showland": true,
           "subunitcolor": "white"
          },
          "hoverlabel": {
           "align": "left"
          },
          "hovermode": "closest",
          "mapbox": {
           "style": "light"
          },
          "paper_bgcolor": "white",
          "plot_bgcolor": "#E5ECF6",
          "polar": {
           "angularaxis": {
            "gridcolor": "white",
            "linecolor": "white",
            "ticks": ""
           },
           "bgcolor": "#E5ECF6",
           "radialaxis": {
            "gridcolor": "white",
            "linecolor": "white",
            "ticks": ""
           }
          },
          "scene": {
           "xaxis": {
            "backgroundcolor": "#E5ECF6",
            "gridcolor": "white",
            "gridwidth": 2,
            "linecolor": "white",
            "showbackground": true,
            "ticks": "",
            "zerolinecolor": "white"
           },
           "yaxis": {
            "backgroundcolor": "#E5ECF6",
            "gridcolor": "white",
            "gridwidth": 2,
            "linecolor": "white",
            "showbackground": true,
            "ticks": "",
            "zerolinecolor": "white"
           },
           "zaxis": {
            "backgroundcolor": "#E5ECF6",
            "gridcolor": "white",
            "gridwidth": 2,
            "linecolor": "white",
            "showbackground": true,
            "ticks": "",
            "zerolinecolor": "white"
           }
          },
          "shapedefaults": {
           "line": {
            "color": "#2a3f5f"
           }
          },
          "ternary": {
           "aaxis": {
            "gridcolor": "white",
            "linecolor": "white",
            "ticks": ""
           },
           "baxis": {
            "gridcolor": "white",
            "linecolor": "white",
            "ticks": ""
           },
           "bgcolor": "#E5ECF6",
           "caxis": {
            "gridcolor": "white",
            "linecolor": "white",
            "ticks": ""
           }
          },
          "title": {
           "x": 0.05
          },
          "xaxis": {
           "automargin": true,
           "gridcolor": "white",
           "linecolor": "white",
           "ticks": "",
           "title": {
            "standoff": 15
           },
           "zerolinecolor": "white",
           "zerolinewidth": 2
          },
          "yaxis": {
           "automargin": true,
           "gridcolor": "white",
           "linecolor": "white",
           "ticks": "",
           "title": {
            "standoff": 15
           },
           "zerolinecolor": "white",
           "zerolinewidth": 2
          }
         }
        },
        "xaxis": {
         "anchor": "y",
         "domain": [
          0,
          1
         ],
         "title": {
          "text": "prePeakGap"
         }
        },
        "yaxis": {
         "anchor": "x",
         "domain": [
          0,
          1
         ],
         "title": {
          "text": "count"
         }
        }
       }
      }
     },
     "metadata": {},
     "output_type": "display_data"
    }
   ],
   "source": [
    "import plotly.express as px\n",
    "fig = px.histogram(crests_df, x=\"prePeakGap\")\n",
    "fig.show()"
   ]
  },
  {
   "cell_type": "code",
   "execution_count": 26,
   "metadata": {},
   "outputs": [
    {
     "data": {
      "text/html": [
       "<div>\n",
       "<style scoped>\n",
       "    .dataframe tbody tr th:only-of-type {\n",
       "        vertical-align: middle;\n",
       "    }\n",
       "\n",
       "    .dataframe tbody tr th {\n",
       "        vertical-align: top;\n",
       "    }\n",
       "\n",
       "    .dataframe thead th {\n",
       "        text-align: right;\n",
       "    }\n",
       "</style>\n",
       "<table border=\"1\" class=\"dataframe\">\n",
       "  <thead>\n",
       "    <tr style=\"text-align: right;\">\n",
       "      <th></th>\n",
       "      <th>id</th>\n",
       "      <th>timestamp</th>\n",
       "      <th>waterHeight</th>\n",
       "      <th>waterDischarge</th>\n",
       "      <th>flood</th>\n",
       "      <th>gaugeId</th>\n",
       "      <th>gaugeName</th>\n",
       "      <th>riverMile</th>\n",
       "      <th>prePeakWaterHeight</th>\n",
       "      <th>prePeakTimestamp</th>\n",
       "      <th>prePeakGap</th>\n",
       "      <th>fallsCrestTimestamp</th>\n",
       "    </tr>\n",
       "  </thead>\n",
       "  <tbody>\n",
       "    <tr>\n",
       "      <th>0</th>\n",
       "      <td>1392798</td>\n",
       "      <td>2022-03-01 01:15:00</td>\n",
       "      <td>15.76</td>\n",
       "      <td>4550.0</td>\n",
       "      <td>2022 - March</td>\n",
       "      <td>USGS-SF17</td>\n",
       "      <td>South Fork</td>\n",
       "      <td>17</td>\n",
       "      <td>15.64</td>\n",
       "      <td>2022-03-01 00:30:00</td>\n",
       "      <td>45.0</td>\n",
       "      <td>2022-03-01 08:00:00</td>\n",
       "    </tr>\n",
       "    <tr>\n",
       "      <th>1</th>\n",
       "      <td>1392793</td>\n",
       "      <td>2022-03-01 01:15:00</td>\n",
       "      <td>12.03</td>\n",
       "      <td>18500.0</td>\n",
       "      <td>2022 - March</td>\n",
       "      <td>USGS-MF11</td>\n",
       "      <td>Middle Fork</td>\n",
       "      <td>11</td>\n",
       "      <td>11.93</td>\n",
       "      <td>2022-03-01 00:15:00</td>\n",
       "      <td>60.0</td>\n",
       "      <td>2022-03-01 08:00:00</td>\n",
       "    </tr>\n",
       "    <tr>\n",
       "      <th>2</th>\n",
       "      <td>1392686</td>\n",
       "      <td>2022-02-28 23:30:00</td>\n",
       "      <td>10.70</td>\n",
       "      <td>10500.0</td>\n",
       "      <td>2022 - March</td>\n",
       "      <td>USGS-NF10</td>\n",
       "      <td>North Fork</td>\n",
       "      <td>10</td>\n",
       "      <td>10.58</td>\n",
       "      <td>2022-02-28 23:15:00</td>\n",
       "      <td>15.0</td>\n",
       "      <td>2022-03-01 08:00:00</td>\n",
       "    </tr>\n",
       "    <tr>\n",
       "      <th>3</th>\n",
       "      <td>1393252</td>\n",
       "      <td>2022-03-01 08:00:00</td>\n",
       "      <td>16.91</td>\n",
       "      <td>38500.0</td>\n",
       "      <td>2022 - March</td>\n",
       "      <td>USGS-38</td>\n",
       "      <td>Below the Falls</td>\n",
       "      <td>38</td>\n",
       "      <td>16.80</td>\n",
       "      <td>2022-03-01 07:45:00</td>\n",
       "      <td>15.0</td>\n",
       "      <td>2022-03-01 08:00:00</td>\n",
       "    </tr>\n",
       "    <tr>\n",
       "      <th>4</th>\n",
       "      <td>1393330</td>\n",
       "      <td>2022-03-01 09:15:06</td>\n",
       "      <td>94.47</td>\n",
       "      <td>NaN</td>\n",
       "      <td>2022 - March</td>\n",
       "      <td>SVPA-37</td>\n",
       "      <td>Sno Falls Golf</td>\n",
       "      <td>37</td>\n",
       "      <td>94.37</td>\n",
       "      <td>2022-03-01 07:15:06</td>\n",
       "      <td>120.0</td>\n",
       "      <td>2022-03-01 08:00:00</td>\n",
       "    </tr>\n",
       "    <tr>\n",
       "      <th>...</th>\n",
       "      <td>...</td>\n",
       "      <td>...</td>\n",
       "      <td>...</td>\n",
       "      <td>...</td>\n",
       "      <td>...</td>\n",
       "      <td>...</td>\n",
       "      <td>...</td>\n",
       "      <td>...</td>\n",
       "      <td>...</td>\n",
       "      <td>...</td>\n",
       "      <td>...</td>\n",
       "      <td>...</td>\n",
       "    </tr>\n",
       "    <tr>\n",
       "      <th>187</th>\n",
       "      <td>50292</td>\n",
       "      <td>2019-10-23 06:00:05</td>\n",
       "      <td>53.81</td>\n",
       "      <td>NaN</td>\n",
       "      <td>2019 - October</td>\n",
       "      <td>SVPA-17</td>\n",
       "      <td>NE 100th St</td>\n",
       "      <td>17</td>\n",
       "      <td>53.71</td>\n",
       "      <td>2019-10-23 04:30:05</td>\n",
       "      <td>90.0</td>\n",
       "      <td>2019-10-22 08:50:00</td>\n",
       "    </tr>\n",
       "    <tr>\n",
       "      <th>188</th>\n",
       "      <td>50553</td>\n",
       "      <td>2019-10-23 08:45:03</td>\n",
       "      <td>46.96</td>\n",
       "      <td>NaN</td>\n",
       "      <td>2019 - October</td>\n",
       "      <td>SVPA-15</td>\n",
       "      <td>NE 124th St (E)</td>\n",
       "      <td>15</td>\n",
       "      <td>46.84</td>\n",
       "      <td>2019-10-23 07:00:03</td>\n",
       "      <td>105.0</td>\n",
       "      <td>2019-10-22 08:50:00</td>\n",
       "    </tr>\n",
       "    <tr>\n",
       "      <th>189</th>\n",
       "      <td>50522</td>\n",
       "      <td>2019-10-23 08:30:01</td>\n",
       "      <td>45.26</td>\n",
       "      <td>NaN</td>\n",
       "      <td>2019 - October</td>\n",
       "      <td>SVPA-12</td>\n",
       "      <td>NE 138th St</td>\n",
       "      <td>12</td>\n",
       "      <td>45.16</td>\n",
       "      <td>2019-10-23 06:30:01</td>\n",
       "      <td>120.0</td>\n",
       "      <td>2019-10-22 08:50:00</td>\n",
       "    </tr>\n",
       "    <tr>\n",
       "      <th>190</th>\n",
       "      <td>50633</td>\n",
       "      <td>2019-10-23 09:30:00</td>\n",
       "      <td>40.53</td>\n",
       "      <td>NaN</td>\n",
       "      <td>2019 - October</td>\n",
       "      <td>USGS-9</td>\n",
       "      <td>Duvall</td>\n",
       "      <td>9</td>\n",
       "      <td>40.43</td>\n",
       "      <td>2019-10-23 06:00:00</td>\n",
       "      <td>210.0</td>\n",
       "      <td>2019-10-22 08:50:00</td>\n",
       "    </tr>\n",
       "    <tr>\n",
       "      <th>191</th>\n",
       "      <td>49000</td>\n",
       "      <td>2019-10-22 13:30:00</td>\n",
       "      <td>14.96</td>\n",
       "      <td>NaN</td>\n",
       "      <td>2019 - October</td>\n",
       "      <td>USGS-SH5</td>\n",
       "      <td>Monroe</td>\n",
       "      <td>5</td>\n",
       "      <td>14.86</td>\n",
       "      <td>2019-10-22 12:15:00</td>\n",
       "      <td>75.0</td>\n",
       "      <td>2019-10-22 08:50:00</td>\n",
       "    </tr>\n",
       "  </tbody>\n",
       "</table>\n",
       "<p>192 rows × 12 columns</p>\n",
       "</div>"
      ],
      "text/plain": [
       "          id           timestamp  waterHeight  waterDischarge           flood  \\\n",
       "0    1392798 2022-03-01 01:15:00        15.76          4550.0    2022 - March   \n",
       "1    1392793 2022-03-01 01:15:00        12.03         18500.0    2022 - March   \n",
       "2    1392686 2022-02-28 23:30:00        10.70         10500.0    2022 - March   \n",
       "3    1393252 2022-03-01 08:00:00        16.91         38500.0    2022 - March   \n",
       "4    1393330 2022-03-01 09:15:06        94.47             NaN    2022 - March   \n",
       "..       ...                 ...          ...             ...             ...   \n",
       "187    50292 2019-10-23 06:00:05        53.81             NaN  2019 - October   \n",
       "188    50553 2019-10-23 08:45:03        46.96             NaN  2019 - October   \n",
       "189    50522 2019-10-23 08:30:01        45.26             NaN  2019 - October   \n",
       "190    50633 2019-10-23 09:30:00        40.53             NaN  2019 - October   \n",
       "191    49000 2019-10-22 13:30:00        14.96             NaN  2019 - October   \n",
       "\n",
       "       gaugeId        gaugeName  riverMile  prePeakWaterHeight  \\\n",
       "0    USGS-SF17       South Fork         17               15.64   \n",
       "1    USGS-MF11      Middle Fork         11               11.93   \n",
       "2    USGS-NF10       North Fork         10               10.58   \n",
       "3      USGS-38  Below the Falls         38               16.80   \n",
       "4      SVPA-37   Sno Falls Golf         37               94.37   \n",
       "..         ...              ...        ...                 ...   \n",
       "187    SVPA-17      NE 100th St         17               53.71   \n",
       "188    SVPA-15  NE 124th St (E)         15               46.84   \n",
       "189    SVPA-12      NE 138th St         12               45.16   \n",
       "190     USGS-9           Duvall          9               40.43   \n",
       "191   USGS-SH5           Monroe          5               14.86   \n",
       "\n",
       "       prePeakTimestamp  prePeakGap fallsCrestTimestamp  \n",
       "0   2022-03-01 00:30:00        45.0 2022-03-01 08:00:00  \n",
       "1   2022-03-01 00:15:00        60.0 2022-03-01 08:00:00  \n",
       "2   2022-02-28 23:15:00        15.0 2022-03-01 08:00:00  \n",
       "3   2022-03-01 07:45:00        15.0 2022-03-01 08:00:00  \n",
       "4   2022-03-01 07:15:06       120.0 2022-03-01 08:00:00  \n",
       "..                  ...         ...                 ...  \n",
       "187 2019-10-23 04:30:05        90.0 2019-10-22 08:50:00  \n",
       "188 2019-10-23 07:00:03       105.0 2019-10-22 08:50:00  \n",
       "189 2019-10-23 06:30:01       120.0 2019-10-22 08:50:00  \n",
       "190 2019-10-23 06:00:00       210.0 2019-10-22 08:50:00  \n",
       "191 2019-10-22 12:15:00        75.0 2019-10-22 08:50:00  \n",
       "\n",
       "[192 rows x 12 columns]"
      ]
     },
     "execution_count": 26,
     "metadata": {},
     "output_type": "execute_result"
    }
   ],
   "source": [
    "falls_floods = pd.DataFrame(crests_df[crests_df['gaugeId']=='USGS-38'][['flood','timestamp']])\n",
    "falls_floods['fallsCrestTimestamp'] = falls_floods['timestamp']\n",
    "falls_floods=falls_floods[['flood','fallsCrestTimestamp']]\n",
    "\n",
    "crests_df= pd.merge(crests_df, falls_floods, on='flood',)\n",
    "\n",
    "crests_df"
   ]
  },
  {
   "cell_type": "code",
   "execution_count": 27,
   "metadata": {},
   "outputs": [
    {
     "data": {
      "text/html": [
       "<div>\n",
       "<style scoped>\n",
       "    .dataframe tbody tr th:only-of-type {\n",
       "        vertical-align: middle;\n",
       "    }\n",
       "\n",
       "    .dataframe tbody tr th {\n",
       "        vertical-align: top;\n",
       "    }\n",
       "\n",
       "    .dataframe thead th {\n",
       "        text-align: right;\n",
       "    }\n",
       "</style>\n",
       "<table border=\"1\" class=\"dataframe\">\n",
       "  <thead>\n",
       "    <tr style=\"text-align: right;\">\n",
       "      <th></th>\n",
       "      <th>id</th>\n",
       "      <th>timestamp</th>\n",
       "      <th>waterHeight</th>\n",
       "      <th>waterDischarge</th>\n",
       "      <th>flood</th>\n",
       "      <th>gaugeId</th>\n",
       "      <th>gaugeName</th>\n",
       "      <th>riverMile</th>\n",
       "      <th>prePeakWaterHeight</th>\n",
       "      <th>prePeakTimestamp</th>\n",
       "      <th>prePeakGap</th>\n",
       "      <th>fallsCrestTimestamp</th>\n",
       "      <th>crestAfterFalls</th>\n",
       "    </tr>\n",
       "  </thead>\n",
       "  <tbody>\n",
       "    <tr>\n",
       "      <th>10</th>\n",
       "      <td>1393860</td>\n",
       "      <td>2022-03-01 17:00:00</td>\n",
       "      <td>58.73</td>\n",
       "      <td>46800.00</td>\n",
       "      <td>2022 - March</td>\n",
       "      <td>USGS-22</td>\n",
       "      <td>Carnation</td>\n",
       "      <td>22</td>\n",
       "      <td>58.62</td>\n",
       "      <td>2022-03-01 15:15:00</td>\n",
       "      <td>105.0</td>\n",
       "      <td>2022-03-01 08:00:00</td>\n",
       "      <td>9.000000</td>\n",
       "    </tr>\n",
       "    <tr>\n",
       "      <th>26</th>\n",
       "      <td>1332391</td>\n",
       "      <td>2022-01-21 04:45:00</td>\n",
       "      <td>53.37</td>\n",
       "      <td>19800.00</td>\n",
       "      <td>2022 - January 21st</td>\n",
       "      <td>USGS-22</td>\n",
       "      <td>Carnation</td>\n",
       "      <td>22</td>\n",
       "      <td>53.26</td>\n",
       "      <td>2022-01-21 02:15:00</td>\n",
       "      <td>150.0</td>\n",
       "      <td>2022-01-20 21:15:00</td>\n",
       "      <td>7.500000</td>\n",
       "    </tr>\n",
       "    <tr>\n",
       "      <th>43</th>\n",
       "      <td>1319648</td>\n",
       "      <td>2022-01-13 02:00:00</td>\n",
       "      <td>56.93</td>\n",
       "      <td>28400.00</td>\n",
       "      <td>2022 - January 13th</td>\n",
       "      <td>USGS-22</td>\n",
       "      <td>Carnation</td>\n",
       "      <td>22</td>\n",
       "      <td>56.83</td>\n",
       "      <td>2022-01-13 00:00:00</td>\n",
       "      <td>120.0</td>\n",
       "      <td>2022-01-12 13:30:00</td>\n",
       "      <td>12.500000</td>\n",
       "    </tr>\n",
       "    <tr>\n",
       "      <th>59</th>\n",
       "      <td>1311662</td>\n",
       "      <td>2022-01-07 23:00:00</td>\n",
       "      <td>54.00</td>\n",
       "      <td>21200.00</td>\n",
       "      <td>2022 - January 7th</td>\n",
       "      <td>USGS-22</td>\n",
       "      <td>Carnation</td>\n",
       "      <td>22</td>\n",
       "      <td>53.89</td>\n",
       "      <td>2022-01-07 20:30:00</td>\n",
       "      <td>150.0</td>\n",
       "      <td>2022-01-07 17:15:00</td>\n",
       "      <td>5.750000</td>\n",
       "    </tr>\n",
       "    <tr>\n",
       "      <th>76</th>\n",
       "      <td>1224847</td>\n",
       "      <td>2021-11-13 05:30:00</td>\n",
       "      <td>57.12</td>\n",
       "      <td>28900.00</td>\n",
       "      <td>2021 - November</td>\n",
       "      <td>USGS-22</td>\n",
       "      <td>Carnation</td>\n",
       "      <td>22</td>\n",
       "      <td>56.99</td>\n",
       "      <td>2021-11-13 03:45:00</td>\n",
       "      <td>105.0</td>\n",
       "      <td>2021-11-12 19:00:00</td>\n",
       "      <td>10.500000</td>\n",
       "    </tr>\n",
       "    <tr>\n",
       "      <th>93</th>\n",
       "      <td>1198498</td>\n",
       "      <td>2021-10-29 15:30:00</td>\n",
       "      <td>55.26</td>\n",
       "      <td>24300.00</td>\n",
       "      <td>2021 - October</td>\n",
       "      <td>USGS-22</td>\n",
       "      <td>Carnation</td>\n",
       "      <td>22</td>\n",
       "      <td>55.16</td>\n",
       "      <td>2021-10-29 13:45:00</td>\n",
       "      <td>105.0</td>\n",
       "      <td>2021-10-29 02:45:00</td>\n",
       "      <td>12.750000</td>\n",
       "    </tr>\n",
       "    <tr>\n",
       "      <th>109</th>\n",
       "      <td>828202</td>\n",
       "      <td>2021-02-23 02:45:00</td>\n",
       "      <td>53.03</td>\n",
       "      <td>18800.00</td>\n",
       "      <td>2021 - February</td>\n",
       "      <td>USGS-22</td>\n",
       "      <td>Carnation</td>\n",
       "      <td>22</td>\n",
       "      <td>52.93</td>\n",
       "      <td>2021-02-23 00:30:00</td>\n",
       "      <td>135.0</td>\n",
       "      <td>2021-02-22 19:15:00</td>\n",
       "      <td>7.500000</td>\n",
       "    </tr>\n",
       "    <tr>\n",
       "      <th>122</th>\n",
       "      <td>764823</td>\n",
       "      <td>2021-01-13 18:15:00</td>\n",
       "      <td>55.33</td>\n",
       "      <td>24600.00</td>\n",
       "      <td>2021 - January</td>\n",
       "      <td>USGS-22</td>\n",
       "      <td>Carnation</td>\n",
       "      <td>22</td>\n",
       "      <td>55.22</td>\n",
       "      <td>2021-01-13 16:30:00</td>\n",
       "      <td>105.0</td>\n",
       "      <td>2021-01-13 08:00:00</td>\n",
       "      <td>10.250000</td>\n",
       "    </tr>\n",
       "    <tr>\n",
       "      <th>136</th>\n",
       "      <td>220605</td>\n",
       "      <td>2020-02-07 19:00:00</td>\n",
       "      <td>58.50</td>\n",
       "      <td>42300.00</td>\n",
       "      <td>2020 - February 7th</td>\n",
       "      <td>USGS-22</td>\n",
       "      <td>Carnation</td>\n",
       "      <td>22</td>\n",
       "      <td>58.40</td>\n",
       "      <td>2020-02-07 15:00:00</td>\n",
       "      <td>240.0</td>\n",
       "      <td>2020-02-07 10:20:00</td>\n",
       "      <td>8.666667</td>\n",
       "    </tr>\n",
       "    <tr>\n",
       "      <th>148</th>\n",
       "      <td>212054</td>\n",
       "      <td>2020-02-02 00:00:00</td>\n",
       "      <td>58.42</td>\n",
       "      <td>40600.00</td>\n",
       "      <td>2020 - February 1st</td>\n",
       "      <td>USGS-22</td>\n",
       "      <td>Carnation</td>\n",
       "      <td>22</td>\n",
       "      <td>58.32</td>\n",
       "      <td>2020-02-01 21:45:00</td>\n",
       "      <td>135.0</td>\n",
       "      <td>2020-02-01 15:00:00</td>\n",
       "      <td>9.000000</td>\n",
       "    </tr>\n",
       "    <tr>\n",
       "      <th>160</th>\n",
       "      <td>174252</td>\n",
       "      <td>2020-01-07 20:15:00</td>\n",
       "      <td>56.26</td>\n",
       "      <td>26400.00</td>\n",
       "      <td>2020 - January</td>\n",
       "      <td>USGS-22</td>\n",
       "      <td>Carnation</td>\n",
       "      <td>22</td>\n",
       "      <td>56.16</td>\n",
       "      <td>2020-01-07 18:15:00</td>\n",
       "      <td>120.0</td>\n",
       "      <td>2020-01-07 07:00:00</td>\n",
       "      <td>13.250000</td>\n",
       "    </tr>\n",
       "    <tr>\n",
       "      <th>173</th>\n",
       "      <td>149651</td>\n",
       "      <td>2019-12-21 11:15:00</td>\n",
       "      <td>56.74</td>\n",
       "      <td>31161.72</td>\n",
       "      <td>2019 - December</td>\n",
       "      <td>USGS-22</td>\n",
       "      <td>Carnation</td>\n",
       "      <td>22</td>\n",
       "      <td>56.64</td>\n",
       "      <td>2019-12-21 07:30:00</td>\n",
       "      <td>225.0</td>\n",
       "      <td>2019-12-20 20:00:00</td>\n",
       "      <td>15.250000</td>\n",
       "    </tr>\n",
       "    <tr>\n",
       "      <th>186</th>\n",
       "      <td>49556</td>\n",
       "      <td>2019-10-22 20:45:00</td>\n",
       "      <td>57.97</td>\n",
       "      <td>39439.36</td>\n",
       "      <td>2019 - October</td>\n",
       "      <td>USGS-22</td>\n",
       "      <td>Carnation</td>\n",
       "      <td>22</td>\n",
       "      <td>57.86</td>\n",
       "      <td>2019-10-22 18:45:00</td>\n",
       "      <td>120.0</td>\n",
       "      <td>2019-10-22 08:50:00</td>\n",
       "      <td>11.916667</td>\n",
       "    </tr>\n",
       "  </tbody>\n",
       "</table>\n",
       "</div>"
      ],
      "text/plain": [
       "          id           timestamp  waterHeight  waterDischarge  \\\n",
       "10   1393860 2022-03-01 17:00:00        58.73        46800.00   \n",
       "26   1332391 2022-01-21 04:45:00        53.37        19800.00   \n",
       "43   1319648 2022-01-13 02:00:00        56.93        28400.00   \n",
       "59   1311662 2022-01-07 23:00:00        54.00        21200.00   \n",
       "76   1224847 2021-11-13 05:30:00        57.12        28900.00   \n",
       "93   1198498 2021-10-29 15:30:00        55.26        24300.00   \n",
       "109   828202 2021-02-23 02:45:00        53.03        18800.00   \n",
       "122   764823 2021-01-13 18:15:00        55.33        24600.00   \n",
       "136   220605 2020-02-07 19:00:00        58.50        42300.00   \n",
       "148   212054 2020-02-02 00:00:00        58.42        40600.00   \n",
       "160   174252 2020-01-07 20:15:00        56.26        26400.00   \n",
       "173   149651 2019-12-21 11:15:00        56.74        31161.72   \n",
       "186    49556 2019-10-22 20:45:00        57.97        39439.36   \n",
       "\n",
       "                   flood  gaugeId  gaugeName  riverMile  prePeakWaterHeight  \\\n",
       "10          2022 - March  USGS-22  Carnation         22               58.62   \n",
       "26   2022 - January 21st  USGS-22  Carnation         22               53.26   \n",
       "43   2022 - January 13th  USGS-22  Carnation         22               56.83   \n",
       "59    2022 - January 7th  USGS-22  Carnation         22               53.89   \n",
       "76       2021 - November  USGS-22  Carnation         22               56.99   \n",
       "93        2021 - October  USGS-22  Carnation         22               55.16   \n",
       "109      2021 - February  USGS-22  Carnation         22               52.93   \n",
       "122       2021 - January  USGS-22  Carnation         22               55.22   \n",
       "136  2020 - February 7th  USGS-22  Carnation         22               58.40   \n",
       "148  2020 - February 1st  USGS-22  Carnation         22               58.32   \n",
       "160       2020 - January  USGS-22  Carnation         22               56.16   \n",
       "173      2019 - December  USGS-22  Carnation         22               56.64   \n",
       "186       2019 - October  USGS-22  Carnation         22               57.86   \n",
       "\n",
       "       prePeakTimestamp  prePeakGap fallsCrestTimestamp  crestAfterFalls  \n",
       "10  2022-03-01 15:15:00       105.0 2022-03-01 08:00:00         9.000000  \n",
       "26  2022-01-21 02:15:00       150.0 2022-01-20 21:15:00         7.500000  \n",
       "43  2022-01-13 00:00:00       120.0 2022-01-12 13:30:00        12.500000  \n",
       "59  2022-01-07 20:30:00       150.0 2022-01-07 17:15:00         5.750000  \n",
       "76  2021-11-13 03:45:00       105.0 2021-11-12 19:00:00        10.500000  \n",
       "93  2021-10-29 13:45:00       105.0 2021-10-29 02:45:00        12.750000  \n",
       "109 2021-02-23 00:30:00       135.0 2021-02-22 19:15:00         7.500000  \n",
       "122 2021-01-13 16:30:00       105.0 2021-01-13 08:00:00        10.250000  \n",
       "136 2020-02-07 15:00:00       240.0 2020-02-07 10:20:00         8.666667  \n",
       "148 2020-02-01 21:45:00       135.0 2020-02-01 15:00:00         9.000000  \n",
       "160 2020-01-07 18:15:00       120.0 2020-01-07 07:00:00        13.250000  \n",
       "173 2019-12-21 07:30:00       225.0 2019-12-20 20:00:00        15.250000  \n",
       "186 2019-10-22 18:45:00       120.0 2019-10-22 08:50:00        11.916667  "
      ]
     },
     "execution_count": 27,
     "metadata": {},
     "output_type": "execute_result"
    }
   ],
   "source": [
    "crests_df['crestAfterFalls'] = (crests_df['timestamp'] - crests_df['fallsCrestTimestamp']) / np.timedelta64(1,'h')\n",
    "crests_df[crests_df['gaugeId']=='USGS-22']"
   ]
  },
  {
   "cell_type": "code",
   "execution_count": 54,
   "metadata": {},
   "outputs": [
    {
     "data": {
      "application/vnd.plotly.v1+json": {
       "config": {
        "plotlyServerURL": "https://plot.ly"
       },
       "data": [
        {
         "customdata": [
          [
           "2022 - March",
           "Sno Falls Golf"
          ],
          [
           "2022 - January 21st",
           "Sno Falls Golf"
          ],
          [
           "2022 - January 13th",
           "Sno Falls Golf"
          ],
          [
           "2021 - November",
           "Sno Falls Golf"
          ],
          [
           "2021 - October",
           "Sno Falls Golf"
          ],
          [
           "2021 - February",
           "Sno Falls Golf"
          ],
          [
           "2020 - February 7th",
           "Sno Falls Golf"
          ],
          [
           "2020 - February 1st",
           "Sno Falls Golf"
          ],
          [
           "2020 - January",
           "Sno Falls Golf"
          ],
          [
           "2019 - December",
           "Sno Falls Golf"
          ]
         ],
         "hovertemplate": "gaugeId=SVPA-37<br>crestAfterFalls=%{x}<br>waterHeight=%{y}<br>flood=%{customdata[0]}<br>gaugeName=%{customdata[1]}<extra></extra>",
         "legendgroup": "SVPA-37",
         "marker": {
          "color": "#636efa",
          "symbol": "circle"
         },
         "mode": "markers",
         "name": "SVPA-37",
         "orientation": "v",
         "showlegend": true,
         "type": "scatter",
         "x": [
          1.2516666666666667,
          1.2525,
          1.0019444444444445,
          0.7513888888888889,
          -0.001388888888888889,
          0.5022222222222222,
          1.6677777777777778,
          1.75,
          1.5005555555555556,
          0.2513888888888889
         ],
         "xaxis": "x",
         "y": [
          94.47,
          87.46,
          91.82,
          92.64,
          91.34,
          87.79,
          92.87,
          93.92,
          91.14,
          90.66
         ],
         "yaxis": "y"
        },
        {
         "customdata": [
          [
           "2022 - March",
           "Neal Rd. SE"
          ],
          [
           "2022 - January 21st",
           "Neal Rd. SE"
          ],
          [
           "2022 - January 13th",
           "Neal Rd. SE"
          ],
          [
           "2022 - January 7th",
           "Neal Rd. SE"
          ],
          [
           "2021 - November",
           "Neal Rd. SE"
          ],
          [
           "2021 - October",
           "Neal Rd. SE"
          ]
         ],
         "hovertemplate": "gaugeId=SVPA-36<br>crestAfterFalls=%{x}<br>waterHeight=%{y}<br>flood=%{customdata[0]}<br>gaugeName=%{customdata[1]}<extra></extra>",
         "legendgroup": "SVPA-36",
         "marker": {
          "color": "#EF553B",
          "symbol": "circle"
         },
         "mode": "markers",
         "name": "SVPA-36",
         "orientation": "v",
         "showlegend": true,
         "type": "scatter",
         "x": [
          2.7488888888888887,
          2.748611111111111,
          2.4994444444444444,
          1.75,
          1.2508333333333332,
          2.498611111111111
         ],
         "xaxis": "x",
         "y": [
          80.77,
          76.57,
          79.79,
          76.63,
          80.13,
          79.65
         ],
         "yaxis": "y"
        },
        {
         "customdata": [
          [
           "2022 - March",
           "The T"
          ],
          [
           "2022 - January 13th",
           "The T"
          ],
          [
           "2022 - January 7th",
           "The T"
          ],
          [
           "2021 - November",
           "The T"
          ],
          [
           "2021 - October",
           "The T"
          ],
          [
           "2021 - February",
           "The T"
          ],
          [
           "2020 - February 7th",
           "The T"
          ],
          [
           "2020 - February 1st",
           "The T"
          ],
          [
           "2020 - January",
           "The T"
          ],
          [
           "2019 - October",
           "The T"
          ]
         ],
         "hovertemplate": "gaugeId=SVPA-34<br>crestAfterFalls=%{x}<br>waterHeight=%{y}<br>flood=%{customdata[0]}<br>gaugeName=%{customdata[1]}<extra></extra>",
         "legendgroup": "SVPA-34",
         "marker": {
          "color": "#00cc96",
          "symbol": "circle"
         },
         "mode": "markers",
         "name": "SVPA-34",
         "orientation": "v",
         "showlegend": true,
         "type": "scatter",
         "x": [
          3.999722222222222,
          4.999722222222222,
          3.7527777777777778,
          3.7505555555555556,
          5.2508333333333335,
          3.5,
          2.9155555555555557,
          3.7488888888888887,
          4.75,
          4.6775
         ],
         "xaxis": "x",
         "y": [
          79.97,
          78.29,
          75.92,
          78.95,
          77.78,
          75.78,
          79.44,
          79.82,
          78.32,
          80.47
         ],
         "yaxis": "y"
        },
        {
         "customdata": [
          [
           "2022 - March",
           "Keller Dairy"
          ],
          [
           "2022 - January 21st",
           "Keller Dairy"
          ],
          [
           "2022 - January 13th",
           "Keller Dairy"
          ],
          [
           "2022 - January 7th",
           "Keller Dairy"
          ],
          [
           "2021 - November",
           "Keller Dairy"
          ],
          [
           "2021 - October",
           "Keller Dairy"
          ],
          [
           "2021 - February",
           "Keller Dairy"
          ],
          [
           "2020 - February 7th",
           "Keller Dairy"
          ],
          [
           "2020 - February 1st",
           "Keller Dairy"
          ],
          [
           "2019 - December",
           "Keller Dairy"
          ],
          [
           "2019 - October",
           "Keller Dairy"
          ]
         ],
         "hovertemplate": "gaugeId=SVPA-33<br>crestAfterFalls=%{x}<br>waterHeight=%{y}<br>flood=%{customdata[0]}<br>gaugeName=%{customdata[1]}<extra></extra>",
         "legendgroup": "SVPA-33",
         "marker": {
          "color": "#ab63fa",
          "symbol": "circle"
         },
         "mode": "markers",
         "name": "SVPA-33",
         "orientation": "v",
         "showlegend": true,
         "type": "scatter",
         "x": [
          2.501388888888889,
          3.7505555555555556,
          2.0005555555555556,
          2.7516666666666665,
          1.751111111111111,
          4.249444444444444,
          3.0027777777777778,
          2.1686111111111113,
          2.2527777777777778,
          3.964166666666667,
          3.0858333333333334
         ],
         "xaxis": "x",
         "y": [
          84.96,
          80.55,
          84.24,
          80.69,
          84.59,
          83.93,
          80.56,
          84.75,
          84.97,
          84.1,
          85.84
         ],
         "yaxis": "y"
        },
        {
         "customdata": [
          [
           "2022 - March",
           "Blue Heron Golf"
          ],
          [
           "2022 - January 21st",
           "Blue Heron Golf"
          ],
          [
           "2022 - January 13th",
           "Blue Heron Golf"
          ],
          [
           "2022 - January 7th",
           "Blue Heron Golf"
          ],
          [
           "2021 - November",
           "Blue Heron Golf"
          ],
          [
           "2021 - October",
           "Blue Heron Golf"
          ],
          [
           "2021 - February",
           "Blue Heron Golf"
          ],
          [
           "2020 - January",
           "Blue Heron Golf"
          ],
          [
           "2019 - December",
           "Blue Heron Golf"
          ]
         ],
         "hovertemplate": "gaugeId=SVPA-26<br>crestAfterFalls=%{x}<br>waterHeight=%{y}<br>flood=%{customdata[0]}<br>gaugeName=%{customdata[1]}<extra></extra>",
         "legendgroup": "SVPA-26",
         "marker": {
          "color": "#FFA15A",
          "symbol": "circle"
         },
         "mode": "markers",
         "name": "SVPA-26",
         "orientation": "v",
         "showlegend": true,
         "type": "scatter",
         "x": [
          6.750555555555556,
          5.501388888888889,
          9.5025,
          4.0025,
          8.000555555555556,
          11.2525,
          5.753055555555555,
          10.586944444444445,
          9.510277777777778
         ],
         "xaxis": "x",
         "y": [
          74.93,
          68.8,
          72.45,
          69.11,
          72.79,
          70.66,
          68.6,
          71.93,
          72.12
         ],
         "yaxis": "y"
        },
        {
         "customdata": [
          [
           "2022 - March",
           "Tolt Hill"
          ],
          [
           "2022 - January 21st",
           "Tolt Hill"
          ],
          [
           "2022 - January 13th",
           "Tolt Hill"
          ],
          [
           "2022 - January 7th",
           "Tolt Hill"
          ],
          [
           "2021 - November",
           "Tolt Hill"
          ],
          [
           "2021 - October",
           "Tolt Hill"
          ],
          [
           "2021 - February",
           "Tolt Hill"
          ],
          [
           "2021 - January",
           "Tolt Hill"
          ]
         ],
         "hovertemplate": "gaugeId=SVPA-25<br>crestAfterFalls=%{x}<br>waterHeight=%{y}<br>flood=%{customdata[0]}<br>gaugeName=%{customdata[1]}<extra></extra>",
         "legendgroup": "SVPA-25",
         "marker": {
          "color": "#19d3f3",
          "symbol": "circle"
         },
         "mode": "markers",
         "name": "SVPA-25",
         "orientation": "v",
         "showlegend": true,
         "type": "scatter",
         "x": [
          7.0008333333333335,
          5,
          9.498888888888889,
          1.4916666666666667,
          8.752222222222223,
          10.001111111111111,
          4.503055555555555,
          8.251944444444444
         ],
         "xaxis": "x",
         "y": [
          74.17,
          68.24,
          71.39,
          68.47,
          71.57,
          69.43,
          67.73,
          69.02
         ],
         "yaxis": "y"
        }
       ],
       "layout": {
        "legend": {
         "title": {
          "text": "gaugeId"
         },
         "tracegroupgap": 0
        },
        "margin": {
         "t": 60
        },
        "template": {
         "data": {
          "bar": [
           {
            "error_x": {
             "color": "#2a3f5f"
            },
            "error_y": {
             "color": "#2a3f5f"
            },
            "marker": {
             "line": {
              "color": "#E5ECF6",
              "width": 0.5
             },
             "pattern": {
              "fillmode": "overlay",
              "size": 10,
              "solidity": 0.2
             }
            },
            "type": "bar"
           }
          ],
          "barpolar": [
           {
            "marker": {
             "line": {
              "color": "#E5ECF6",
              "width": 0.5
             },
             "pattern": {
              "fillmode": "overlay",
              "size": 10,
              "solidity": 0.2
             }
            },
            "type": "barpolar"
           }
          ],
          "carpet": [
           {
            "aaxis": {
             "endlinecolor": "#2a3f5f",
             "gridcolor": "white",
             "linecolor": "white",
             "minorgridcolor": "white",
             "startlinecolor": "#2a3f5f"
            },
            "baxis": {
             "endlinecolor": "#2a3f5f",
             "gridcolor": "white",
             "linecolor": "white",
             "minorgridcolor": "white",
             "startlinecolor": "#2a3f5f"
            },
            "type": "carpet"
           }
          ],
          "choropleth": [
           {
            "colorbar": {
             "outlinewidth": 0,
             "ticks": ""
            },
            "type": "choropleth"
           }
          ],
          "contour": [
           {
            "colorbar": {
             "outlinewidth": 0,
             "ticks": ""
            },
            "colorscale": [
             [
              0,
              "#0d0887"
             ],
             [
              0.1111111111111111,
              "#46039f"
             ],
             [
              0.2222222222222222,
              "#7201a8"
             ],
             [
              0.3333333333333333,
              "#9c179e"
             ],
             [
              0.4444444444444444,
              "#bd3786"
             ],
             [
              0.5555555555555556,
              "#d8576b"
             ],
             [
              0.6666666666666666,
              "#ed7953"
             ],
             [
              0.7777777777777778,
              "#fb9f3a"
             ],
             [
              0.8888888888888888,
              "#fdca26"
             ],
             [
              1,
              "#f0f921"
             ]
            ],
            "type": "contour"
           }
          ],
          "contourcarpet": [
           {
            "colorbar": {
             "outlinewidth": 0,
             "ticks": ""
            },
            "type": "contourcarpet"
           }
          ],
          "heatmap": [
           {
            "colorbar": {
             "outlinewidth": 0,
             "ticks": ""
            },
            "colorscale": [
             [
              0,
              "#0d0887"
             ],
             [
              0.1111111111111111,
              "#46039f"
             ],
             [
              0.2222222222222222,
              "#7201a8"
             ],
             [
              0.3333333333333333,
              "#9c179e"
             ],
             [
              0.4444444444444444,
              "#bd3786"
             ],
             [
              0.5555555555555556,
              "#d8576b"
             ],
             [
              0.6666666666666666,
              "#ed7953"
             ],
             [
              0.7777777777777778,
              "#fb9f3a"
             ],
             [
              0.8888888888888888,
              "#fdca26"
             ],
             [
              1,
              "#f0f921"
             ]
            ],
            "type": "heatmap"
           }
          ],
          "heatmapgl": [
           {
            "colorbar": {
             "outlinewidth": 0,
             "ticks": ""
            },
            "colorscale": [
             [
              0,
              "#0d0887"
             ],
             [
              0.1111111111111111,
              "#46039f"
             ],
             [
              0.2222222222222222,
              "#7201a8"
             ],
             [
              0.3333333333333333,
              "#9c179e"
             ],
             [
              0.4444444444444444,
              "#bd3786"
             ],
             [
              0.5555555555555556,
              "#d8576b"
             ],
             [
              0.6666666666666666,
              "#ed7953"
             ],
             [
              0.7777777777777778,
              "#fb9f3a"
             ],
             [
              0.8888888888888888,
              "#fdca26"
             ],
             [
              1,
              "#f0f921"
             ]
            ],
            "type": "heatmapgl"
           }
          ],
          "histogram": [
           {
            "marker": {
             "pattern": {
              "fillmode": "overlay",
              "size": 10,
              "solidity": 0.2
             }
            },
            "type": "histogram"
           }
          ],
          "histogram2d": [
           {
            "colorbar": {
             "outlinewidth": 0,
             "ticks": ""
            },
            "colorscale": [
             [
              0,
              "#0d0887"
             ],
             [
              0.1111111111111111,
              "#46039f"
             ],
             [
              0.2222222222222222,
              "#7201a8"
             ],
             [
              0.3333333333333333,
              "#9c179e"
             ],
             [
              0.4444444444444444,
              "#bd3786"
             ],
             [
              0.5555555555555556,
              "#d8576b"
             ],
             [
              0.6666666666666666,
              "#ed7953"
             ],
             [
              0.7777777777777778,
              "#fb9f3a"
             ],
             [
              0.8888888888888888,
              "#fdca26"
             ],
             [
              1,
              "#f0f921"
             ]
            ],
            "type": "histogram2d"
           }
          ],
          "histogram2dcontour": [
           {
            "colorbar": {
             "outlinewidth": 0,
             "ticks": ""
            },
            "colorscale": [
             [
              0,
              "#0d0887"
             ],
             [
              0.1111111111111111,
              "#46039f"
             ],
             [
              0.2222222222222222,
              "#7201a8"
             ],
             [
              0.3333333333333333,
              "#9c179e"
             ],
             [
              0.4444444444444444,
              "#bd3786"
             ],
             [
              0.5555555555555556,
              "#d8576b"
             ],
             [
              0.6666666666666666,
              "#ed7953"
             ],
             [
              0.7777777777777778,
              "#fb9f3a"
             ],
             [
              0.8888888888888888,
              "#fdca26"
             ],
             [
              1,
              "#f0f921"
             ]
            ],
            "type": "histogram2dcontour"
           }
          ],
          "mesh3d": [
           {
            "colorbar": {
             "outlinewidth": 0,
             "ticks": ""
            },
            "type": "mesh3d"
           }
          ],
          "parcoords": [
           {
            "line": {
             "colorbar": {
              "outlinewidth": 0,
              "ticks": ""
             }
            },
            "type": "parcoords"
           }
          ],
          "pie": [
           {
            "automargin": true,
            "type": "pie"
           }
          ],
          "scatter": [
           {
            "fillpattern": {
             "fillmode": "overlay",
             "size": 10,
             "solidity": 0.2
            },
            "type": "scatter"
           }
          ],
          "scatter3d": [
           {
            "line": {
             "colorbar": {
              "outlinewidth": 0,
              "ticks": ""
             }
            },
            "marker": {
             "colorbar": {
              "outlinewidth": 0,
              "ticks": ""
             }
            },
            "type": "scatter3d"
           }
          ],
          "scattercarpet": [
           {
            "marker": {
             "colorbar": {
              "outlinewidth": 0,
              "ticks": ""
             }
            },
            "type": "scattercarpet"
           }
          ],
          "scattergeo": [
           {
            "marker": {
             "colorbar": {
              "outlinewidth": 0,
              "ticks": ""
             }
            },
            "type": "scattergeo"
           }
          ],
          "scattergl": [
           {
            "marker": {
             "colorbar": {
              "outlinewidth": 0,
              "ticks": ""
             }
            },
            "type": "scattergl"
           }
          ],
          "scattermapbox": [
           {
            "marker": {
             "colorbar": {
              "outlinewidth": 0,
              "ticks": ""
             }
            },
            "type": "scattermapbox"
           }
          ],
          "scatterpolar": [
           {
            "marker": {
             "colorbar": {
              "outlinewidth": 0,
              "ticks": ""
             }
            },
            "type": "scatterpolar"
           }
          ],
          "scatterpolargl": [
           {
            "marker": {
             "colorbar": {
              "outlinewidth": 0,
              "ticks": ""
             }
            },
            "type": "scatterpolargl"
           }
          ],
          "scatterternary": [
           {
            "marker": {
             "colorbar": {
              "outlinewidth": 0,
              "ticks": ""
             }
            },
            "type": "scatterternary"
           }
          ],
          "surface": [
           {
            "colorbar": {
             "outlinewidth": 0,
             "ticks": ""
            },
            "colorscale": [
             [
              0,
              "#0d0887"
             ],
             [
              0.1111111111111111,
              "#46039f"
             ],
             [
              0.2222222222222222,
              "#7201a8"
             ],
             [
              0.3333333333333333,
              "#9c179e"
             ],
             [
              0.4444444444444444,
              "#bd3786"
             ],
             [
              0.5555555555555556,
              "#d8576b"
             ],
             [
              0.6666666666666666,
              "#ed7953"
             ],
             [
              0.7777777777777778,
              "#fb9f3a"
             ],
             [
              0.8888888888888888,
              "#fdca26"
             ],
             [
              1,
              "#f0f921"
             ]
            ],
            "type": "surface"
           }
          ],
          "table": [
           {
            "cells": {
             "fill": {
              "color": "#EBF0F8"
             },
             "line": {
              "color": "white"
             }
            },
            "header": {
             "fill": {
              "color": "#C8D4E3"
             },
             "line": {
              "color": "white"
             }
            },
            "type": "table"
           }
          ]
         },
         "layout": {
          "annotationdefaults": {
           "arrowcolor": "#2a3f5f",
           "arrowhead": 0,
           "arrowwidth": 1
          },
          "autotypenumbers": "strict",
          "coloraxis": {
           "colorbar": {
            "outlinewidth": 0,
            "ticks": ""
           }
          },
          "colorscale": {
           "diverging": [
            [
             0,
             "#8e0152"
            ],
            [
             0.1,
             "#c51b7d"
            ],
            [
             0.2,
             "#de77ae"
            ],
            [
             0.3,
             "#f1b6da"
            ],
            [
             0.4,
             "#fde0ef"
            ],
            [
             0.5,
             "#f7f7f7"
            ],
            [
             0.6,
             "#e6f5d0"
            ],
            [
             0.7,
             "#b8e186"
            ],
            [
             0.8,
             "#7fbc41"
            ],
            [
             0.9,
             "#4d9221"
            ],
            [
             1,
             "#276419"
            ]
           ],
           "sequential": [
            [
             0,
             "#0d0887"
            ],
            [
             0.1111111111111111,
             "#46039f"
            ],
            [
             0.2222222222222222,
             "#7201a8"
            ],
            [
             0.3333333333333333,
             "#9c179e"
            ],
            [
             0.4444444444444444,
             "#bd3786"
            ],
            [
             0.5555555555555556,
             "#d8576b"
            ],
            [
             0.6666666666666666,
             "#ed7953"
            ],
            [
             0.7777777777777778,
             "#fb9f3a"
            ],
            [
             0.8888888888888888,
             "#fdca26"
            ],
            [
             1,
             "#f0f921"
            ]
           ],
           "sequentialminus": [
            [
             0,
             "#0d0887"
            ],
            [
             0.1111111111111111,
             "#46039f"
            ],
            [
             0.2222222222222222,
             "#7201a8"
            ],
            [
             0.3333333333333333,
             "#9c179e"
            ],
            [
             0.4444444444444444,
             "#bd3786"
            ],
            [
             0.5555555555555556,
             "#d8576b"
            ],
            [
             0.6666666666666666,
             "#ed7953"
            ],
            [
             0.7777777777777778,
             "#fb9f3a"
            ],
            [
             0.8888888888888888,
             "#fdca26"
            ],
            [
             1,
             "#f0f921"
            ]
           ]
          },
          "colorway": [
           "#636efa",
           "#EF553B",
           "#00cc96",
           "#ab63fa",
           "#FFA15A",
           "#19d3f3",
           "#FF6692",
           "#B6E880",
           "#FF97FF",
           "#FECB52"
          ],
          "font": {
           "color": "#2a3f5f"
          },
          "geo": {
           "bgcolor": "white",
           "lakecolor": "white",
           "landcolor": "#E5ECF6",
           "showlakes": true,
           "showland": true,
           "subunitcolor": "white"
          },
          "hoverlabel": {
           "align": "left"
          },
          "hovermode": "closest",
          "mapbox": {
           "style": "light"
          },
          "paper_bgcolor": "white",
          "plot_bgcolor": "#E5ECF6",
          "polar": {
           "angularaxis": {
            "gridcolor": "white",
            "linecolor": "white",
            "ticks": ""
           },
           "bgcolor": "#E5ECF6",
           "radialaxis": {
            "gridcolor": "white",
            "linecolor": "white",
            "ticks": ""
           }
          },
          "scene": {
           "xaxis": {
            "backgroundcolor": "#E5ECF6",
            "gridcolor": "white",
            "gridwidth": 2,
            "linecolor": "white",
            "showbackground": true,
            "ticks": "",
            "zerolinecolor": "white"
           },
           "yaxis": {
            "backgroundcolor": "#E5ECF6",
            "gridcolor": "white",
            "gridwidth": 2,
            "linecolor": "white",
            "showbackground": true,
            "ticks": "",
            "zerolinecolor": "white"
           },
           "zaxis": {
            "backgroundcolor": "#E5ECF6",
            "gridcolor": "white",
            "gridwidth": 2,
            "linecolor": "white",
            "showbackground": true,
            "ticks": "",
            "zerolinecolor": "white"
           }
          },
          "shapedefaults": {
           "line": {
            "color": "#2a3f5f"
           }
          },
          "ternary": {
           "aaxis": {
            "gridcolor": "white",
            "linecolor": "white",
            "ticks": ""
           },
           "baxis": {
            "gridcolor": "white",
            "linecolor": "white",
            "ticks": ""
           },
           "bgcolor": "#E5ECF6",
           "caxis": {
            "gridcolor": "white",
            "linecolor": "white",
            "ticks": ""
           }
          },
          "title": {
           "x": 0.05
          },
          "xaxis": {
           "automargin": true,
           "gridcolor": "white",
           "linecolor": "white",
           "ticks": "",
           "title": {
            "standoff": 15
           },
           "zerolinecolor": "white",
           "zerolinewidth": 2
          },
          "yaxis": {
           "automargin": true,
           "gridcolor": "white",
           "linecolor": "white",
           "ticks": "",
           "title": {
            "standoff": 15
           },
           "zerolinecolor": "white",
           "zerolinewidth": 2
          }
         }
        },
        "xaxis": {
         "anchor": "y",
         "domain": [
          0,
          1
         ],
         "title": {
          "text": "crestAfterFalls"
         }
        },
        "yaxis": {
         "anchor": "x",
         "domain": [
          0,
          1
         ],
         "title": {
          "text": "waterHeight"
         }
        }
       }
      }
     },
     "metadata": {},
     "output_type": "display_data"
    }
   ],
   "source": [
    "# crests_df[['crestAfterFalls']]\n",
    "import plotly.express as px\n",
    "fig = px.scatter(crests_df[crests_df['gaugeId'].str.startswith(\"SVPA\") & (crests_df['riverMile']>=22)], x=\"crestAfterFalls\", y=\"waterHeight\", color='gaugeId', hover_data=['flood','gaugeName'])\n",
    "fig.show()"
   ]
  },
  {
   "cell_type": "code",
   "execution_count": 60,
   "metadata": {},
   "outputs": [
    {
     "data": {
      "text/html": [
       "<div>\n",
       "<style scoped>\n",
       "    .dataframe tbody tr th:only-of-type {\n",
       "        vertical-align: middle;\n",
       "    }\n",
       "\n",
       "    .dataframe tbody tr th {\n",
       "        vertical-align: top;\n",
       "    }\n",
       "\n",
       "    .dataframe thead th {\n",
       "        text-align: right;\n",
       "    }\n",
       "</style>\n",
       "<table border=\"1\" class=\"dataframe\">\n",
       "  <thead>\n",
       "    <tr style=\"text-align: right;\">\n",
       "      <th></th>\n",
       "      <th>gaugeId</th>\n",
       "      <th>crestAfterFalls</th>\n",
       "    </tr>\n",
       "  </thead>\n",
       "  <tbody>\n",
       "    <tr>\n",
       "      <th>0</th>\n",
       "      <td>SVPA-12</td>\n",
       "      <td>228.830220</td>\n",
       "    </tr>\n",
       "    <tr>\n",
       "      <th>1</th>\n",
       "      <td>SVPA-15</td>\n",
       "      <td>199.767443</td>\n",
       "    </tr>\n",
       "    <tr>\n",
       "      <th>2</th>\n",
       "      <td>SVPA-15B</td>\n",
       "      <td>366.416807</td>\n",
       "    </tr>\n",
       "    <tr>\n",
       "      <th>3</th>\n",
       "      <td>SVPA-17</td>\n",
       "      <td>241.229692</td>\n",
       "    </tr>\n",
       "    <tr>\n",
       "      <th>4</th>\n",
       "      <td>SVPA-25</td>\n",
       "      <td>8.597696</td>\n",
       "    </tr>\n",
       "    <tr>\n",
       "      <th>5</th>\n",
       "      <td>SVPA-26</td>\n",
       "      <td>6.312261</td>\n",
       "    </tr>\n",
       "    <tr>\n",
       "      <th>6</th>\n",
       "      <td>SVPA-33</td>\n",
       "      <td>0.696954</td>\n",
       "    </tr>\n",
       "    <tr>\n",
       "      <th>7</th>\n",
       "      <td>SVPA-34</td>\n",
       "      <td>0.557433</td>\n",
       "    </tr>\n",
       "    <tr>\n",
       "      <th>8</th>\n",
       "      <td>SVPA-36</td>\n",
       "      <td>0.373973</td>\n",
       "    </tr>\n",
       "    <tr>\n",
       "      <th>9</th>\n",
       "      <td>SVPA-37</td>\n",
       "      <td>0.362039</td>\n",
       "    </tr>\n",
       "  </tbody>\n",
       "</table>\n",
       "</div>"
      ],
      "text/plain": [
       "    gaugeId  crestAfterFalls\n",
       "0   SVPA-12       228.830220\n",
       "1   SVPA-15       199.767443\n",
       "2  SVPA-15B       366.416807\n",
       "3   SVPA-17       241.229692\n",
       "4   SVPA-25         8.597696\n",
       "5   SVPA-26         6.312261\n",
       "6   SVPA-33         0.696954\n",
       "7   SVPA-34         0.557433\n",
       "8   SVPA-36         0.373973\n",
       "9   SVPA-37         0.362039"
      ]
     },
     "execution_count": 60,
     "metadata": {},
     "output_type": "execute_result"
    }
   ],
   "source": [
    "crests_df[crests_df['gaugeId'].str.startswith(\"SVPA\")][['gaugeId','gaugeName','crestAfterFalls']].groupby(['gaugeId']).var().reset_index()"
   ]
  },
  {
   "cell_type": "code",
   "execution_count": 62,
   "metadata": {},
   "outputs": [
    {
     "data": {
      "text/html": [
       "<div>\n",
       "<style scoped>\n",
       "    .dataframe tbody tr th:only-of-type {\n",
       "        vertical-align: middle;\n",
       "    }\n",
       "\n",
       "    .dataframe tbody tr th {\n",
       "        vertical-align: top;\n",
       "    }\n",
       "\n",
       "    .dataframe thead th {\n",
       "        text-align: right;\n",
       "    }\n",
       "</style>\n",
       "<table border=\"1\" class=\"dataframe\">\n",
       "  <thead>\n",
       "    <tr style=\"text-align: right;\">\n",
       "      <th></th>\n",
       "      <th>id</th>\n",
       "      <th>timestamp</th>\n",
       "      <th>waterHeight</th>\n",
       "      <th>waterDischarge</th>\n",
       "      <th>flood</th>\n",
       "      <th>gaugeId</th>\n",
       "      <th>gaugeName</th>\n",
       "      <th>riverMile</th>\n",
       "      <th>prePeakWaterHeight</th>\n",
       "      <th>prePeakTimestamp</th>\n",
       "      <th>prePeakGap</th>\n",
       "      <th>fallsCrestTimestamp</th>\n",
       "      <th>crestAfterFalls</th>\n",
       "      <th>fallsPrePeakTimestamp</th>\n",
       "    </tr>\n",
       "  </thead>\n",
       "  <tbody>\n",
       "    <tr>\n",
       "      <th>0</th>\n",
       "      <td>1392798</td>\n",
       "      <td>2022-03-01 01:15:00</td>\n",
       "      <td>15.76</td>\n",
       "      <td>4550.0</td>\n",
       "      <td>2022 - March</td>\n",
       "      <td>USGS-SF17</td>\n",
       "      <td>South Fork</td>\n",
       "      <td>17</td>\n",
       "      <td>15.64</td>\n",
       "      <td>2022-03-01 00:30:00</td>\n",
       "      <td>45.0</td>\n",
       "      <td>2022-03-01 08:00:00</td>\n",
       "      <td>-6.750000</td>\n",
       "      <td>2022-03-01 07:45:00</td>\n",
       "    </tr>\n",
       "    <tr>\n",
       "      <th>1</th>\n",
       "      <td>1392793</td>\n",
       "      <td>2022-03-01 01:15:00</td>\n",
       "      <td>12.03</td>\n",
       "      <td>18500.0</td>\n",
       "      <td>2022 - March</td>\n",
       "      <td>USGS-MF11</td>\n",
       "      <td>Middle Fork</td>\n",
       "      <td>11</td>\n",
       "      <td>11.93</td>\n",
       "      <td>2022-03-01 00:15:00</td>\n",
       "      <td>60.0</td>\n",
       "      <td>2022-03-01 08:00:00</td>\n",
       "      <td>-6.750000</td>\n",
       "      <td>2022-03-01 07:45:00</td>\n",
       "    </tr>\n",
       "    <tr>\n",
       "      <th>2</th>\n",
       "      <td>1392686</td>\n",
       "      <td>2022-02-28 23:30:00</td>\n",
       "      <td>10.70</td>\n",
       "      <td>10500.0</td>\n",
       "      <td>2022 - March</td>\n",
       "      <td>USGS-NF10</td>\n",
       "      <td>North Fork</td>\n",
       "      <td>10</td>\n",
       "      <td>10.58</td>\n",
       "      <td>2022-02-28 23:15:00</td>\n",
       "      <td>15.0</td>\n",
       "      <td>2022-03-01 08:00:00</td>\n",
       "      <td>-8.500000</td>\n",
       "      <td>2022-03-01 07:45:00</td>\n",
       "    </tr>\n",
       "    <tr>\n",
       "      <th>3</th>\n",
       "      <td>1393252</td>\n",
       "      <td>2022-03-01 08:00:00</td>\n",
       "      <td>16.91</td>\n",
       "      <td>38500.0</td>\n",
       "      <td>2022 - March</td>\n",
       "      <td>USGS-38</td>\n",
       "      <td>Below the Falls</td>\n",
       "      <td>38</td>\n",
       "      <td>16.80</td>\n",
       "      <td>2022-03-01 07:45:00</td>\n",
       "      <td>15.0</td>\n",
       "      <td>2022-03-01 08:00:00</td>\n",
       "      <td>0.000000</td>\n",
       "      <td>2022-03-01 07:45:00</td>\n",
       "    </tr>\n",
       "    <tr>\n",
       "      <th>4</th>\n",
       "      <td>1393330</td>\n",
       "      <td>2022-03-01 09:15:06</td>\n",
       "      <td>94.47</td>\n",
       "      <td>NaN</td>\n",
       "      <td>2022 - March</td>\n",
       "      <td>SVPA-37</td>\n",
       "      <td>Sno Falls Golf</td>\n",
       "      <td>37</td>\n",
       "      <td>94.37</td>\n",
       "      <td>2022-03-01 07:15:06</td>\n",
       "      <td>120.0</td>\n",
       "      <td>2022-03-01 08:00:00</td>\n",
       "      <td>1.251667</td>\n",
       "      <td>2022-03-01 07:45:00</td>\n",
       "    </tr>\n",
       "    <tr>\n",
       "      <th>...</th>\n",
       "      <td>...</td>\n",
       "      <td>...</td>\n",
       "      <td>...</td>\n",
       "      <td>...</td>\n",
       "      <td>...</td>\n",
       "      <td>...</td>\n",
       "      <td>...</td>\n",
       "      <td>...</td>\n",
       "      <td>...</td>\n",
       "      <td>...</td>\n",
       "      <td>...</td>\n",
       "      <td>...</td>\n",
       "      <td>...</td>\n",
       "      <td>...</td>\n",
       "    </tr>\n",
       "    <tr>\n",
       "      <th>184</th>\n",
       "      <td>50292</td>\n",
       "      <td>2019-10-23 06:00:05</td>\n",
       "      <td>53.81</td>\n",
       "      <td>NaN</td>\n",
       "      <td>2019 - October</td>\n",
       "      <td>SVPA-17</td>\n",
       "      <td>NE 100th St</td>\n",
       "      <td>17</td>\n",
       "      <td>53.71</td>\n",
       "      <td>2019-10-23 04:30:05</td>\n",
       "      <td>90.0</td>\n",
       "      <td>2019-10-22 08:50:00</td>\n",
       "      <td>21.168056</td>\n",
       "      <td>2019-10-22 08:45:00</td>\n",
       "    </tr>\n",
       "    <tr>\n",
       "      <th>185</th>\n",
       "      <td>50553</td>\n",
       "      <td>2019-10-23 08:45:03</td>\n",
       "      <td>46.96</td>\n",
       "      <td>NaN</td>\n",
       "      <td>2019 - October</td>\n",
       "      <td>SVPA-15</td>\n",
       "      <td>NE 124th St (E)</td>\n",
       "      <td>15</td>\n",
       "      <td>46.84</td>\n",
       "      <td>2019-10-23 07:00:03</td>\n",
       "      <td>105.0</td>\n",
       "      <td>2019-10-22 08:50:00</td>\n",
       "      <td>23.917500</td>\n",
       "      <td>2019-10-22 08:45:00</td>\n",
       "    </tr>\n",
       "    <tr>\n",
       "      <th>186</th>\n",
       "      <td>50522</td>\n",
       "      <td>2019-10-23 08:30:01</td>\n",
       "      <td>45.26</td>\n",
       "      <td>NaN</td>\n",
       "      <td>2019 - October</td>\n",
       "      <td>SVPA-12</td>\n",
       "      <td>NE 138th St</td>\n",
       "      <td>12</td>\n",
       "      <td>45.16</td>\n",
       "      <td>2019-10-23 06:30:01</td>\n",
       "      <td>120.0</td>\n",
       "      <td>2019-10-22 08:50:00</td>\n",
       "      <td>23.666944</td>\n",
       "      <td>2019-10-22 08:45:00</td>\n",
       "    </tr>\n",
       "    <tr>\n",
       "      <th>187</th>\n",
       "      <td>50633</td>\n",
       "      <td>2019-10-23 09:30:00</td>\n",
       "      <td>40.53</td>\n",
       "      <td>NaN</td>\n",
       "      <td>2019 - October</td>\n",
       "      <td>USGS-9</td>\n",
       "      <td>Duvall</td>\n",
       "      <td>9</td>\n",
       "      <td>40.43</td>\n",
       "      <td>2019-10-23 06:00:00</td>\n",
       "      <td>210.0</td>\n",
       "      <td>2019-10-22 08:50:00</td>\n",
       "      <td>24.666667</td>\n",
       "      <td>2019-10-22 08:45:00</td>\n",
       "    </tr>\n",
       "    <tr>\n",
       "      <th>188</th>\n",
       "      <td>49000</td>\n",
       "      <td>2019-10-22 13:30:00</td>\n",
       "      <td>14.96</td>\n",
       "      <td>NaN</td>\n",
       "      <td>2019 - October</td>\n",
       "      <td>USGS-SH5</td>\n",
       "      <td>Monroe</td>\n",
       "      <td>5</td>\n",
       "      <td>14.86</td>\n",
       "      <td>2019-10-22 12:15:00</td>\n",
       "      <td>75.0</td>\n",
       "      <td>2019-10-22 08:50:00</td>\n",
       "      <td>4.666667</td>\n",
       "      <td>2019-10-22 08:45:00</td>\n",
       "    </tr>\n",
       "  </tbody>\n",
       "</table>\n",
       "<p>189 rows × 14 columns</p>\n",
       "</div>"
      ],
      "text/plain": [
       "          id           timestamp  waterHeight  waterDischarge           flood  \\\n",
       "0    1392798 2022-03-01 01:15:00        15.76          4550.0    2022 - March   \n",
       "1    1392793 2022-03-01 01:15:00        12.03         18500.0    2022 - March   \n",
       "2    1392686 2022-02-28 23:30:00        10.70         10500.0    2022 - March   \n",
       "3    1393252 2022-03-01 08:00:00        16.91         38500.0    2022 - March   \n",
       "4    1393330 2022-03-01 09:15:06        94.47             NaN    2022 - March   \n",
       "..       ...                 ...          ...             ...             ...   \n",
       "184    50292 2019-10-23 06:00:05        53.81             NaN  2019 - October   \n",
       "185    50553 2019-10-23 08:45:03        46.96             NaN  2019 - October   \n",
       "186    50522 2019-10-23 08:30:01        45.26             NaN  2019 - October   \n",
       "187    50633 2019-10-23 09:30:00        40.53             NaN  2019 - October   \n",
       "188    49000 2019-10-22 13:30:00        14.96             NaN  2019 - October   \n",
       "\n",
       "       gaugeId        gaugeName  riverMile  prePeakWaterHeight  \\\n",
       "0    USGS-SF17       South Fork         17               15.64   \n",
       "1    USGS-MF11      Middle Fork         11               11.93   \n",
       "2    USGS-NF10       North Fork         10               10.58   \n",
       "3      USGS-38  Below the Falls         38               16.80   \n",
       "4      SVPA-37   Sno Falls Golf         37               94.37   \n",
       "..         ...              ...        ...                 ...   \n",
       "184    SVPA-17      NE 100th St         17               53.71   \n",
       "185    SVPA-15  NE 124th St (E)         15               46.84   \n",
       "186    SVPA-12      NE 138th St         12               45.16   \n",
       "187     USGS-9           Duvall          9               40.43   \n",
       "188   USGS-SH5           Monroe          5               14.86   \n",
       "\n",
       "       prePeakTimestamp  prePeakGap fallsCrestTimestamp  crestAfterFalls  \\\n",
       "0   2022-03-01 00:30:00        45.0 2022-03-01 08:00:00        -6.750000   \n",
       "1   2022-03-01 00:15:00        60.0 2022-03-01 08:00:00        -6.750000   \n",
       "2   2022-02-28 23:15:00        15.0 2022-03-01 08:00:00        -8.500000   \n",
       "3   2022-03-01 07:45:00        15.0 2022-03-01 08:00:00         0.000000   \n",
       "4   2022-03-01 07:15:06       120.0 2022-03-01 08:00:00         1.251667   \n",
       "..                  ...         ...                 ...              ...   \n",
       "184 2019-10-23 04:30:05        90.0 2019-10-22 08:50:00        21.168056   \n",
       "185 2019-10-23 07:00:03       105.0 2019-10-22 08:50:00        23.917500   \n",
       "186 2019-10-23 06:30:01       120.0 2019-10-22 08:50:00        23.666944   \n",
       "187 2019-10-23 06:00:00       210.0 2019-10-22 08:50:00        24.666667   \n",
       "188 2019-10-22 12:15:00        75.0 2019-10-22 08:50:00         4.666667   \n",
       "\n",
       "    fallsPrePeakTimestamp  \n",
       "0     2022-03-01 07:45:00  \n",
       "1     2022-03-01 07:45:00  \n",
       "2     2022-03-01 07:45:00  \n",
       "3     2022-03-01 07:45:00  \n",
       "4     2022-03-01 07:45:00  \n",
       "..                    ...  \n",
       "184   2019-10-22 08:45:00  \n",
       "185   2019-10-22 08:45:00  \n",
       "186   2019-10-22 08:45:00  \n",
       "187   2019-10-22 08:45:00  \n",
       "188   2019-10-22 08:45:00  \n",
       "\n",
       "[189 rows x 14 columns]"
      ]
     },
     "execution_count": 62,
     "metadata": {},
     "output_type": "execute_result"
    }
   ],
   "source": [
    "falls_floods = pd.DataFrame(crests_df[crests_df['gaugeId']=='USGS-38'][['flood','prePeakTimestamp']])\n",
    "falls_floods['fallsPrePeakTimestamp'] = falls_floods['prePeakTimestamp']\n",
    "falls_floods=falls_floods[['flood','fallsPrePeakTimestamp']]\n",
    "\n",
    "crests_df= pd.merge(crests_df, falls_floods, on='flood',)\n",
    "\n",
    "crests_df"
   ]
  },
  {
   "cell_type": "code",
   "execution_count": 63,
   "metadata": {},
   "outputs": [
    {
     "data": {
      "text/html": [
       "<div>\n",
       "<style scoped>\n",
       "    .dataframe tbody tr th:only-of-type {\n",
       "        vertical-align: middle;\n",
       "    }\n",
       "\n",
       "    .dataframe tbody tr th {\n",
       "        vertical-align: top;\n",
       "    }\n",
       "\n",
       "    .dataframe thead th {\n",
       "        text-align: right;\n",
       "    }\n",
       "</style>\n",
       "<table border=\"1\" class=\"dataframe\">\n",
       "  <thead>\n",
       "    <tr style=\"text-align: right;\">\n",
       "      <th></th>\n",
       "      <th>id</th>\n",
       "      <th>timestamp</th>\n",
       "      <th>waterHeight</th>\n",
       "      <th>waterDischarge</th>\n",
       "      <th>flood</th>\n",
       "      <th>gaugeId</th>\n",
       "      <th>gaugeName</th>\n",
       "      <th>riverMile</th>\n",
       "      <th>prePeakWaterHeight</th>\n",
       "      <th>prePeakTimestamp</th>\n",
       "      <th>prePeakGap</th>\n",
       "      <th>fallsCrestTimestamp</th>\n",
       "      <th>crestAfterFalls</th>\n",
       "      <th>fallsPrePeakTimestamp</th>\n",
       "      <th>crestAfterFallsPre</th>\n",
       "    </tr>\n",
       "  </thead>\n",
       "  <tbody>\n",
       "    <tr>\n",
       "      <th>10</th>\n",
       "      <td>1393860</td>\n",
       "      <td>2022-03-01 17:00:00</td>\n",
       "      <td>58.73</td>\n",
       "      <td>46800.00</td>\n",
       "      <td>2022 - March</td>\n",
       "      <td>USGS-22</td>\n",
       "      <td>Carnation</td>\n",
       "      <td>22</td>\n",
       "      <td>58.62</td>\n",
       "      <td>2022-03-01 15:15:00</td>\n",
       "      <td>105.0</td>\n",
       "      <td>2022-03-01 08:00:00</td>\n",
       "      <td>9.000000</td>\n",
       "      <td>2022-03-01 07:45:00</td>\n",
       "      <td>9.250000</td>\n",
       "    </tr>\n",
       "    <tr>\n",
       "      <th>26</th>\n",
       "      <td>1332391</td>\n",
       "      <td>2022-01-21 04:45:00</td>\n",
       "      <td>53.37</td>\n",
       "      <td>19800.00</td>\n",
       "      <td>2022 - January 21st</td>\n",
       "      <td>USGS-22</td>\n",
       "      <td>Carnation</td>\n",
       "      <td>22</td>\n",
       "      <td>53.26</td>\n",
       "      <td>2022-01-21 02:15:00</td>\n",
       "      <td>150.0</td>\n",
       "      <td>2022-01-20 21:15:00</td>\n",
       "      <td>7.500000</td>\n",
       "      <td>2022-01-20 20:30:00</td>\n",
       "      <td>8.250000</td>\n",
       "    </tr>\n",
       "    <tr>\n",
       "      <th>43</th>\n",
       "      <td>1319648</td>\n",
       "      <td>2022-01-13 02:00:00</td>\n",
       "      <td>56.93</td>\n",
       "      <td>28400.00</td>\n",
       "      <td>2022 - January 13th</td>\n",
       "      <td>USGS-22</td>\n",
       "      <td>Carnation</td>\n",
       "      <td>22</td>\n",
       "      <td>56.83</td>\n",
       "      <td>2022-01-13 00:00:00</td>\n",
       "      <td>120.0</td>\n",
       "      <td>2022-01-12 13:30:00</td>\n",
       "      <td>12.500000</td>\n",
       "      <td>2022-01-12 13:15:00</td>\n",
       "      <td>12.750000</td>\n",
       "    </tr>\n",
       "    <tr>\n",
       "      <th>59</th>\n",
       "      <td>1311662</td>\n",
       "      <td>2022-01-07 23:00:00</td>\n",
       "      <td>54.00</td>\n",
       "      <td>21200.00</td>\n",
       "      <td>2022 - January 7th</td>\n",
       "      <td>USGS-22</td>\n",
       "      <td>Carnation</td>\n",
       "      <td>22</td>\n",
       "      <td>53.89</td>\n",
       "      <td>2022-01-07 20:30:00</td>\n",
       "      <td>150.0</td>\n",
       "      <td>2022-01-07 17:15:00</td>\n",
       "      <td>5.750000</td>\n",
       "      <td>2022-01-07 15:45:00</td>\n",
       "      <td>7.250000</td>\n",
       "    </tr>\n",
       "    <tr>\n",
       "      <th>76</th>\n",
       "      <td>1224847</td>\n",
       "      <td>2021-11-13 05:30:00</td>\n",
       "      <td>57.12</td>\n",
       "      <td>28900.00</td>\n",
       "      <td>2021 - November</td>\n",
       "      <td>USGS-22</td>\n",
       "      <td>Carnation</td>\n",
       "      <td>22</td>\n",
       "      <td>56.99</td>\n",
       "      <td>2021-11-13 03:45:00</td>\n",
       "      <td>105.0</td>\n",
       "      <td>2021-11-12 19:00:00</td>\n",
       "      <td>10.500000</td>\n",
       "      <td>2021-11-12 17:45:00</td>\n",
       "      <td>11.750000</td>\n",
       "    </tr>\n",
       "    <tr>\n",
       "      <th>93</th>\n",
       "      <td>1198498</td>\n",
       "      <td>2021-10-29 15:30:00</td>\n",
       "      <td>55.26</td>\n",
       "      <td>24300.00</td>\n",
       "      <td>2021 - October</td>\n",
       "      <td>USGS-22</td>\n",
       "      <td>Carnation</td>\n",
       "      <td>22</td>\n",
       "      <td>55.16</td>\n",
       "      <td>2021-10-29 13:45:00</td>\n",
       "      <td>105.0</td>\n",
       "      <td>2021-10-29 02:45:00</td>\n",
       "      <td>12.750000</td>\n",
       "      <td>2021-10-29 01:00:00</td>\n",
       "      <td>14.500000</td>\n",
       "    </tr>\n",
       "    <tr>\n",
       "      <th>109</th>\n",
       "      <td>828202</td>\n",
       "      <td>2021-02-23 02:45:00</td>\n",
       "      <td>53.03</td>\n",
       "      <td>18800.00</td>\n",
       "      <td>2021 - February</td>\n",
       "      <td>USGS-22</td>\n",
       "      <td>Carnation</td>\n",
       "      <td>22</td>\n",
       "      <td>52.93</td>\n",
       "      <td>2021-02-23 00:30:00</td>\n",
       "      <td>135.0</td>\n",
       "      <td>2021-02-22 19:15:00</td>\n",
       "      <td>7.500000</td>\n",
       "      <td>2021-02-22 18:15:00</td>\n",
       "      <td>8.500000</td>\n",
       "    </tr>\n",
       "    <tr>\n",
       "      <th>121</th>\n",
       "      <td>764823</td>\n",
       "      <td>2021-01-13 18:15:00</td>\n",
       "      <td>55.33</td>\n",
       "      <td>24600.00</td>\n",
       "      <td>2021 - January</td>\n",
       "      <td>USGS-22</td>\n",
       "      <td>Carnation</td>\n",
       "      <td>22</td>\n",
       "      <td>55.22</td>\n",
       "      <td>2021-01-13 16:30:00</td>\n",
       "      <td>105.0</td>\n",
       "      <td>2021-01-13 08:00:00</td>\n",
       "      <td>10.250000</td>\n",
       "      <td>2021-01-13 07:30:00</td>\n",
       "      <td>10.750000</td>\n",
       "    </tr>\n",
       "    <tr>\n",
       "      <th>134</th>\n",
       "      <td>220605</td>\n",
       "      <td>2020-02-07 19:00:00</td>\n",
       "      <td>58.50</td>\n",
       "      <td>42300.00</td>\n",
       "      <td>2020 - February 7th</td>\n",
       "      <td>USGS-22</td>\n",
       "      <td>Carnation</td>\n",
       "      <td>22</td>\n",
       "      <td>58.40</td>\n",
       "      <td>2020-02-07 15:00:00</td>\n",
       "      <td>240.0</td>\n",
       "      <td>2020-02-07 10:20:00</td>\n",
       "      <td>8.666667</td>\n",
       "      <td>2020-02-07 09:25:00</td>\n",
       "      <td>9.583333</td>\n",
       "    </tr>\n",
       "    <tr>\n",
       "      <th>146</th>\n",
       "      <td>212054</td>\n",
       "      <td>2020-02-02 00:00:00</td>\n",
       "      <td>58.42</td>\n",
       "      <td>40600.00</td>\n",
       "      <td>2020 - February 1st</td>\n",
       "      <td>USGS-22</td>\n",
       "      <td>Carnation</td>\n",
       "      <td>22</td>\n",
       "      <td>58.32</td>\n",
       "      <td>2020-02-01 21:45:00</td>\n",
       "      <td>135.0</td>\n",
       "      <td>2020-02-01 15:00:00</td>\n",
       "      <td>9.000000</td>\n",
       "      <td>2020-02-01 14:00:00</td>\n",
       "      <td>10.000000</td>\n",
       "    </tr>\n",
       "    <tr>\n",
       "      <th>158</th>\n",
       "      <td>174252</td>\n",
       "      <td>2020-01-07 20:15:00</td>\n",
       "      <td>56.26</td>\n",
       "      <td>26400.00</td>\n",
       "      <td>2020 - January</td>\n",
       "      <td>USGS-22</td>\n",
       "      <td>Carnation</td>\n",
       "      <td>22</td>\n",
       "      <td>56.16</td>\n",
       "      <td>2020-01-07 18:15:00</td>\n",
       "      <td>120.0</td>\n",
       "      <td>2020-01-07 07:00:00</td>\n",
       "      <td>13.250000</td>\n",
       "      <td>2020-01-07 05:30:00</td>\n",
       "      <td>14.750000</td>\n",
       "    </tr>\n",
       "    <tr>\n",
       "      <th>171</th>\n",
       "      <td>149651</td>\n",
       "      <td>2019-12-21 11:15:00</td>\n",
       "      <td>56.74</td>\n",
       "      <td>31161.72</td>\n",
       "      <td>2019 - December</td>\n",
       "      <td>USGS-22</td>\n",
       "      <td>Carnation</td>\n",
       "      <td>22</td>\n",
       "      <td>56.64</td>\n",
       "      <td>2019-12-21 07:30:00</td>\n",
       "      <td>225.0</td>\n",
       "      <td>2019-12-20 20:00:00</td>\n",
       "      <td>15.250000</td>\n",
       "      <td>2019-12-20 19:30:00</td>\n",
       "      <td>15.750000</td>\n",
       "    </tr>\n",
       "    <tr>\n",
       "      <th>183</th>\n",
       "      <td>49556</td>\n",
       "      <td>2019-10-22 20:45:00</td>\n",
       "      <td>57.97</td>\n",
       "      <td>39439.36</td>\n",
       "      <td>2019 - October</td>\n",
       "      <td>USGS-22</td>\n",
       "      <td>Carnation</td>\n",
       "      <td>22</td>\n",
       "      <td>57.86</td>\n",
       "      <td>2019-10-22 18:45:00</td>\n",
       "      <td>120.0</td>\n",
       "      <td>2019-10-22 08:50:00</td>\n",
       "      <td>11.916667</td>\n",
       "      <td>2019-10-22 08:45:00</td>\n",
       "      <td>12.000000</td>\n",
       "    </tr>\n",
       "  </tbody>\n",
       "</table>\n",
       "</div>"
      ],
      "text/plain": [
       "          id           timestamp  waterHeight  waterDischarge  \\\n",
       "10   1393860 2022-03-01 17:00:00        58.73        46800.00   \n",
       "26   1332391 2022-01-21 04:45:00        53.37        19800.00   \n",
       "43   1319648 2022-01-13 02:00:00        56.93        28400.00   \n",
       "59   1311662 2022-01-07 23:00:00        54.00        21200.00   \n",
       "76   1224847 2021-11-13 05:30:00        57.12        28900.00   \n",
       "93   1198498 2021-10-29 15:30:00        55.26        24300.00   \n",
       "109   828202 2021-02-23 02:45:00        53.03        18800.00   \n",
       "121   764823 2021-01-13 18:15:00        55.33        24600.00   \n",
       "134   220605 2020-02-07 19:00:00        58.50        42300.00   \n",
       "146   212054 2020-02-02 00:00:00        58.42        40600.00   \n",
       "158   174252 2020-01-07 20:15:00        56.26        26400.00   \n",
       "171   149651 2019-12-21 11:15:00        56.74        31161.72   \n",
       "183    49556 2019-10-22 20:45:00        57.97        39439.36   \n",
       "\n",
       "                   flood  gaugeId  gaugeName  riverMile  prePeakWaterHeight  \\\n",
       "10          2022 - March  USGS-22  Carnation         22               58.62   \n",
       "26   2022 - January 21st  USGS-22  Carnation         22               53.26   \n",
       "43   2022 - January 13th  USGS-22  Carnation         22               56.83   \n",
       "59    2022 - January 7th  USGS-22  Carnation         22               53.89   \n",
       "76       2021 - November  USGS-22  Carnation         22               56.99   \n",
       "93        2021 - October  USGS-22  Carnation         22               55.16   \n",
       "109      2021 - February  USGS-22  Carnation         22               52.93   \n",
       "121       2021 - January  USGS-22  Carnation         22               55.22   \n",
       "134  2020 - February 7th  USGS-22  Carnation         22               58.40   \n",
       "146  2020 - February 1st  USGS-22  Carnation         22               58.32   \n",
       "158       2020 - January  USGS-22  Carnation         22               56.16   \n",
       "171      2019 - December  USGS-22  Carnation         22               56.64   \n",
       "183       2019 - October  USGS-22  Carnation         22               57.86   \n",
       "\n",
       "       prePeakTimestamp  prePeakGap fallsCrestTimestamp  crestAfterFalls  \\\n",
       "10  2022-03-01 15:15:00       105.0 2022-03-01 08:00:00         9.000000   \n",
       "26  2022-01-21 02:15:00       150.0 2022-01-20 21:15:00         7.500000   \n",
       "43  2022-01-13 00:00:00       120.0 2022-01-12 13:30:00        12.500000   \n",
       "59  2022-01-07 20:30:00       150.0 2022-01-07 17:15:00         5.750000   \n",
       "76  2021-11-13 03:45:00       105.0 2021-11-12 19:00:00        10.500000   \n",
       "93  2021-10-29 13:45:00       105.0 2021-10-29 02:45:00        12.750000   \n",
       "109 2021-02-23 00:30:00       135.0 2021-02-22 19:15:00         7.500000   \n",
       "121 2021-01-13 16:30:00       105.0 2021-01-13 08:00:00        10.250000   \n",
       "134 2020-02-07 15:00:00       240.0 2020-02-07 10:20:00         8.666667   \n",
       "146 2020-02-01 21:45:00       135.0 2020-02-01 15:00:00         9.000000   \n",
       "158 2020-01-07 18:15:00       120.0 2020-01-07 07:00:00        13.250000   \n",
       "171 2019-12-21 07:30:00       225.0 2019-12-20 20:00:00        15.250000   \n",
       "183 2019-10-22 18:45:00       120.0 2019-10-22 08:50:00        11.916667   \n",
       "\n",
       "    fallsPrePeakTimestamp  crestAfterFallsPre  \n",
       "10    2022-03-01 07:45:00            9.250000  \n",
       "26    2022-01-20 20:30:00            8.250000  \n",
       "43    2022-01-12 13:15:00           12.750000  \n",
       "59    2022-01-07 15:45:00            7.250000  \n",
       "76    2021-11-12 17:45:00           11.750000  \n",
       "93    2021-10-29 01:00:00           14.500000  \n",
       "109   2021-02-22 18:15:00            8.500000  \n",
       "121   2021-01-13 07:30:00           10.750000  \n",
       "134   2020-02-07 09:25:00            9.583333  \n",
       "146   2020-02-01 14:00:00           10.000000  \n",
       "158   2020-01-07 05:30:00           14.750000  \n",
       "171   2019-12-20 19:30:00           15.750000  \n",
       "183   2019-10-22 08:45:00           12.000000  "
      ]
     },
     "execution_count": 63,
     "metadata": {},
     "output_type": "execute_result"
    }
   ],
   "source": [
    "crests_df['crestAfterFallsPre'] = (crests_df['timestamp'] - crests_df['fallsPrePeakTimestamp']) / np.timedelta64(1,'h')\n",
    "crests_df[crests_df['gaugeId']=='USGS-22']"
   ]
  },
  {
   "cell_type": "code",
   "execution_count": 64,
   "metadata": {},
   "outputs": [
    {
     "data": {
      "application/vnd.plotly.v1+json": {
       "config": {
        "plotlyServerURL": "https://plot.ly"
       },
       "data": [
        {
         "customdata": [
          [
           "2022 - March",
           "Sno Falls Golf"
          ],
          [
           "2022 - January 21st",
           "Sno Falls Golf"
          ],
          [
           "2022 - January 13th",
           "Sno Falls Golf"
          ],
          [
           "2021 - November",
           "Sno Falls Golf"
          ],
          [
           "2021 - October",
           "Sno Falls Golf"
          ],
          [
           "2021 - February",
           "Sno Falls Golf"
          ],
          [
           "2020 - February 7th",
           "Sno Falls Golf"
          ],
          [
           "2020 - February 1st",
           "Sno Falls Golf"
          ],
          [
           "2020 - January",
           "Sno Falls Golf"
          ],
          [
           "2019 - December",
           "Sno Falls Golf"
          ]
         ],
         "hovertemplate": "gaugeId=SVPA-37<br>crestAfterFallsPre=%{x}<br>waterHeight=%{y}<br>flood=%{customdata[0]}<br>gaugeName=%{customdata[1]}<extra></extra>",
         "legendgroup": "SVPA-37",
         "marker": {
          "color": "#636efa",
          "symbol": "circle"
         },
         "mode": "markers",
         "name": "SVPA-37",
         "orientation": "v",
         "showlegend": true,
         "type": "scatter",
         "x": [
          1.5016666666666667,
          2.0025,
          1.2519444444444445,
          2.001388888888889,
          1.7486111111111111,
          1.5022222222222221,
          2.5844444444444443,
          2.75,
          3.0005555555555556,
          0.7513888888888889
         ],
         "xaxis": "x",
         "y": [
          94.47,
          87.46,
          91.82,
          92.64,
          91.34,
          87.79,
          92.87,
          93.92,
          91.14,
          90.66
         ],
         "yaxis": "y"
        },
        {
         "customdata": [
          [
           "2022 - March",
           "Neal Rd. SE"
          ],
          [
           "2022 - January 21st",
           "Neal Rd. SE"
          ],
          [
           "2022 - January 13th",
           "Neal Rd. SE"
          ],
          [
           "2022 - January 7th",
           "Neal Rd. SE"
          ],
          [
           "2021 - November",
           "Neal Rd. SE"
          ],
          [
           "2021 - October",
           "Neal Rd. SE"
          ]
         ],
         "hovertemplate": "gaugeId=SVPA-36<br>crestAfterFallsPre=%{x}<br>waterHeight=%{y}<br>flood=%{customdata[0]}<br>gaugeName=%{customdata[1]}<extra></extra>",
         "legendgroup": "SVPA-36",
         "marker": {
          "color": "#EF553B",
          "symbol": "circle"
         },
         "mode": "markers",
         "name": "SVPA-36",
         "orientation": "v",
         "showlegend": true,
         "type": "scatter",
         "x": [
          2.9988888888888887,
          3.498611111111111,
          2.7494444444444444,
          3.25,
          2.5008333333333335,
          4.248611111111111
         ],
         "xaxis": "x",
         "y": [
          80.77,
          76.57,
          79.79,
          76.63,
          80.13,
          79.65
         ],
         "yaxis": "y"
        },
        {
         "customdata": [
          [
           "2022 - March",
           "The T"
          ],
          [
           "2022 - January 13th",
           "The T"
          ],
          [
           "2022 - January 7th",
           "The T"
          ],
          [
           "2021 - November",
           "The T"
          ],
          [
           "2021 - October",
           "The T"
          ],
          [
           "2021 - February",
           "The T"
          ],
          [
           "2020 - February 7th",
           "The T"
          ],
          [
           "2020 - February 1st",
           "The T"
          ],
          [
           "2020 - January",
           "The T"
          ],
          [
           "2019 - October",
           "The T"
          ]
         ],
         "hovertemplate": "gaugeId=SVPA-34<br>crestAfterFallsPre=%{x}<br>waterHeight=%{y}<br>flood=%{customdata[0]}<br>gaugeName=%{customdata[1]}<extra></extra>",
         "legendgroup": "SVPA-34",
         "marker": {
          "color": "#00cc96",
          "symbol": "circle"
         },
         "mode": "markers",
         "name": "SVPA-34",
         "orientation": "v",
         "showlegend": true,
         "type": "scatter",
         "x": [
          4.249722222222222,
          5.249722222222222,
          5.252777777777778,
          5.000555555555556,
          7.0008333333333335,
          4.5,
          3.832222222222222,
          4.748888888888889,
          6.25,
          4.760833333333333
         ],
         "xaxis": "x",
         "y": [
          79.97,
          78.29,
          75.92,
          78.95,
          77.78,
          75.78,
          79.44,
          79.82,
          78.32,
          80.47
         ],
         "yaxis": "y"
        },
        {
         "customdata": [
          [
           "2022 - March",
           "Keller Dairy"
          ],
          [
           "2022 - January 21st",
           "Keller Dairy"
          ],
          [
           "2022 - January 13th",
           "Keller Dairy"
          ],
          [
           "2022 - January 7th",
           "Keller Dairy"
          ],
          [
           "2021 - November",
           "Keller Dairy"
          ],
          [
           "2021 - October",
           "Keller Dairy"
          ],
          [
           "2021 - February",
           "Keller Dairy"
          ],
          [
           "2020 - February 7th",
           "Keller Dairy"
          ],
          [
           "2020 - February 1st",
           "Keller Dairy"
          ],
          [
           "2019 - December",
           "Keller Dairy"
          ],
          [
           "2019 - October",
           "Keller Dairy"
          ]
         ],
         "hovertemplate": "gaugeId=SVPA-33<br>crestAfterFallsPre=%{x}<br>waterHeight=%{y}<br>flood=%{customdata[0]}<br>gaugeName=%{customdata[1]}<extra></extra>",
         "legendgroup": "SVPA-33",
         "marker": {
          "color": "#ab63fa",
          "symbol": "circle"
         },
         "mode": "markers",
         "name": "SVPA-33",
         "orientation": "v",
         "showlegend": true,
         "type": "scatter",
         "x": [
          2.751388888888889,
          4.500555555555556,
          2.2505555555555556,
          4.251666666666667,
          3.0011111111111113,
          5.999444444444444,
          4.002777777777778,
          3.085277777777778,
          3.2527777777777778,
          4.464166666666666,
          3.1691666666666665
         ],
         "xaxis": "x",
         "y": [
          84.96,
          80.55,
          84.24,
          80.69,
          84.59,
          83.93,
          80.56,
          84.75,
          84.97,
          84.1,
          85.84
         ],
         "yaxis": "y"
        },
        {
         "customdata": [
          [
           "2022 - March",
           "Blue Heron Golf"
          ],
          [
           "2022 - January 21st",
           "Blue Heron Golf"
          ],
          [
           "2022 - January 13th",
           "Blue Heron Golf"
          ],
          [
           "2022 - January 7th",
           "Blue Heron Golf"
          ],
          [
           "2021 - November",
           "Blue Heron Golf"
          ],
          [
           "2021 - October",
           "Blue Heron Golf"
          ],
          [
           "2021 - February",
           "Blue Heron Golf"
          ],
          [
           "2020 - January",
           "Blue Heron Golf"
          ],
          [
           "2019 - December",
           "Blue Heron Golf"
          ]
         ],
         "hovertemplate": "gaugeId=SVPA-26<br>crestAfterFallsPre=%{x}<br>waterHeight=%{y}<br>flood=%{customdata[0]}<br>gaugeName=%{customdata[1]}<extra></extra>",
         "legendgroup": "SVPA-26",
         "marker": {
          "color": "#FFA15A",
          "symbol": "circle"
         },
         "mode": "markers",
         "name": "SVPA-26",
         "orientation": "v",
         "showlegend": true,
         "type": "scatter",
         "x": [
          7.000555555555556,
          6.251388888888889,
          9.7525,
          5.5025,
          9.250555555555556,
          13.0025,
          6.753055555555555,
          12.086944444444445,
          10.010277777777778
         ],
         "xaxis": "x",
         "y": [
          74.93,
          68.8,
          72.45,
          69.11,
          72.79,
          70.66,
          68.6,
          71.93,
          72.12
         ],
         "yaxis": "y"
        },
        {
         "customdata": [
          [
           "2022 - March",
           "Tolt Hill"
          ],
          [
           "2022 - January 21st",
           "Tolt Hill"
          ],
          [
           "2022 - January 13th",
           "Tolt Hill"
          ],
          [
           "2022 - January 7th",
           "Tolt Hill"
          ],
          [
           "2021 - November",
           "Tolt Hill"
          ],
          [
           "2021 - October",
           "Tolt Hill"
          ],
          [
           "2021 - February",
           "Tolt Hill"
          ],
          [
           "2021 - January",
           "Tolt Hill"
          ]
         ],
         "hovertemplate": "gaugeId=SVPA-25<br>crestAfterFallsPre=%{x}<br>waterHeight=%{y}<br>flood=%{customdata[0]}<br>gaugeName=%{customdata[1]}<extra></extra>",
         "legendgroup": "SVPA-25",
         "marker": {
          "color": "#19d3f3",
          "symbol": "circle"
         },
         "mode": "markers",
         "name": "SVPA-25",
         "orientation": "v",
         "showlegend": true,
         "type": "scatter",
         "x": [
          7.2508333333333335,
          5.75,
          9.748888888888889,
          2.9916666666666667,
          10.002222222222223,
          11.751111111111111,
          5.503055555555555,
          8.751944444444444
         ],
         "xaxis": "x",
         "y": [
          74.17,
          68.24,
          71.39,
          68.47,
          71.57,
          69.43,
          67.73,
          69.02
         ],
         "yaxis": "y"
        }
       ],
       "layout": {
        "legend": {
         "title": {
          "text": "gaugeId"
         },
         "tracegroupgap": 0
        },
        "margin": {
         "t": 60
        },
        "template": {
         "data": {
          "bar": [
           {
            "error_x": {
             "color": "#2a3f5f"
            },
            "error_y": {
             "color": "#2a3f5f"
            },
            "marker": {
             "line": {
              "color": "#E5ECF6",
              "width": 0.5
             },
             "pattern": {
              "fillmode": "overlay",
              "size": 10,
              "solidity": 0.2
             }
            },
            "type": "bar"
           }
          ],
          "barpolar": [
           {
            "marker": {
             "line": {
              "color": "#E5ECF6",
              "width": 0.5
             },
             "pattern": {
              "fillmode": "overlay",
              "size": 10,
              "solidity": 0.2
             }
            },
            "type": "barpolar"
           }
          ],
          "carpet": [
           {
            "aaxis": {
             "endlinecolor": "#2a3f5f",
             "gridcolor": "white",
             "linecolor": "white",
             "minorgridcolor": "white",
             "startlinecolor": "#2a3f5f"
            },
            "baxis": {
             "endlinecolor": "#2a3f5f",
             "gridcolor": "white",
             "linecolor": "white",
             "minorgridcolor": "white",
             "startlinecolor": "#2a3f5f"
            },
            "type": "carpet"
           }
          ],
          "choropleth": [
           {
            "colorbar": {
             "outlinewidth": 0,
             "ticks": ""
            },
            "type": "choropleth"
           }
          ],
          "contour": [
           {
            "colorbar": {
             "outlinewidth": 0,
             "ticks": ""
            },
            "colorscale": [
             [
              0,
              "#0d0887"
             ],
             [
              0.1111111111111111,
              "#46039f"
             ],
             [
              0.2222222222222222,
              "#7201a8"
             ],
             [
              0.3333333333333333,
              "#9c179e"
             ],
             [
              0.4444444444444444,
              "#bd3786"
             ],
             [
              0.5555555555555556,
              "#d8576b"
             ],
             [
              0.6666666666666666,
              "#ed7953"
             ],
             [
              0.7777777777777778,
              "#fb9f3a"
             ],
             [
              0.8888888888888888,
              "#fdca26"
             ],
             [
              1,
              "#f0f921"
             ]
            ],
            "type": "contour"
           }
          ],
          "contourcarpet": [
           {
            "colorbar": {
             "outlinewidth": 0,
             "ticks": ""
            },
            "type": "contourcarpet"
           }
          ],
          "heatmap": [
           {
            "colorbar": {
             "outlinewidth": 0,
             "ticks": ""
            },
            "colorscale": [
             [
              0,
              "#0d0887"
             ],
             [
              0.1111111111111111,
              "#46039f"
             ],
             [
              0.2222222222222222,
              "#7201a8"
             ],
             [
              0.3333333333333333,
              "#9c179e"
             ],
             [
              0.4444444444444444,
              "#bd3786"
             ],
             [
              0.5555555555555556,
              "#d8576b"
             ],
             [
              0.6666666666666666,
              "#ed7953"
             ],
             [
              0.7777777777777778,
              "#fb9f3a"
             ],
             [
              0.8888888888888888,
              "#fdca26"
             ],
             [
              1,
              "#f0f921"
             ]
            ],
            "type": "heatmap"
           }
          ],
          "heatmapgl": [
           {
            "colorbar": {
             "outlinewidth": 0,
             "ticks": ""
            },
            "colorscale": [
             [
              0,
              "#0d0887"
             ],
             [
              0.1111111111111111,
              "#46039f"
             ],
             [
              0.2222222222222222,
              "#7201a8"
             ],
             [
              0.3333333333333333,
              "#9c179e"
             ],
             [
              0.4444444444444444,
              "#bd3786"
             ],
             [
              0.5555555555555556,
              "#d8576b"
             ],
             [
              0.6666666666666666,
              "#ed7953"
             ],
             [
              0.7777777777777778,
              "#fb9f3a"
             ],
             [
              0.8888888888888888,
              "#fdca26"
             ],
             [
              1,
              "#f0f921"
             ]
            ],
            "type": "heatmapgl"
           }
          ],
          "histogram": [
           {
            "marker": {
             "pattern": {
              "fillmode": "overlay",
              "size": 10,
              "solidity": 0.2
             }
            },
            "type": "histogram"
           }
          ],
          "histogram2d": [
           {
            "colorbar": {
             "outlinewidth": 0,
             "ticks": ""
            },
            "colorscale": [
             [
              0,
              "#0d0887"
             ],
             [
              0.1111111111111111,
              "#46039f"
             ],
             [
              0.2222222222222222,
              "#7201a8"
             ],
             [
              0.3333333333333333,
              "#9c179e"
             ],
             [
              0.4444444444444444,
              "#bd3786"
             ],
             [
              0.5555555555555556,
              "#d8576b"
             ],
             [
              0.6666666666666666,
              "#ed7953"
             ],
             [
              0.7777777777777778,
              "#fb9f3a"
             ],
             [
              0.8888888888888888,
              "#fdca26"
             ],
             [
              1,
              "#f0f921"
             ]
            ],
            "type": "histogram2d"
           }
          ],
          "histogram2dcontour": [
           {
            "colorbar": {
             "outlinewidth": 0,
             "ticks": ""
            },
            "colorscale": [
             [
              0,
              "#0d0887"
             ],
             [
              0.1111111111111111,
              "#46039f"
             ],
             [
              0.2222222222222222,
              "#7201a8"
             ],
             [
              0.3333333333333333,
              "#9c179e"
             ],
             [
              0.4444444444444444,
              "#bd3786"
             ],
             [
              0.5555555555555556,
              "#d8576b"
             ],
             [
              0.6666666666666666,
              "#ed7953"
             ],
             [
              0.7777777777777778,
              "#fb9f3a"
             ],
             [
              0.8888888888888888,
              "#fdca26"
             ],
             [
              1,
              "#f0f921"
             ]
            ],
            "type": "histogram2dcontour"
           }
          ],
          "mesh3d": [
           {
            "colorbar": {
             "outlinewidth": 0,
             "ticks": ""
            },
            "type": "mesh3d"
           }
          ],
          "parcoords": [
           {
            "line": {
             "colorbar": {
              "outlinewidth": 0,
              "ticks": ""
             }
            },
            "type": "parcoords"
           }
          ],
          "pie": [
           {
            "automargin": true,
            "type": "pie"
           }
          ],
          "scatter": [
           {
            "fillpattern": {
             "fillmode": "overlay",
             "size": 10,
             "solidity": 0.2
            },
            "type": "scatter"
           }
          ],
          "scatter3d": [
           {
            "line": {
             "colorbar": {
              "outlinewidth": 0,
              "ticks": ""
             }
            },
            "marker": {
             "colorbar": {
              "outlinewidth": 0,
              "ticks": ""
             }
            },
            "type": "scatter3d"
           }
          ],
          "scattercarpet": [
           {
            "marker": {
             "colorbar": {
              "outlinewidth": 0,
              "ticks": ""
             }
            },
            "type": "scattercarpet"
           }
          ],
          "scattergeo": [
           {
            "marker": {
             "colorbar": {
              "outlinewidth": 0,
              "ticks": ""
             }
            },
            "type": "scattergeo"
           }
          ],
          "scattergl": [
           {
            "marker": {
             "colorbar": {
              "outlinewidth": 0,
              "ticks": ""
             }
            },
            "type": "scattergl"
           }
          ],
          "scattermapbox": [
           {
            "marker": {
             "colorbar": {
              "outlinewidth": 0,
              "ticks": ""
             }
            },
            "type": "scattermapbox"
           }
          ],
          "scatterpolar": [
           {
            "marker": {
             "colorbar": {
              "outlinewidth": 0,
              "ticks": ""
             }
            },
            "type": "scatterpolar"
           }
          ],
          "scatterpolargl": [
           {
            "marker": {
             "colorbar": {
              "outlinewidth": 0,
              "ticks": ""
             }
            },
            "type": "scatterpolargl"
           }
          ],
          "scatterternary": [
           {
            "marker": {
             "colorbar": {
              "outlinewidth": 0,
              "ticks": ""
             }
            },
            "type": "scatterternary"
           }
          ],
          "surface": [
           {
            "colorbar": {
             "outlinewidth": 0,
             "ticks": ""
            },
            "colorscale": [
             [
              0,
              "#0d0887"
             ],
             [
              0.1111111111111111,
              "#46039f"
             ],
             [
              0.2222222222222222,
              "#7201a8"
             ],
             [
              0.3333333333333333,
              "#9c179e"
             ],
             [
              0.4444444444444444,
              "#bd3786"
             ],
             [
              0.5555555555555556,
              "#d8576b"
             ],
             [
              0.6666666666666666,
              "#ed7953"
             ],
             [
              0.7777777777777778,
              "#fb9f3a"
             ],
             [
              0.8888888888888888,
              "#fdca26"
             ],
             [
              1,
              "#f0f921"
             ]
            ],
            "type": "surface"
           }
          ],
          "table": [
           {
            "cells": {
             "fill": {
              "color": "#EBF0F8"
             },
             "line": {
              "color": "white"
             }
            },
            "header": {
             "fill": {
              "color": "#C8D4E3"
             },
             "line": {
              "color": "white"
             }
            },
            "type": "table"
           }
          ]
         },
         "layout": {
          "annotationdefaults": {
           "arrowcolor": "#2a3f5f",
           "arrowhead": 0,
           "arrowwidth": 1
          },
          "autotypenumbers": "strict",
          "coloraxis": {
           "colorbar": {
            "outlinewidth": 0,
            "ticks": ""
           }
          },
          "colorscale": {
           "diverging": [
            [
             0,
             "#8e0152"
            ],
            [
             0.1,
             "#c51b7d"
            ],
            [
             0.2,
             "#de77ae"
            ],
            [
             0.3,
             "#f1b6da"
            ],
            [
             0.4,
             "#fde0ef"
            ],
            [
             0.5,
             "#f7f7f7"
            ],
            [
             0.6,
             "#e6f5d0"
            ],
            [
             0.7,
             "#b8e186"
            ],
            [
             0.8,
             "#7fbc41"
            ],
            [
             0.9,
             "#4d9221"
            ],
            [
             1,
             "#276419"
            ]
           ],
           "sequential": [
            [
             0,
             "#0d0887"
            ],
            [
             0.1111111111111111,
             "#46039f"
            ],
            [
             0.2222222222222222,
             "#7201a8"
            ],
            [
             0.3333333333333333,
             "#9c179e"
            ],
            [
             0.4444444444444444,
             "#bd3786"
            ],
            [
             0.5555555555555556,
             "#d8576b"
            ],
            [
             0.6666666666666666,
             "#ed7953"
            ],
            [
             0.7777777777777778,
             "#fb9f3a"
            ],
            [
             0.8888888888888888,
             "#fdca26"
            ],
            [
             1,
             "#f0f921"
            ]
           ],
           "sequentialminus": [
            [
             0,
             "#0d0887"
            ],
            [
             0.1111111111111111,
             "#46039f"
            ],
            [
             0.2222222222222222,
             "#7201a8"
            ],
            [
             0.3333333333333333,
             "#9c179e"
            ],
            [
             0.4444444444444444,
             "#bd3786"
            ],
            [
             0.5555555555555556,
             "#d8576b"
            ],
            [
             0.6666666666666666,
             "#ed7953"
            ],
            [
             0.7777777777777778,
             "#fb9f3a"
            ],
            [
             0.8888888888888888,
             "#fdca26"
            ],
            [
             1,
             "#f0f921"
            ]
           ]
          },
          "colorway": [
           "#636efa",
           "#EF553B",
           "#00cc96",
           "#ab63fa",
           "#FFA15A",
           "#19d3f3",
           "#FF6692",
           "#B6E880",
           "#FF97FF",
           "#FECB52"
          ],
          "font": {
           "color": "#2a3f5f"
          },
          "geo": {
           "bgcolor": "white",
           "lakecolor": "white",
           "landcolor": "#E5ECF6",
           "showlakes": true,
           "showland": true,
           "subunitcolor": "white"
          },
          "hoverlabel": {
           "align": "left"
          },
          "hovermode": "closest",
          "mapbox": {
           "style": "light"
          },
          "paper_bgcolor": "white",
          "plot_bgcolor": "#E5ECF6",
          "polar": {
           "angularaxis": {
            "gridcolor": "white",
            "linecolor": "white",
            "ticks": ""
           },
           "bgcolor": "#E5ECF6",
           "radialaxis": {
            "gridcolor": "white",
            "linecolor": "white",
            "ticks": ""
           }
          },
          "scene": {
           "xaxis": {
            "backgroundcolor": "#E5ECF6",
            "gridcolor": "white",
            "gridwidth": 2,
            "linecolor": "white",
            "showbackground": true,
            "ticks": "",
            "zerolinecolor": "white"
           },
           "yaxis": {
            "backgroundcolor": "#E5ECF6",
            "gridcolor": "white",
            "gridwidth": 2,
            "linecolor": "white",
            "showbackground": true,
            "ticks": "",
            "zerolinecolor": "white"
           },
           "zaxis": {
            "backgroundcolor": "#E5ECF6",
            "gridcolor": "white",
            "gridwidth": 2,
            "linecolor": "white",
            "showbackground": true,
            "ticks": "",
            "zerolinecolor": "white"
           }
          },
          "shapedefaults": {
           "line": {
            "color": "#2a3f5f"
           }
          },
          "ternary": {
           "aaxis": {
            "gridcolor": "white",
            "linecolor": "white",
            "ticks": ""
           },
           "baxis": {
            "gridcolor": "white",
            "linecolor": "white",
            "ticks": ""
           },
           "bgcolor": "#E5ECF6",
           "caxis": {
            "gridcolor": "white",
            "linecolor": "white",
            "ticks": ""
           }
          },
          "title": {
           "x": 0.05
          },
          "xaxis": {
           "automargin": true,
           "gridcolor": "white",
           "linecolor": "white",
           "ticks": "",
           "title": {
            "standoff": 15
           },
           "zerolinecolor": "white",
           "zerolinewidth": 2
          },
          "yaxis": {
           "automargin": true,
           "gridcolor": "white",
           "linecolor": "white",
           "ticks": "",
           "title": {
            "standoff": 15
           },
           "zerolinecolor": "white",
           "zerolinewidth": 2
          }
         }
        },
        "xaxis": {
         "anchor": "y",
         "domain": [
          0,
          1
         ],
         "title": {
          "text": "crestAfterFallsPre"
         }
        },
        "yaxis": {
         "anchor": "x",
         "domain": [
          0,
          1
         ],
         "title": {
          "text": "waterHeight"
         }
        }
       }
      }
     },
     "metadata": {},
     "output_type": "display_data"
    }
   ],
   "source": [
    "# crests_df[['crestAfterFalls']]\n",
    "import plotly.express as px\n",
    "fig = px.scatter(crests_df[crests_df['gaugeId'].str.startswith(\"SVPA\") & (crests_df['riverMile']>=22)], x=\"crestAfterFallsPre\", y=\"waterHeight\", color='gaugeId', hover_data=['flood','gaugeName'])\n",
    "fig.show()"
   ]
  },
  {
   "cell_type": "code",
   "execution_count": 65,
   "metadata": {},
   "outputs": [
    {
     "data": {
      "text/html": [
       "<div>\n",
       "<style scoped>\n",
       "    .dataframe tbody tr th:only-of-type {\n",
       "        vertical-align: middle;\n",
       "    }\n",
       "\n",
       "    .dataframe tbody tr th {\n",
       "        vertical-align: top;\n",
       "    }\n",
       "\n",
       "    .dataframe thead th {\n",
       "        text-align: right;\n",
       "    }\n",
       "</style>\n",
       "<table border=\"1\" class=\"dataframe\">\n",
       "  <thead>\n",
       "    <tr style=\"text-align: right;\">\n",
       "      <th></th>\n",
       "      <th>gaugeId</th>\n",
       "      <th>crestAfterFalls</th>\n",
       "    </tr>\n",
       "  </thead>\n",
       "  <tbody>\n",
       "    <tr>\n",
       "      <th>0</th>\n",
       "      <td>SVPA-12</td>\n",
       "      <td>228.830220</td>\n",
       "    </tr>\n",
       "    <tr>\n",
       "      <th>1</th>\n",
       "      <td>SVPA-15</td>\n",
       "      <td>199.767443</td>\n",
       "    </tr>\n",
       "    <tr>\n",
       "      <th>2</th>\n",
       "      <td>SVPA-15B</td>\n",
       "      <td>366.416807</td>\n",
       "    </tr>\n",
       "    <tr>\n",
       "      <th>3</th>\n",
       "      <td>SVPA-17</td>\n",
       "      <td>241.229692</td>\n",
       "    </tr>\n",
       "    <tr>\n",
       "      <th>4</th>\n",
       "      <td>SVPA-25</td>\n",
       "      <td>8.597696</td>\n",
       "    </tr>\n",
       "    <tr>\n",
       "      <th>5</th>\n",
       "      <td>SVPA-26</td>\n",
       "      <td>6.312261</td>\n",
       "    </tr>\n",
       "    <tr>\n",
       "      <th>6</th>\n",
       "      <td>SVPA-33</td>\n",
       "      <td>0.696954</td>\n",
       "    </tr>\n",
       "    <tr>\n",
       "      <th>7</th>\n",
       "      <td>SVPA-34</td>\n",
       "      <td>0.557433</td>\n",
       "    </tr>\n",
       "    <tr>\n",
       "      <th>8</th>\n",
       "      <td>SVPA-36</td>\n",
       "      <td>0.373973</td>\n",
       "    </tr>\n",
       "    <tr>\n",
       "      <th>9</th>\n",
       "      <td>SVPA-37</td>\n",
       "      <td>0.362039</td>\n",
       "    </tr>\n",
       "  </tbody>\n",
       "</table>\n",
       "</div>"
      ],
      "text/plain": [
       "    gaugeId  crestAfterFalls\n",
       "0   SVPA-12       228.830220\n",
       "1   SVPA-15       199.767443\n",
       "2  SVPA-15B       366.416807\n",
       "3   SVPA-17       241.229692\n",
       "4   SVPA-25         8.597696\n",
       "5   SVPA-26         6.312261\n",
       "6   SVPA-33         0.696954\n",
       "7   SVPA-34         0.557433\n",
       "8   SVPA-36         0.373973\n",
       "9   SVPA-37         0.362039"
      ]
     },
     "execution_count": 65,
     "metadata": {},
     "output_type": "execute_result"
    }
   ],
   "source": [
    "crests_df[crests_df['gaugeId'].str.startswith(\"SVPA\")][['gaugeId','gaugeName','crestAfterFalls']].groupby(['gaugeId']).var().reset_index()"
   ]
  },
  {
   "cell_type": "code",
   "execution_count": 66,
   "metadata": {},
   "outputs": [
    {
     "data": {
      "text/html": [
       "<div>\n",
       "<style scoped>\n",
       "    .dataframe tbody tr th:only-of-type {\n",
       "        vertical-align: middle;\n",
       "    }\n",
       "\n",
       "    .dataframe tbody tr th {\n",
       "        vertical-align: top;\n",
       "    }\n",
       "\n",
       "    .dataframe thead th {\n",
       "        text-align: right;\n",
       "    }\n",
       "</style>\n",
       "<table border=\"1\" class=\"dataframe\">\n",
       "  <thead>\n",
       "    <tr style=\"text-align: right;\">\n",
       "      <th></th>\n",
       "      <th>gaugeId</th>\n",
       "      <th>crestAfterFallsPre</th>\n",
       "    </tr>\n",
       "  </thead>\n",
       "  <tbody>\n",
       "    <tr>\n",
       "      <th>0</th>\n",
       "      <td>SVPA-12</td>\n",
       "      <td>231.195431</td>\n",
       "    </tr>\n",
       "    <tr>\n",
       "      <th>1</th>\n",
       "      <td>SVPA-15</td>\n",
       "      <td>203.361901</td>\n",
       "    </tr>\n",
       "    <tr>\n",
       "      <th>2</th>\n",
       "      <td>SVPA-15B</td>\n",
       "      <td>370.707189</td>\n",
       "    </tr>\n",
       "    <tr>\n",
       "      <th>3</th>\n",
       "      <td>SVPA-17</td>\n",
       "      <td>245.597041</td>\n",
       "    </tr>\n",
       "    <tr>\n",
       "      <th>4</th>\n",
       "      <td>SVPA-25</td>\n",
       "      <td>8.287525</td>\n",
       "    </tr>\n",
       "    <tr>\n",
       "      <th>5</th>\n",
       "      <td>SVPA-26</td>\n",
       "      <td>6.977280</td>\n",
       "    </tr>\n",
       "    <tr>\n",
       "      <th>6</th>\n",
       "      <td>SVPA-33</td>\n",
       "      <td>1.125709</td>\n",
       "    </tr>\n",
       "    <tr>\n",
       "      <th>7</th>\n",
       "      <td>SVPA-34</td>\n",
       "      <td>0.879719</td>\n",
       "    </tr>\n",
       "    <tr>\n",
       "      <th>8</th>\n",
       "      <td>SVPA-36</td>\n",
       "      <td>0.384635</td>\n",
       "    </tr>\n",
       "    <tr>\n",
       "      <th>9</th>\n",
       "      <td>SVPA-37</td>\n",
       "      <td>0.500130</td>\n",
       "    </tr>\n",
       "  </tbody>\n",
       "</table>\n",
       "</div>"
      ],
      "text/plain": [
       "    gaugeId  crestAfterFallsPre\n",
       "0   SVPA-12          231.195431\n",
       "1   SVPA-15          203.361901\n",
       "2  SVPA-15B          370.707189\n",
       "3   SVPA-17          245.597041\n",
       "4   SVPA-25            8.287525\n",
       "5   SVPA-26            6.977280\n",
       "6   SVPA-33            1.125709\n",
       "7   SVPA-34            0.879719\n",
       "8   SVPA-36            0.384635\n",
       "9   SVPA-37            0.500130"
      ]
     },
     "execution_count": 66,
     "metadata": {},
     "output_type": "execute_result"
    }
   ],
   "source": [
    "crests_df[crests_df['gaugeId'].str.startswith(\"SVPA\")][['gaugeId','gaugeName','crestAfterFallsPre']].groupby(['gaugeId']).var().reset_index()"
   ]
  },
  {
   "cell_type": "code",
   "execution_count": 68,
   "metadata": {},
   "outputs": [
    {
     "data": {
      "text/html": [
       "<div>\n",
       "<style scoped>\n",
       "    .dataframe tbody tr th:only-of-type {\n",
       "        vertical-align: middle;\n",
       "    }\n",
       "\n",
       "    .dataframe tbody tr th {\n",
       "        vertical-align: top;\n",
       "    }\n",
       "\n",
       "    .dataframe thead th {\n",
       "        text-align: right;\n",
       "    }\n",
       "</style>\n",
       "<table border=\"1\" class=\"dataframe\">\n",
       "  <thead>\n",
       "    <tr style=\"text-align: right;\">\n",
       "      <th></th>\n",
       "      <th>id</th>\n",
       "      <th>timestamp</th>\n",
       "      <th>waterHeight</th>\n",
       "      <th>waterDischarge</th>\n",
       "      <th>flood</th>\n",
       "      <th>gaugeId</th>\n",
       "      <th>gaugeName</th>\n",
       "      <th>riverMile</th>\n",
       "      <th>prePeakWaterHeight</th>\n",
       "      <th>prePeakTimestamp</th>\n",
       "      <th>prePeakGap</th>\n",
       "      <th>fallsCrestTimestamp</th>\n",
       "      <th>crestAfterFalls</th>\n",
       "      <th>fallsPrePeakTimestamp</th>\n",
       "      <th>crestAfterFallsPre</th>\n",
       "      <th>carnCrestTimestamp</th>\n",
       "    </tr>\n",
       "  </thead>\n",
       "  <tbody>\n",
       "    <tr>\n",
       "      <th>0</th>\n",
       "      <td>1392798</td>\n",
       "      <td>2022-03-01 01:15:00</td>\n",
       "      <td>15.76</td>\n",
       "      <td>4550.0</td>\n",
       "      <td>2022 - March</td>\n",
       "      <td>USGS-SF17</td>\n",
       "      <td>South Fork</td>\n",
       "      <td>17</td>\n",
       "      <td>15.64</td>\n",
       "      <td>2022-03-01 00:30:00</td>\n",
       "      <td>45.0</td>\n",
       "      <td>2022-03-01 08:00:00</td>\n",
       "      <td>-6.750000</td>\n",
       "      <td>2022-03-01 07:45:00</td>\n",
       "      <td>-6.500000</td>\n",
       "      <td>2022-03-01 17:00:00</td>\n",
       "    </tr>\n",
       "    <tr>\n",
       "      <th>1</th>\n",
       "      <td>1392793</td>\n",
       "      <td>2022-03-01 01:15:00</td>\n",
       "      <td>12.03</td>\n",
       "      <td>18500.0</td>\n",
       "      <td>2022 - March</td>\n",
       "      <td>USGS-MF11</td>\n",
       "      <td>Middle Fork</td>\n",
       "      <td>11</td>\n",
       "      <td>11.93</td>\n",
       "      <td>2022-03-01 00:15:00</td>\n",
       "      <td>60.0</td>\n",
       "      <td>2022-03-01 08:00:00</td>\n",
       "      <td>-6.750000</td>\n",
       "      <td>2022-03-01 07:45:00</td>\n",
       "      <td>-6.500000</td>\n",
       "      <td>2022-03-01 17:00:00</td>\n",
       "    </tr>\n",
       "    <tr>\n",
       "      <th>2</th>\n",
       "      <td>1392686</td>\n",
       "      <td>2022-02-28 23:30:00</td>\n",
       "      <td>10.70</td>\n",
       "      <td>10500.0</td>\n",
       "      <td>2022 - March</td>\n",
       "      <td>USGS-NF10</td>\n",
       "      <td>North Fork</td>\n",
       "      <td>10</td>\n",
       "      <td>10.58</td>\n",
       "      <td>2022-02-28 23:15:00</td>\n",
       "      <td>15.0</td>\n",
       "      <td>2022-03-01 08:00:00</td>\n",
       "      <td>-8.500000</td>\n",
       "      <td>2022-03-01 07:45:00</td>\n",
       "      <td>-8.250000</td>\n",
       "      <td>2022-03-01 17:00:00</td>\n",
       "    </tr>\n",
       "    <tr>\n",
       "      <th>3</th>\n",
       "      <td>1393252</td>\n",
       "      <td>2022-03-01 08:00:00</td>\n",
       "      <td>16.91</td>\n",
       "      <td>38500.0</td>\n",
       "      <td>2022 - March</td>\n",
       "      <td>USGS-38</td>\n",
       "      <td>Below the Falls</td>\n",
       "      <td>38</td>\n",
       "      <td>16.80</td>\n",
       "      <td>2022-03-01 07:45:00</td>\n",
       "      <td>15.0</td>\n",
       "      <td>2022-03-01 08:00:00</td>\n",
       "      <td>0.000000</td>\n",
       "      <td>2022-03-01 07:45:00</td>\n",
       "      <td>0.250000</td>\n",
       "      <td>2022-03-01 17:00:00</td>\n",
       "    </tr>\n",
       "    <tr>\n",
       "      <th>4</th>\n",
       "      <td>1393330</td>\n",
       "      <td>2022-03-01 09:15:06</td>\n",
       "      <td>94.47</td>\n",
       "      <td>NaN</td>\n",
       "      <td>2022 - March</td>\n",
       "      <td>SVPA-37</td>\n",
       "      <td>Sno Falls Golf</td>\n",
       "      <td>37</td>\n",
       "      <td>94.37</td>\n",
       "      <td>2022-03-01 07:15:06</td>\n",
       "      <td>120.0</td>\n",
       "      <td>2022-03-01 08:00:00</td>\n",
       "      <td>1.251667</td>\n",
       "      <td>2022-03-01 07:45:00</td>\n",
       "      <td>1.501667</td>\n",
       "      <td>2022-03-01 17:00:00</td>\n",
       "    </tr>\n",
       "    <tr>\n",
       "      <th>...</th>\n",
       "      <td>...</td>\n",
       "      <td>...</td>\n",
       "      <td>...</td>\n",
       "      <td>...</td>\n",
       "      <td>...</td>\n",
       "      <td>...</td>\n",
       "      <td>...</td>\n",
       "      <td>...</td>\n",
       "      <td>...</td>\n",
       "      <td>...</td>\n",
       "      <td>...</td>\n",
       "      <td>...</td>\n",
       "      <td>...</td>\n",
       "      <td>...</td>\n",
       "      <td>...</td>\n",
       "      <td>...</td>\n",
       "    </tr>\n",
       "    <tr>\n",
       "      <th>184</th>\n",
       "      <td>50292</td>\n",
       "      <td>2019-10-23 06:00:05</td>\n",
       "      <td>53.81</td>\n",
       "      <td>NaN</td>\n",
       "      <td>2019 - October</td>\n",
       "      <td>SVPA-17</td>\n",
       "      <td>NE 100th St</td>\n",
       "      <td>17</td>\n",
       "      <td>53.71</td>\n",
       "      <td>2019-10-23 04:30:05</td>\n",
       "      <td>90.0</td>\n",
       "      <td>2019-10-22 08:50:00</td>\n",
       "      <td>21.168056</td>\n",
       "      <td>2019-10-22 08:45:00</td>\n",
       "      <td>21.251389</td>\n",
       "      <td>2019-10-22 20:45:00</td>\n",
       "    </tr>\n",
       "    <tr>\n",
       "      <th>185</th>\n",
       "      <td>50553</td>\n",
       "      <td>2019-10-23 08:45:03</td>\n",
       "      <td>46.96</td>\n",
       "      <td>NaN</td>\n",
       "      <td>2019 - October</td>\n",
       "      <td>SVPA-15</td>\n",
       "      <td>NE 124th St (E)</td>\n",
       "      <td>15</td>\n",
       "      <td>46.84</td>\n",
       "      <td>2019-10-23 07:00:03</td>\n",
       "      <td>105.0</td>\n",
       "      <td>2019-10-22 08:50:00</td>\n",
       "      <td>23.917500</td>\n",
       "      <td>2019-10-22 08:45:00</td>\n",
       "      <td>24.000833</td>\n",
       "      <td>2019-10-22 20:45:00</td>\n",
       "    </tr>\n",
       "    <tr>\n",
       "      <th>186</th>\n",
       "      <td>50522</td>\n",
       "      <td>2019-10-23 08:30:01</td>\n",
       "      <td>45.26</td>\n",
       "      <td>NaN</td>\n",
       "      <td>2019 - October</td>\n",
       "      <td>SVPA-12</td>\n",
       "      <td>NE 138th St</td>\n",
       "      <td>12</td>\n",
       "      <td>45.16</td>\n",
       "      <td>2019-10-23 06:30:01</td>\n",
       "      <td>120.0</td>\n",
       "      <td>2019-10-22 08:50:00</td>\n",
       "      <td>23.666944</td>\n",
       "      <td>2019-10-22 08:45:00</td>\n",
       "      <td>23.750278</td>\n",
       "      <td>2019-10-22 20:45:00</td>\n",
       "    </tr>\n",
       "    <tr>\n",
       "      <th>187</th>\n",
       "      <td>50633</td>\n",
       "      <td>2019-10-23 09:30:00</td>\n",
       "      <td>40.53</td>\n",
       "      <td>NaN</td>\n",
       "      <td>2019 - October</td>\n",
       "      <td>USGS-9</td>\n",
       "      <td>Duvall</td>\n",
       "      <td>9</td>\n",
       "      <td>40.43</td>\n",
       "      <td>2019-10-23 06:00:00</td>\n",
       "      <td>210.0</td>\n",
       "      <td>2019-10-22 08:50:00</td>\n",
       "      <td>24.666667</td>\n",
       "      <td>2019-10-22 08:45:00</td>\n",
       "      <td>24.750000</td>\n",
       "      <td>2019-10-22 20:45:00</td>\n",
       "    </tr>\n",
       "    <tr>\n",
       "      <th>188</th>\n",
       "      <td>49000</td>\n",
       "      <td>2019-10-22 13:30:00</td>\n",
       "      <td>14.96</td>\n",
       "      <td>NaN</td>\n",
       "      <td>2019 - October</td>\n",
       "      <td>USGS-SH5</td>\n",
       "      <td>Monroe</td>\n",
       "      <td>5</td>\n",
       "      <td>14.86</td>\n",
       "      <td>2019-10-22 12:15:00</td>\n",
       "      <td>75.0</td>\n",
       "      <td>2019-10-22 08:50:00</td>\n",
       "      <td>4.666667</td>\n",
       "      <td>2019-10-22 08:45:00</td>\n",
       "      <td>4.750000</td>\n",
       "      <td>2019-10-22 20:45:00</td>\n",
       "    </tr>\n",
       "  </tbody>\n",
       "</table>\n",
       "<p>189 rows × 16 columns</p>\n",
       "</div>"
      ],
      "text/plain": [
       "          id           timestamp  waterHeight  waterDischarge           flood  \\\n",
       "0    1392798 2022-03-01 01:15:00        15.76          4550.0    2022 - March   \n",
       "1    1392793 2022-03-01 01:15:00        12.03         18500.0    2022 - March   \n",
       "2    1392686 2022-02-28 23:30:00        10.70         10500.0    2022 - March   \n",
       "3    1393252 2022-03-01 08:00:00        16.91         38500.0    2022 - March   \n",
       "4    1393330 2022-03-01 09:15:06        94.47             NaN    2022 - March   \n",
       "..       ...                 ...          ...             ...             ...   \n",
       "184    50292 2019-10-23 06:00:05        53.81             NaN  2019 - October   \n",
       "185    50553 2019-10-23 08:45:03        46.96             NaN  2019 - October   \n",
       "186    50522 2019-10-23 08:30:01        45.26             NaN  2019 - October   \n",
       "187    50633 2019-10-23 09:30:00        40.53             NaN  2019 - October   \n",
       "188    49000 2019-10-22 13:30:00        14.96             NaN  2019 - October   \n",
       "\n",
       "       gaugeId        gaugeName  riverMile  prePeakWaterHeight  \\\n",
       "0    USGS-SF17       South Fork         17               15.64   \n",
       "1    USGS-MF11      Middle Fork         11               11.93   \n",
       "2    USGS-NF10       North Fork         10               10.58   \n",
       "3      USGS-38  Below the Falls         38               16.80   \n",
       "4      SVPA-37   Sno Falls Golf         37               94.37   \n",
       "..         ...              ...        ...                 ...   \n",
       "184    SVPA-17      NE 100th St         17               53.71   \n",
       "185    SVPA-15  NE 124th St (E)         15               46.84   \n",
       "186    SVPA-12      NE 138th St         12               45.16   \n",
       "187     USGS-9           Duvall          9               40.43   \n",
       "188   USGS-SH5           Monroe          5               14.86   \n",
       "\n",
       "       prePeakTimestamp  prePeakGap fallsCrestTimestamp  crestAfterFalls  \\\n",
       "0   2022-03-01 00:30:00        45.0 2022-03-01 08:00:00        -6.750000   \n",
       "1   2022-03-01 00:15:00        60.0 2022-03-01 08:00:00        -6.750000   \n",
       "2   2022-02-28 23:15:00        15.0 2022-03-01 08:00:00        -8.500000   \n",
       "3   2022-03-01 07:45:00        15.0 2022-03-01 08:00:00         0.000000   \n",
       "4   2022-03-01 07:15:06       120.0 2022-03-01 08:00:00         1.251667   \n",
       "..                  ...         ...                 ...              ...   \n",
       "184 2019-10-23 04:30:05        90.0 2019-10-22 08:50:00        21.168056   \n",
       "185 2019-10-23 07:00:03       105.0 2019-10-22 08:50:00        23.917500   \n",
       "186 2019-10-23 06:30:01       120.0 2019-10-22 08:50:00        23.666944   \n",
       "187 2019-10-23 06:00:00       210.0 2019-10-22 08:50:00        24.666667   \n",
       "188 2019-10-22 12:15:00        75.0 2019-10-22 08:50:00         4.666667   \n",
       "\n",
       "    fallsPrePeakTimestamp  crestAfterFallsPre  carnCrestTimestamp  \n",
       "0     2022-03-01 07:45:00           -6.500000 2022-03-01 17:00:00  \n",
       "1     2022-03-01 07:45:00           -6.500000 2022-03-01 17:00:00  \n",
       "2     2022-03-01 07:45:00           -8.250000 2022-03-01 17:00:00  \n",
       "3     2022-03-01 07:45:00            0.250000 2022-03-01 17:00:00  \n",
       "4     2022-03-01 07:45:00            1.501667 2022-03-01 17:00:00  \n",
       "..                    ...                 ...                 ...  \n",
       "184   2019-10-22 08:45:00           21.251389 2019-10-22 20:45:00  \n",
       "185   2019-10-22 08:45:00           24.000833 2019-10-22 20:45:00  \n",
       "186   2019-10-22 08:45:00           23.750278 2019-10-22 20:45:00  \n",
       "187   2019-10-22 08:45:00           24.750000 2019-10-22 20:45:00  \n",
       "188   2019-10-22 08:45:00            4.750000 2019-10-22 20:45:00  \n",
       "\n",
       "[189 rows x 16 columns]"
      ]
     },
     "execution_count": 68,
     "metadata": {},
     "output_type": "execute_result"
    }
   ],
   "source": [
    "carn_floods = pd.DataFrame(crests_df[crests_df['gaugeId']=='USGS-22'][['flood','timestamp']])\n",
    "carn_floods['carnCrestTimestamp'] = carn_floods['timestamp']\n",
    "carn_floods=carn_floods[['flood','carnCrestTimestamp']]\n",
    "\n",
    "crests_df= pd.merge(crests_df, carn_floods, on='flood',)\n",
    "\n",
    "crests_df"
   ]
  },
  {
   "cell_type": "code",
   "execution_count": 69,
   "metadata": {},
   "outputs": [
    {
     "data": {
      "text/html": [
       "<div>\n",
       "<style scoped>\n",
       "    .dataframe tbody tr th:only-of-type {\n",
       "        vertical-align: middle;\n",
       "    }\n",
       "\n",
       "    .dataframe tbody tr th {\n",
       "        vertical-align: top;\n",
       "    }\n",
       "\n",
       "    .dataframe thead th {\n",
       "        text-align: right;\n",
       "    }\n",
       "</style>\n",
       "<table border=\"1\" class=\"dataframe\">\n",
       "  <thead>\n",
       "    <tr style=\"text-align: right;\">\n",
       "      <th></th>\n",
       "      <th>id</th>\n",
       "      <th>timestamp</th>\n",
       "      <th>waterHeight</th>\n",
       "      <th>waterDischarge</th>\n",
       "      <th>flood</th>\n",
       "      <th>gaugeId</th>\n",
       "      <th>gaugeName</th>\n",
       "      <th>riverMile</th>\n",
       "      <th>prePeakWaterHeight</th>\n",
       "      <th>prePeakTimestamp</th>\n",
       "      <th>prePeakGap</th>\n",
       "      <th>fallsCrestTimestamp</th>\n",
       "      <th>crestAfterFalls</th>\n",
       "      <th>fallsPrePeakTimestamp</th>\n",
       "      <th>crestAfterFallsPre</th>\n",
       "      <th>carnCrestTimestamp</th>\n",
       "      <th>crestAfterCarn</th>\n",
       "    </tr>\n",
       "  </thead>\n",
       "  <tbody>\n",
       "    <tr>\n",
       "      <th>12</th>\n",
       "      <td>1394291</td>\n",
       "      <td>2022-03-01 23:30:24</td>\n",
       "      <td>50.21</td>\n",
       "      <td>NaN</td>\n",
       "      <td>2022 - March</td>\n",
       "      <td>SVPA-15</td>\n",
       "      <td>NE 124th St (E)</td>\n",
       "      <td>15</td>\n",
       "      <td>50.10</td>\n",
       "      <td>2022-03-01 21:30:07</td>\n",
       "      <td>120.283333</td>\n",
       "      <td>2022-03-01 08:00:00</td>\n",
       "      <td>15.506667</td>\n",
       "      <td>2022-03-01 07:45:00</td>\n",
       "      <td>15.756667</td>\n",
       "      <td>2022-03-01 17:00:00</td>\n",
       "      <td>6.506667</td>\n",
       "    </tr>\n",
       "    <tr>\n",
       "      <th>28</th>\n",
       "      <td>1333096</td>\n",
       "      <td>2022-01-21 15:45:04</td>\n",
       "      <td>41.44</td>\n",
       "      <td>NaN</td>\n",
       "      <td>2022 - January 21st</td>\n",
       "      <td>SVPA-15</td>\n",
       "      <td>NE 124th St (E)</td>\n",
       "      <td>15</td>\n",
       "      <td>41.32</td>\n",
       "      <td>2022-01-21 14:00:04</td>\n",
       "      <td>105.000000</td>\n",
       "      <td>2022-01-20 21:15:00</td>\n",
       "      <td>18.501111</td>\n",
       "      <td>2022-01-20 20:30:00</td>\n",
       "      <td>19.251111</td>\n",
       "      <td>2022-01-21 04:45:00</td>\n",
       "      <td>11.001111</td>\n",
       "    </tr>\n",
       "    <tr>\n",
       "      <th>45</th>\n",
       "      <td>1320593</td>\n",
       "      <td>2022-01-13 16:30:04</td>\n",
       "      <td>46.28</td>\n",
       "      <td>NaN</td>\n",
       "      <td>2022 - January 13th</td>\n",
       "      <td>SVPA-15</td>\n",
       "      <td>NE 124th St (E)</td>\n",
       "      <td>15</td>\n",
       "      <td>46.17</td>\n",
       "      <td>2022-01-13 13:00:04</td>\n",
       "      <td>210.000000</td>\n",
       "      <td>2022-01-12 13:30:00</td>\n",
       "      <td>27.001111</td>\n",
       "      <td>2022-01-12 13:15:00</td>\n",
       "      <td>27.251111</td>\n",
       "      <td>2022-01-13 02:00:00</td>\n",
       "      <td>14.501111</td>\n",
       "    </tr>\n",
       "    <tr>\n",
       "      <th>61</th>\n",
       "      <td>1312402</td>\n",
       "      <td>2022-01-08 10:45:11</td>\n",
       "      <td>43.36</td>\n",
       "      <td>NaN</td>\n",
       "      <td>2022 - January 7th</td>\n",
       "      <td>SVPA-15</td>\n",
       "      <td>NE 124th St (E)</td>\n",
       "      <td>15</td>\n",
       "      <td>43.26</td>\n",
       "      <td>2022-01-08 08:45:11</td>\n",
       "      <td>120.000000</td>\n",
       "      <td>2022-01-07 17:15:00</td>\n",
       "      <td>17.503056</td>\n",
       "      <td>2022-01-07 15:45:00</td>\n",
       "      <td>19.003056</td>\n",
       "      <td>2022-01-07 23:00:00</td>\n",
       "      <td>11.753056</td>\n",
       "    </tr>\n",
       "    <tr>\n",
       "      <th>78</th>\n",
       "      <td>1229022</td>\n",
       "      <td>2021-11-15 16:44:56</td>\n",
       "      <td>47.11</td>\n",
       "      <td>NaN</td>\n",
       "      <td>2021 - November</td>\n",
       "      <td>SVPA-15</td>\n",
       "      <td>NE 124th St (E)</td>\n",
       "      <td>15</td>\n",
       "      <td>46.99</td>\n",
       "      <td>2021-11-15 14:29:56</td>\n",
       "      <td>135.000000</td>\n",
       "      <td>2021-11-12 19:00:00</td>\n",
       "      <td>69.748889</td>\n",
       "      <td>2021-11-12 17:45:00</td>\n",
       "      <td>70.998889</td>\n",
       "      <td>2021-11-13 05:30:00</td>\n",
       "      <td>59.248889</td>\n",
       "    </tr>\n",
       "    <tr>\n",
       "      <th>95</th>\n",
       "      <td>1199611</td>\n",
       "      <td>2021-10-30 07:00:06</td>\n",
       "      <td>43.79</td>\n",
       "      <td>NaN</td>\n",
       "      <td>2021 - October</td>\n",
       "      <td>SVPA-15</td>\n",
       "      <td>NE 124th St (E)</td>\n",
       "      <td>15</td>\n",
       "      <td>43.67</td>\n",
       "      <td>2021-10-30 05:00:06</td>\n",
       "      <td>120.000000</td>\n",
       "      <td>2021-10-29 02:45:00</td>\n",
       "      <td>28.251667</td>\n",
       "      <td>2021-10-29 01:00:00</td>\n",
       "      <td>30.001667</td>\n",
       "      <td>2021-10-29 15:30:00</td>\n",
       "      <td>15.501667</td>\n",
       "    </tr>\n",
       "    <tr>\n",
       "      <th>111</th>\n",
       "      <td>829300</td>\n",
       "      <td>2021-02-23 19:30:05</td>\n",
       "      <td>41.61</td>\n",
       "      <td>NaN</td>\n",
       "      <td>2021 - February</td>\n",
       "      <td>SVPA-15</td>\n",
       "      <td>NE 124th St (E)</td>\n",
       "      <td>15</td>\n",
       "      <td>NaN</td>\n",
       "      <td>NaT</td>\n",
       "      <td>NaN</td>\n",
       "      <td>2021-02-22 19:15:00</td>\n",
       "      <td>24.251389</td>\n",
       "      <td>2021-02-22 18:15:00</td>\n",
       "      <td>25.251389</td>\n",
       "      <td>2021-02-23 02:45:00</td>\n",
       "      <td>16.751389</td>\n",
       "    </tr>\n",
       "    <tr>\n",
       "      <th>122</th>\n",
       "      <td>765437</td>\n",
       "      <td>2021-01-14 07:45:12</td>\n",
       "      <td>44.31</td>\n",
       "      <td>NaN</td>\n",
       "      <td>2021 - January</td>\n",
       "      <td>SVPA-15</td>\n",
       "      <td>NE 124th St (E)</td>\n",
       "      <td>15</td>\n",
       "      <td>44.03</td>\n",
       "      <td>2021-01-14 03:45:12</td>\n",
       "      <td>240.000000</td>\n",
       "      <td>2021-01-13 08:00:00</td>\n",
       "      <td>23.753333</td>\n",
       "      <td>2021-01-13 07:30:00</td>\n",
       "      <td>24.253333</td>\n",
       "      <td>2021-01-13 18:15:00</td>\n",
       "      <td>13.503333</td>\n",
       "    </tr>\n",
       "    <tr>\n",
       "      <th>135</th>\n",
       "      <td>221212</td>\n",
       "      <td>2020-02-08 04:00:41</td>\n",
       "      <td>49.87</td>\n",
       "      <td>NaN</td>\n",
       "      <td>2020 - February 7th</td>\n",
       "      <td>SVPA-15</td>\n",
       "      <td>NE 124th St (E)</td>\n",
       "      <td>15</td>\n",
       "      <td>NaN</td>\n",
       "      <td>NaT</td>\n",
       "      <td>NaN</td>\n",
       "      <td>2020-02-07 10:20:00</td>\n",
       "      <td>17.678056</td>\n",
       "      <td>2020-02-07 09:25:00</td>\n",
       "      <td>18.594722</td>\n",
       "      <td>2020-02-07 19:00:00</td>\n",
       "      <td>9.011389</td>\n",
       "    </tr>\n",
       "    <tr>\n",
       "      <th>147</th>\n",
       "      <td>212334</td>\n",
       "      <td>2020-02-02 04:30:00</td>\n",
       "      <td>49.86</td>\n",
       "      <td>NaN</td>\n",
       "      <td>2020 - February 1st</td>\n",
       "      <td>SVPA-15</td>\n",
       "      <td>NE 124th St (E)</td>\n",
       "      <td>15</td>\n",
       "      <td>49.75</td>\n",
       "      <td>2020-02-02 02:29:59</td>\n",
       "      <td>120.016667</td>\n",
       "      <td>2020-02-01 15:00:00</td>\n",
       "      <td>13.500000</td>\n",
       "      <td>2020-02-01 14:00:00</td>\n",
       "      <td>14.500000</td>\n",
       "      <td>2020-02-02 00:00:00</td>\n",
       "      <td>4.500000</td>\n",
       "    </tr>\n",
       "    <tr>\n",
       "      <th>160</th>\n",
       "      <td>175106</td>\n",
       "      <td>2020-01-08 09:15:44</td>\n",
       "      <td>45.73</td>\n",
       "      <td>NaN</td>\n",
       "      <td>2020 - January</td>\n",
       "      <td>SVPA-15</td>\n",
       "      <td>NE 124th St (E)</td>\n",
       "      <td>15</td>\n",
       "      <td>45.60</td>\n",
       "      <td>2020-01-08 06:00:07</td>\n",
       "      <td>195.616667</td>\n",
       "      <td>2020-01-07 07:00:00</td>\n",
       "      <td>26.262222</td>\n",
       "      <td>2020-01-07 05:30:00</td>\n",
       "      <td>27.762222</td>\n",
       "      <td>2020-01-07 20:15:00</td>\n",
       "      <td>13.012222</td>\n",
       "    </tr>\n",
       "    <tr>\n",
       "      <th>173</th>\n",
       "      <td>150328</td>\n",
       "      <td>2019-12-21 23:30:10</td>\n",
       "      <td>46.94</td>\n",
       "      <td>NaN</td>\n",
       "      <td>2019 - December</td>\n",
       "      <td>SVPA-15</td>\n",
       "      <td>NE 124th St (E)</td>\n",
       "      <td>15</td>\n",
       "      <td>46.83</td>\n",
       "      <td>2019-12-21 21:30:10</td>\n",
       "      <td>120.000000</td>\n",
       "      <td>2019-12-20 20:00:00</td>\n",
       "      <td>27.502778</td>\n",
       "      <td>2019-12-20 19:30:00</td>\n",
       "      <td>28.002778</td>\n",
       "      <td>2019-12-21 11:15:00</td>\n",
       "      <td>12.252778</td>\n",
       "    </tr>\n",
       "    <tr>\n",
       "      <th>185</th>\n",
       "      <td>50553</td>\n",
       "      <td>2019-10-23 08:45:03</td>\n",
       "      <td>46.96</td>\n",
       "      <td>NaN</td>\n",
       "      <td>2019 - October</td>\n",
       "      <td>SVPA-15</td>\n",
       "      <td>NE 124th St (E)</td>\n",
       "      <td>15</td>\n",
       "      <td>46.84</td>\n",
       "      <td>2019-10-23 07:00:03</td>\n",
       "      <td>105.000000</td>\n",
       "      <td>2019-10-22 08:50:00</td>\n",
       "      <td>23.917500</td>\n",
       "      <td>2019-10-22 08:45:00</td>\n",
       "      <td>24.000833</td>\n",
       "      <td>2019-10-22 20:45:00</td>\n",
       "      <td>12.000833</td>\n",
       "    </tr>\n",
       "  </tbody>\n",
       "</table>\n",
       "</div>"
      ],
      "text/plain": [
       "          id           timestamp  waterHeight  waterDischarge  \\\n",
       "12   1394291 2022-03-01 23:30:24        50.21             NaN   \n",
       "28   1333096 2022-01-21 15:45:04        41.44             NaN   \n",
       "45   1320593 2022-01-13 16:30:04        46.28             NaN   \n",
       "61   1312402 2022-01-08 10:45:11        43.36             NaN   \n",
       "78   1229022 2021-11-15 16:44:56        47.11             NaN   \n",
       "95   1199611 2021-10-30 07:00:06        43.79             NaN   \n",
       "111   829300 2021-02-23 19:30:05        41.61             NaN   \n",
       "122   765437 2021-01-14 07:45:12        44.31             NaN   \n",
       "135   221212 2020-02-08 04:00:41        49.87             NaN   \n",
       "147   212334 2020-02-02 04:30:00        49.86             NaN   \n",
       "160   175106 2020-01-08 09:15:44        45.73             NaN   \n",
       "173   150328 2019-12-21 23:30:10        46.94             NaN   \n",
       "185    50553 2019-10-23 08:45:03        46.96             NaN   \n",
       "\n",
       "                   flood  gaugeId        gaugeName  riverMile  \\\n",
       "12          2022 - March  SVPA-15  NE 124th St (E)         15   \n",
       "28   2022 - January 21st  SVPA-15  NE 124th St (E)         15   \n",
       "45   2022 - January 13th  SVPA-15  NE 124th St (E)         15   \n",
       "61    2022 - January 7th  SVPA-15  NE 124th St (E)         15   \n",
       "78       2021 - November  SVPA-15  NE 124th St (E)         15   \n",
       "95        2021 - October  SVPA-15  NE 124th St (E)         15   \n",
       "111      2021 - February  SVPA-15  NE 124th St (E)         15   \n",
       "122       2021 - January  SVPA-15  NE 124th St (E)         15   \n",
       "135  2020 - February 7th  SVPA-15  NE 124th St (E)         15   \n",
       "147  2020 - February 1st  SVPA-15  NE 124th St (E)         15   \n",
       "160       2020 - January  SVPA-15  NE 124th St (E)         15   \n",
       "173      2019 - December  SVPA-15  NE 124th St (E)         15   \n",
       "185       2019 - October  SVPA-15  NE 124th St (E)         15   \n",
       "\n",
       "     prePeakWaterHeight    prePeakTimestamp  prePeakGap fallsCrestTimestamp  \\\n",
       "12                50.10 2022-03-01 21:30:07  120.283333 2022-03-01 08:00:00   \n",
       "28                41.32 2022-01-21 14:00:04  105.000000 2022-01-20 21:15:00   \n",
       "45                46.17 2022-01-13 13:00:04  210.000000 2022-01-12 13:30:00   \n",
       "61                43.26 2022-01-08 08:45:11  120.000000 2022-01-07 17:15:00   \n",
       "78                46.99 2021-11-15 14:29:56  135.000000 2021-11-12 19:00:00   \n",
       "95                43.67 2021-10-30 05:00:06  120.000000 2021-10-29 02:45:00   \n",
       "111                 NaN                 NaT         NaN 2021-02-22 19:15:00   \n",
       "122               44.03 2021-01-14 03:45:12  240.000000 2021-01-13 08:00:00   \n",
       "135                 NaN                 NaT         NaN 2020-02-07 10:20:00   \n",
       "147               49.75 2020-02-02 02:29:59  120.016667 2020-02-01 15:00:00   \n",
       "160               45.60 2020-01-08 06:00:07  195.616667 2020-01-07 07:00:00   \n",
       "173               46.83 2019-12-21 21:30:10  120.000000 2019-12-20 20:00:00   \n",
       "185               46.84 2019-10-23 07:00:03  105.000000 2019-10-22 08:50:00   \n",
       "\n",
       "     crestAfterFalls fallsPrePeakTimestamp  crestAfterFallsPre  \\\n",
       "12         15.506667   2022-03-01 07:45:00           15.756667   \n",
       "28         18.501111   2022-01-20 20:30:00           19.251111   \n",
       "45         27.001111   2022-01-12 13:15:00           27.251111   \n",
       "61         17.503056   2022-01-07 15:45:00           19.003056   \n",
       "78         69.748889   2021-11-12 17:45:00           70.998889   \n",
       "95         28.251667   2021-10-29 01:00:00           30.001667   \n",
       "111        24.251389   2021-02-22 18:15:00           25.251389   \n",
       "122        23.753333   2021-01-13 07:30:00           24.253333   \n",
       "135        17.678056   2020-02-07 09:25:00           18.594722   \n",
       "147        13.500000   2020-02-01 14:00:00           14.500000   \n",
       "160        26.262222   2020-01-07 05:30:00           27.762222   \n",
       "173        27.502778   2019-12-20 19:30:00           28.002778   \n",
       "185        23.917500   2019-10-22 08:45:00           24.000833   \n",
       "\n",
       "     carnCrestTimestamp  crestAfterCarn  \n",
       "12  2022-03-01 17:00:00        6.506667  \n",
       "28  2022-01-21 04:45:00       11.001111  \n",
       "45  2022-01-13 02:00:00       14.501111  \n",
       "61  2022-01-07 23:00:00       11.753056  \n",
       "78  2021-11-13 05:30:00       59.248889  \n",
       "95  2021-10-29 15:30:00       15.501667  \n",
       "111 2021-02-23 02:45:00       16.751389  \n",
       "122 2021-01-13 18:15:00       13.503333  \n",
       "135 2020-02-07 19:00:00        9.011389  \n",
       "147 2020-02-02 00:00:00        4.500000  \n",
       "160 2020-01-07 20:15:00       13.012222  \n",
       "173 2019-12-21 11:15:00       12.252778  \n",
       "185 2019-10-22 20:45:00       12.000833  "
      ]
     },
     "execution_count": 69,
     "metadata": {},
     "output_type": "execute_result"
    }
   ],
   "source": [
    "crests_df['crestAfterCarn'] = (crests_df['timestamp'] - crests_df['carnCrestTimestamp']) / np.timedelta64(1,'h')\n",
    "crests_df[crests_df['gaugeId']=='SVPA-15']"
   ]
  },
  {
   "cell_type": "code",
   "execution_count": 73,
   "metadata": {},
   "outputs": [
    {
     "data": {
      "application/vnd.plotly.v1+json": {
       "config": {
        "plotlyServerURL": "https://plot.ly"
       },
       "data": [
        {
         "customdata": [
          [
           "2022 - March",
           "NE 100th St"
          ],
          [
           "2022 - January 21st",
           "NE 100th St"
          ],
          [
           "2022 - January 13th",
           "NE 100th St"
          ],
          [
           "2022 - January 7th",
           "NE 100th St"
          ],
          [
           "2021 - October",
           "NE 100th St"
          ],
          [
           "2021 - February",
           "NE 100th St"
          ],
          [
           "2020 - January",
           "NE 100th St"
          ],
          [
           "2019 - December",
           "NE 100th St"
          ],
          [
           "2019 - October",
           "NE 100th St"
          ]
         ],
         "hovertemplate": "gaugeId=SVPA-17<br>crestAfterCarn=%{x}<br>waterHeight=%{y}<br>flood=%{customdata[0]}<br>gaugeName=%{customdata[1]}<extra></extra>",
         "legendgroup": "SVPA-17",
         "marker": {
          "color": "#636efa",
          "symbol": "circle"
         },
         "mode": "markers",
         "name": "SVPA-17",
         "orientation": "v",
         "showlegend": true,
         "type": "scatter",
         "x": [
          6.002222222222223,
          7.7525,
          11.751944444444444,
          9.253055555555555,
          7.249444444444444,
          6.753055555555555,
          18.002222222222223,
          10.5025,
          9.251388888888888
         ],
         "xaxis": "x",
         "y": [
          55.73,
          47.02,
          53.41,
          48.2,
          48.7,
          46.31,
          52,
          53.62,
          53.81
         ],
         "yaxis": "y"
        },
        {
         "customdata": [
          [
           "2022 - March",
           "NE 124th St (E)"
          ],
          [
           "2022 - January 21st",
           "NE 124th St (E)"
          ],
          [
           "2022 - January 13th",
           "NE 124th St (E)"
          ],
          [
           "2022 - January 7th",
           "NE 124th St (E)"
          ],
          [
           "2021 - October",
           "NE 124th St (E)"
          ],
          [
           "2021 - February",
           "NE 124th St (E)"
          ],
          [
           "2021 - January",
           "NE 124th St (E)"
          ],
          [
           "2020 - February 7th",
           "NE 124th St (E)"
          ],
          [
           "2020 - February 1st",
           "NE 124th St (E)"
          ],
          [
           "2020 - January",
           "NE 124th St (E)"
          ],
          [
           "2019 - December",
           "NE 124th St (E)"
          ],
          [
           "2019 - October",
           "NE 124th St (E)"
          ]
         ],
         "hovertemplate": "gaugeId=SVPA-15<br>crestAfterCarn=%{x}<br>waterHeight=%{y}<br>flood=%{customdata[0]}<br>gaugeName=%{customdata[1]}<extra></extra>",
         "legendgroup": "SVPA-15",
         "marker": {
          "color": "#EF553B",
          "symbol": "circle"
         },
         "mode": "markers",
         "name": "SVPA-15",
         "orientation": "v",
         "showlegend": true,
         "type": "scatter",
         "x": [
          6.506666666666667,
          11.001111111111111,
          14.501111111111111,
          11.753055555555555,
          15.501666666666667,
          16.75138888888889,
          13.503333333333334,
          9.011388888888888,
          4.5,
          13.012222222222222,
          12.252777777777778,
          12.000833333333333
         ],
         "xaxis": "x",
         "y": [
          50.21,
          41.44,
          46.28,
          43.36,
          43.79,
          41.61,
          44.31,
          49.87,
          49.86,
          45.73,
          46.94,
          46.96
         ],
         "yaxis": "y"
        },
        {
         "customdata": [
          [
           "2022 - March",
           null
          ],
          [
           "2022 - January 21st",
           null
          ],
          [
           "2022 - January 13th",
           null
          ],
          [
           "2022 - January 7th",
           null
          ],
          [
           "2021 - October",
           null
          ],
          [
           "2021 - February",
           null
          ],
          [
           "2021 - January",
           null
          ]
         ],
         "hovertemplate": "gaugeId=SVPA-15B<br>crestAfterCarn=%{x}<br>waterHeight=%{y}<br>flood=%{customdata[0]}<br>gaugeName=%{customdata[1]}<extra></extra>",
         "legendgroup": "SVPA-15B",
         "marker": {
          "color": "#00cc96",
          "symbol": "circle"
         },
         "mode": "markers",
         "name": "SVPA-15B",
         "orientation": "v",
         "showlegend": true,
         "type": "scatter",
         "x": [
          6.751388888888889,
          7.2491666666666665,
          11.749444444444444,
          6.9991666666666665,
          7.0008333333333335,
          6.000277777777778,
          7.256944444444445
         ],
         "xaxis": "x",
         "y": [
          49.23,
          44.47,
          47.66,
          45.35,
          46.2,
          43.81,
          46.41
         ],
         "yaxis": "y"
        },
        {
         "customdata": [
          [
           "2022 - March",
           "NE 138th St"
          ],
          [
           "2022 - January 21st",
           "NE 138th St"
          ],
          [
           "2022 - January 13th",
           "NE 138th St"
          ],
          [
           "2022 - January 7th",
           "NE 138th St"
          ],
          [
           "2021 - October",
           "NE 138th St"
          ],
          [
           "2021 - February",
           "NE 138th St"
          ],
          [
           "2021 - January",
           "NE 138th St"
          ],
          [
           "2020 - February 7th",
           "NE 138th St"
          ],
          [
           "2020 - February 1st",
           "NE 138th St"
          ],
          [
           "2020 - January",
           "NE 138th St"
          ],
          [
           "2019 - December",
           "NE 138th St"
          ],
          [
           "2019 - October",
           "NE 138th St"
          ]
         ],
         "hovertemplate": "gaugeId=SVPA-12<br>crestAfterCarn=%{x}<br>waterHeight=%{y}<br>flood=%{customdata[0]}<br>gaugeName=%{customdata[1]}<extra></extra>",
         "legendgroup": "SVPA-12",
         "marker": {
          "color": "#ab63fa",
          "symbol": "circle"
         },
         "mode": "markers",
         "name": "SVPA-12",
         "orientation": "v",
         "showlegend": true,
         "type": "scatter",
         "x": [
          7.251666666666667,
          11.001944444444444,
          15.003055555555555,
          9.003055555555555,
          9.2525,
          12.75361111111111,
          8.751388888888888,
          5.001944444444445,
          5.502222222222223,
          10.753055555555555,
          12.500277777777777,
          11.750277777777777
         ],
         "xaxis": "x",
         "y": [
          47.24,
          41.94,
          45.49,
          43.1,
          43.87,
          41.07,
          44.17,
          46.94,
          46.74,
          44.58,
          45.34,
          45.26
         ],
         "yaxis": "y"
        }
       ],
       "layout": {
        "legend": {
         "title": {
          "text": "gaugeId"
         },
         "tracegroupgap": 0
        },
        "margin": {
         "t": 60
        },
        "template": {
         "data": {
          "bar": [
           {
            "error_x": {
             "color": "#2a3f5f"
            },
            "error_y": {
             "color": "#2a3f5f"
            },
            "marker": {
             "line": {
              "color": "#E5ECF6",
              "width": 0.5
             },
             "pattern": {
              "fillmode": "overlay",
              "size": 10,
              "solidity": 0.2
             }
            },
            "type": "bar"
           }
          ],
          "barpolar": [
           {
            "marker": {
             "line": {
              "color": "#E5ECF6",
              "width": 0.5
             },
             "pattern": {
              "fillmode": "overlay",
              "size": 10,
              "solidity": 0.2
             }
            },
            "type": "barpolar"
           }
          ],
          "carpet": [
           {
            "aaxis": {
             "endlinecolor": "#2a3f5f",
             "gridcolor": "white",
             "linecolor": "white",
             "minorgridcolor": "white",
             "startlinecolor": "#2a3f5f"
            },
            "baxis": {
             "endlinecolor": "#2a3f5f",
             "gridcolor": "white",
             "linecolor": "white",
             "minorgridcolor": "white",
             "startlinecolor": "#2a3f5f"
            },
            "type": "carpet"
           }
          ],
          "choropleth": [
           {
            "colorbar": {
             "outlinewidth": 0,
             "ticks": ""
            },
            "type": "choropleth"
           }
          ],
          "contour": [
           {
            "colorbar": {
             "outlinewidth": 0,
             "ticks": ""
            },
            "colorscale": [
             [
              0,
              "#0d0887"
             ],
             [
              0.1111111111111111,
              "#46039f"
             ],
             [
              0.2222222222222222,
              "#7201a8"
             ],
             [
              0.3333333333333333,
              "#9c179e"
             ],
             [
              0.4444444444444444,
              "#bd3786"
             ],
             [
              0.5555555555555556,
              "#d8576b"
             ],
             [
              0.6666666666666666,
              "#ed7953"
             ],
             [
              0.7777777777777778,
              "#fb9f3a"
             ],
             [
              0.8888888888888888,
              "#fdca26"
             ],
             [
              1,
              "#f0f921"
             ]
            ],
            "type": "contour"
           }
          ],
          "contourcarpet": [
           {
            "colorbar": {
             "outlinewidth": 0,
             "ticks": ""
            },
            "type": "contourcarpet"
           }
          ],
          "heatmap": [
           {
            "colorbar": {
             "outlinewidth": 0,
             "ticks": ""
            },
            "colorscale": [
             [
              0,
              "#0d0887"
             ],
             [
              0.1111111111111111,
              "#46039f"
             ],
             [
              0.2222222222222222,
              "#7201a8"
             ],
             [
              0.3333333333333333,
              "#9c179e"
             ],
             [
              0.4444444444444444,
              "#bd3786"
             ],
             [
              0.5555555555555556,
              "#d8576b"
             ],
             [
              0.6666666666666666,
              "#ed7953"
             ],
             [
              0.7777777777777778,
              "#fb9f3a"
             ],
             [
              0.8888888888888888,
              "#fdca26"
             ],
             [
              1,
              "#f0f921"
             ]
            ],
            "type": "heatmap"
           }
          ],
          "heatmapgl": [
           {
            "colorbar": {
             "outlinewidth": 0,
             "ticks": ""
            },
            "colorscale": [
             [
              0,
              "#0d0887"
             ],
             [
              0.1111111111111111,
              "#46039f"
             ],
             [
              0.2222222222222222,
              "#7201a8"
             ],
             [
              0.3333333333333333,
              "#9c179e"
             ],
             [
              0.4444444444444444,
              "#bd3786"
             ],
             [
              0.5555555555555556,
              "#d8576b"
             ],
             [
              0.6666666666666666,
              "#ed7953"
             ],
             [
              0.7777777777777778,
              "#fb9f3a"
             ],
             [
              0.8888888888888888,
              "#fdca26"
             ],
             [
              1,
              "#f0f921"
             ]
            ],
            "type": "heatmapgl"
           }
          ],
          "histogram": [
           {
            "marker": {
             "pattern": {
              "fillmode": "overlay",
              "size": 10,
              "solidity": 0.2
             }
            },
            "type": "histogram"
           }
          ],
          "histogram2d": [
           {
            "colorbar": {
             "outlinewidth": 0,
             "ticks": ""
            },
            "colorscale": [
             [
              0,
              "#0d0887"
             ],
             [
              0.1111111111111111,
              "#46039f"
             ],
             [
              0.2222222222222222,
              "#7201a8"
             ],
             [
              0.3333333333333333,
              "#9c179e"
             ],
             [
              0.4444444444444444,
              "#bd3786"
             ],
             [
              0.5555555555555556,
              "#d8576b"
             ],
             [
              0.6666666666666666,
              "#ed7953"
             ],
             [
              0.7777777777777778,
              "#fb9f3a"
             ],
             [
              0.8888888888888888,
              "#fdca26"
             ],
             [
              1,
              "#f0f921"
             ]
            ],
            "type": "histogram2d"
           }
          ],
          "histogram2dcontour": [
           {
            "colorbar": {
             "outlinewidth": 0,
             "ticks": ""
            },
            "colorscale": [
             [
              0,
              "#0d0887"
             ],
             [
              0.1111111111111111,
              "#46039f"
             ],
             [
              0.2222222222222222,
              "#7201a8"
             ],
             [
              0.3333333333333333,
              "#9c179e"
             ],
             [
              0.4444444444444444,
              "#bd3786"
             ],
             [
              0.5555555555555556,
              "#d8576b"
             ],
             [
              0.6666666666666666,
              "#ed7953"
             ],
             [
              0.7777777777777778,
              "#fb9f3a"
             ],
             [
              0.8888888888888888,
              "#fdca26"
             ],
             [
              1,
              "#f0f921"
             ]
            ],
            "type": "histogram2dcontour"
           }
          ],
          "mesh3d": [
           {
            "colorbar": {
             "outlinewidth": 0,
             "ticks": ""
            },
            "type": "mesh3d"
           }
          ],
          "parcoords": [
           {
            "line": {
             "colorbar": {
              "outlinewidth": 0,
              "ticks": ""
             }
            },
            "type": "parcoords"
           }
          ],
          "pie": [
           {
            "automargin": true,
            "type": "pie"
           }
          ],
          "scatter": [
           {
            "fillpattern": {
             "fillmode": "overlay",
             "size": 10,
             "solidity": 0.2
            },
            "type": "scatter"
           }
          ],
          "scatter3d": [
           {
            "line": {
             "colorbar": {
              "outlinewidth": 0,
              "ticks": ""
             }
            },
            "marker": {
             "colorbar": {
              "outlinewidth": 0,
              "ticks": ""
             }
            },
            "type": "scatter3d"
           }
          ],
          "scattercarpet": [
           {
            "marker": {
             "colorbar": {
              "outlinewidth": 0,
              "ticks": ""
             }
            },
            "type": "scattercarpet"
           }
          ],
          "scattergeo": [
           {
            "marker": {
             "colorbar": {
              "outlinewidth": 0,
              "ticks": ""
             }
            },
            "type": "scattergeo"
           }
          ],
          "scattergl": [
           {
            "marker": {
             "colorbar": {
              "outlinewidth": 0,
              "ticks": ""
             }
            },
            "type": "scattergl"
           }
          ],
          "scattermapbox": [
           {
            "marker": {
             "colorbar": {
              "outlinewidth": 0,
              "ticks": ""
             }
            },
            "type": "scattermapbox"
           }
          ],
          "scatterpolar": [
           {
            "marker": {
             "colorbar": {
              "outlinewidth": 0,
              "ticks": ""
             }
            },
            "type": "scatterpolar"
           }
          ],
          "scatterpolargl": [
           {
            "marker": {
             "colorbar": {
              "outlinewidth": 0,
              "ticks": ""
             }
            },
            "type": "scatterpolargl"
           }
          ],
          "scatterternary": [
           {
            "marker": {
             "colorbar": {
              "outlinewidth": 0,
              "ticks": ""
             }
            },
            "type": "scatterternary"
           }
          ],
          "surface": [
           {
            "colorbar": {
             "outlinewidth": 0,
             "ticks": ""
            },
            "colorscale": [
             [
              0,
              "#0d0887"
             ],
             [
              0.1111111111111111,
              "#46039f"
             ],
             [
              0.2222222222222222,
              "#7201a8"
             ],
             [
              0.3333333333333333,
              "#9c179e"
             ],
             [
              0.4444444444444444,
              "#bd3786"
             ],
             [
              0.5555555555555556,
              "#d8576b"
             ],
             [
              0.6666666666666666,
              "#ed7953"
             ],
             [
              0.7777777777777778,
              "#fb9f3a"
             ],
             [
              0.8888888888888888,
              "#fdca26"
             ],
             [
              1,
              "#f0f921"
             ]
            ],
            "type": "surface"
           }
          ],
          "table": [
           {
            "cells": {
             "fill": {
              "color": "#EBF0F8"
             },
             "line": {
              "color": "white"
             }
            },
            "header": {
             "fill": {
              "color": "#C8D4E3"
             },
             "line": {
              "color": "white"
             }
            },
            "type": "table"
           }
          ]
         },
         "layout": {
          "annotationdefaults": {
           "arrowcolor": "#2a3f5f",
           "arrowhead": 0,
           "arrowwidth": 1
          },
          "autotypenumbers": "strict",
          "coloraxis": {
           "colorbar": {
            "outlinewidth": 0,
            "ticks": ""
           }
          },
          "colorscale": {
           "diverging": [
            [
             0,
             "#8e0152"
            ],
            [
             0.1,
             "#c51b7d"
            ],
            [
             0.2,
             "#de77ae"
            ],
            [
             0.3,
             "#f1b6da"
            ],
            [
             0.4,
             "#fde0ef"
            ],
            [
             0.5,
             "#f7f7f7"
            ],
            [
             0.6,
             "#e6f5d0"
            ],
            [
             0.7,
             "#b8e186"
            ],
            [
             0.8,
             "#7fbc41"
            ],
            [
             0.9,
             "#4d9221"
            ],
            [
             1,
             "#276419"
            ]
           ],
           "sequential": [
            [
             0,
             "#0d0887"
            ],
            [
             0.1111111111111111,
             "#46039f"
            ],
            [
             0.2222222222222222,
             "#7201a8"
            ],
            [
             0.3333333333333333,
             "#9c179e"
            ],
            [
             0.4444444444444444,
             "#bd3786"
            ],
            [
             0.5555555555555556,
             "#d8576b"
            ],
            [
             0.6666666666666666,
             "#ed7953"
            ],
            [
             0.7777777777777778,
             "#fb9f3a"
            ],
            [
             0.8888888888888888,
             "#fdca26"
            ],
            [
             1,
             "#f0f921"
            ]
           ],
           "sequentialminus": [
            [
             0,
             "#0d0887"
            ],
            [
             0.1111111111111111,
             "#46039f"
            ],
            [
             0.2222222222222222,
             "#7201a8"
            ],
            [
             0.3333333333333333,
             "#9c179e"
            ],
            [
             0.4444444444444444,
             "#bd3786"
            ],
            [
             0.5555555555555556,
             "#d8576b"
            ],
            [
             0.6666666666666666,
             "#ed7953"
            ],
            [
             0.7777777777777778,
             "#fb9f3a"
            ],
            [
             0.8888888888888888,
             "#fdca26"
            ],
            [
             1,
             "#f0f921"
            ]
           ]
          },
          "colorway": [
           "#636efa",
           "#EF553B",
           "#00cc96",
           "#ab63fa",
           "#FFA15A",
           "#19d3f3",
           "#FF6692",
           "#B6E880",
           "#FF97FF",
           "#FECB52"
          ],
          "font": {
           "color": "#2a3f5f"
          },
          "geo": {
           "bgcolor": "white",
           "lakecolor": "white",
           "landcolor": "#E5ECF6",
           "showlakes": true,
           "showland": true,
           "subunitcolor": "white"
          },
          "hoverlabel": {
           "align": "left"
          },
          "hovermode": "closest",
          "mapbox": {
           "style": "light"
          },
          "paper_bgcolor": "white",
          "plot_bgcolor": "#E5ECF6",
          "polar": {
           "angularaxis": {
            "gridcolor": "white",
            "linecolor": "white",
            "ticks": ""
           },
           "bgcolor": "#E5ECF6",
           "radialaxis": {
            "gridcolor": "white",
            "linecolor": "white",
            "ticks": ""
           }
          },
          "scene": {
           "xaxis": {
            "backgroundcolor": "#E5ECF6",
            "gridcolor": "white",
            "gridwidth": 2,
            "linecolor": "white",
            "showbackground": true,
            "ticks": "",
            "zerolinecolor": "white"
           },
           "yaxis": {
            "backgroundcolor": "#E5ECF6",
            "gridcolor": "white",
            "gridwidth": 2,
            "linecolor": "white",
            "showbackground": true,
            "ticks": "",
            "zerolinecolor": "white"
           },
           "zaxis": {
            "backgroundcolor": "#E5ECF6",
            "gridcolor": "white",
            "gridwidth": 2,
            "linecolor": "white",
            "showbackground": true,
            "ticks": "",
            "zerolinecolor": "white"
           }
          },
          "shapedefaults": {
           "line": {
            "color": "#2a3f5f"
           }
          },
          "ternary": {
           "aaxis": {
            "gridcolor": "white",
            "linecolor": "white",
            "ticks": ""
           },
           "baxis": {
            "gridcolor": "white",
            "linecolor": "white",
            "ticks": ""
           },
           "bgcolor": "#E5ECF6",
           "caxis": {
            "gridcolor": "white",
            "linecolor": "white",
            "ticks": ""
           }
          },
          "title": {
           "x": 0.05
          },
          "xaxis": {
           "automargin": true,
           "gridcolor": "white",
           "linecolor": "white",
           "ticks": "",
           "title": {
            "standoff": 15
           },
           "zerolinecolor": "white",
           "zerolinewidth": 2
          },
          "yaxis": {
           "automargin": true,
           "gridcolor": "white",
           "linecolor": "white",
           "ticks": "",
           "title": {
            "standoff": 15
           },
           "zerolinecolor": "white",
           "zerolinewidth": 2
          }
         }
        },
        "xaxis": {
         "anchor": "y",
         "domain": [
          0,
          1
         ],
         "title": {
          "text": "crestAfterCarn"
         }
        },
        "yaxis": {
         "anchor": "x",
         "domain": [
          0,
          1
         ],
         "title": {
          "text": "waterHeight"
         }
        }
       }
      }
     },
     "metadata": {},
     "output_type": "display_data"
    }
   ],
   "source": [
    "# crests_df[['crestAfterFalls']]\n",
    "import plotly.express as px\n",
    "fig = px.scatter(crests_df[crests_df['gaugeId'].str.startswith(\"SVPA\") &\n",
    "  (crests_df['flood']!=\"2021 - November\") &\n",
    " (crests_df['riverMile']<22)], x=\"crestAfterCarn\", y=\"waterHeight\", color='gaugeId', hover_data=['flood','gaugeName'])\n",
    "fig.show()"
   ]
  },
  {
   "cell_type": "code",
   "execution_count": 78,
   "metadata": {},
   "outputs": [
    {
     "data": {
      "text/html": [
       "<div>\n",
       "<style scoped>\n",
       "    .dataframe tbody tr th:only-of-type {\n",
       "        vertical-align: middle;\n",
       "    }\n",
       "\n",
       "    .dataframe tbody tr th {\n",
       "        vertical-align: top;\n",
       "    }\n",
       "\n",
       "    .dataframe thead th {\n",
       "        text-align: right;\n",
       "    }\n",
       "</style>\n",
       "<table border=\"1\" class=\"dataframe\">\n",
       "  <thead>\n",
       "    <tr style=\"text-align: right;\">\n",
       "      <th></th>\n",
       "      <th>gaugeId</th>\n",
       "      <th>crestAfterFalls</th>\n",
       "    </tr>\n",
       "  </thead>\n",
       "  <tbody>\n",
       "    <tr>\n",
       "      <th>0</th>\n",
       "      <td>SVPA-12</td>\n",
       "      <td>24.142991</td>\n",
       "    </tr>\n",
       "    <tr>\n",
       "      <th>1</th>\n",
       "      <td>SVPA-15</td>\n",
       "      <td>25.644444</td>\n",
       "    </tr>\n",
       "    <tr>\n",
       "      <th>2</th>\n",
       "      <td>SVPA-15B</td>\n",
       "      <td>23.532083</td>\n",
       "    </tr>\n",
       "    <tr>\n",
       "      <th>3</th>\n",
       "      <td>SVPA-17</td>\n",
       "      <td>24.793722</td>\n",
       "    </tr>\n",
       "    <tr>\n",
       "      <th>4</th>\n",
       "      <td>SVPA-25</td>\n",
       "      <td>6.812465</td>\n",
       "    </tr>\n",
       "    <tr>\n",
       "      <th>5</th>\n",
       "      <td>SVPA-26</td>\n",
       "      <td>7.873364</td>\n",
       "    </tr>\n",
       "    <tr>\n",
       "      <th>6</th>\n",
       "      <td>SVPA-33</td>\n",
       "      <td>2.861717</td>\n",
       "    </tr>\n",
       "    <tr>\n",
       "      <th>7</th>\n",
       "      <td>SVPA-34</td>\n",
       "      <td>4.134556</td>\n",
       "    </tr>\n",
       "    <tr>\n",
       "      <th>8</th>\n",
       "      <td>SVPA-36</td>\n",
       "      <td>2.249398</td>\n",
       "    </tr>\n",
       "    <tr>\n",
       "      <th>9</th>\n",
       "      <td>SVPA-37</td>\n",
       "      <td>0.992806</td>\n",
       "    </tr>\n",
       "  </tbody>\n",
       "</table>\n",
       "</div>"
      ],
      "text/plain": [
       "    gaugeId  crestAfterFalls\n",
       "0   SVPA-12        24.142991\n",
       "1   SVPA-15        25.644444\n",
       "2  SVPA-15B        23.532083\n",
       "3   SVPA-17        24.793722\n",
       "4   SVPA-25         6.812465\n",
       "5   SVPA-26         7.873364\n",
       "6   SVPA-33         2.861717\n",
       "7   SVPA-34         4.134556\n",
       "8   SVPA-36         2.249398\n",
       "9   SVPA-37         0.992806"
      ]
     },
     "execution_count": 78,
     "metadata": {},
     "output_type": "execute_result"
    }
   ],
   "source": [
    "falls_means = crests_df[crests_df['gaugeId'].str.startswith(\"SVPA\")][['gaugeId','gaugeName','crestAfterFalls']].groupby(['gaugeId']).mean().reset_index()\n",
    "falls_means"
   ]
  },
  {
   "cell_type": "code",
   "execution_count": 82,
   "metadata": {},
   "outputs": [
    {
     "name": "stdout",
     "output_type": "stream",
     "text": [
      "[7.04389174e-31] 4.134556000000001\n",
      "10 0.0\n"
     ]
    }
   ],
   "source": [
    "from sklearn import linear_model\n",
    "def build_basic_model(x_gauge_id:str, predicted_hours:float):\n",
    "    x_gauge_df = crests_df[crests_df['gaugeId']==x_gauge_id]\n",
    "    X = np.array(x_gauge_df['crestAfterFalls']).reshape(-1,1)\n",
    "    y = [predicted_hours] * len(X)\n",
    "    regr = linear_model.LinearRegression()\n",
    "    regr.fit(X,y)\n",
    "    score = regr.score(X,y)\n",
    "    print(regr.coef_, regr.intercept_)\n",
    "    print(len(y), score)\n",
    "    return regr, len(y), score, X, y\n",
    "\n",
    "model,n,score,X,y = build_basic_model('SVPA-34', 4.134556)"
   ]
  },
  {
   "cell_type": "code",
   "execution_count": 83,
   "metadata": {},
   "outputs": [
    {
     "data": {
      "image/png": "[encoded data removed]",
      "text/plain": [
       "<Figure size 432x288 with 1 Axes>"
      ]
     },
     "metadata": {
      "needs_background": "light"
     },
     "output_type": "display_data"
    }
   ],
   "source": [
    "import matplotlib.pyplot as plt\n",
    "\n",
    "def plot_model(model, X,y):\n",
    "    xfit = np.linspace(np.min(X)-1, np.max(X)+1, 1000)\n",
    "    yfit = model.predict(xfit[:, np.newaxis])\n",
    "\n",
    "    # Plot the estimated linear regression line with matplotlib:\n",
    "    plt.scatter(X, y)\n",
    "    plt.plot(xfit, yfit);\n",
    "    plt.show()\n",
    "\n",
    "plot_model(model, X,y)"
   ]
  }
 ],
 "metadata": {
  "kernelspec": {
   "display_name": "Python 3.8.9 64-bit",
   "language": "python",
   "name": "python3"
  },
  "language_info": {
   "codemirror_mode": {
    "name": "ipython",
    "version": 3
   },
   "file_extension": ".py",
   "mimetype": "text/x-python",
   "name": "python",
   "nbconvert_exporter": "python",
   "pygments_lexer": "ipython3",
   "version": "3.8.9"
  },
  "orig_nbformat": 4,
  "vscode": {
   "interpreter": {
    "hash": "20bf69066c0dd38d51965b69d5e1b6e387082e3198ba56e97997ac55f4e50ad0"
   }
  }
 },
 "nbformat": 4,
 "nbformat_minor": 2
}
